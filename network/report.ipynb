{
 "cells": [
  {
   "cell_type": "code",
   "execution_count": 95,
   "metadata": {},
   "outputs": [],
   "source": [
    "%%capture\n",
    "%pip install pandas plotly humanize nbformat tabulate numpy"
   ]
  },
  {
   "cell_type": "code",
   "execution_count": 96,
   "metadata": {},
   "outputs": [],
   "source": [
    "import pandas as pd\n",
    "import numpy as np\n",
    "import plotly.express as px\n",
    "import datetime as dt\n",
    "import humanize\n",
    "import tabulate\n",
    "import copy"
   ]
  },
  {
   "cell_type": "code",
   "execution_count": 97,
   "metadata": {},
   "outputs": [],
   "source": [
    "def duration_to_string(x):\n",
    "    if x!= x:\n",
    "        return\n",
    "    if x<0.000001:\n",
    "        return humanize.precisedelta(dt.timedelta(seconds=x), minimum_unit='microseconds').replace('microsecond', 'µsec')\n",
    "    if x < 1:\n",
    "        return humanize.precisedelta(dt.timedelta(seconds=x), minimum_unit='milliseconds').replace('millisecond', 'msec')\n",
    "    elif x < 60:\n",
    "        return humanize.precisedelta(dt.timedelta(seconds=x), minimum_unit='seconds').replace('second', 'sec')\n",
    "    else:\n",
    "        return humanize.precisedelta(dt.timedelta(seconds=x), minimum_unit='minutes').replace('minute', 'min')\n"
   ]
  },
  {
   "cell_type": "code",
   "execution_count": 98,
   "metadata": {},
   "outputs": [],
   "source": [
    "results_paths = ['report/results.json']"
   ]
  },
  {
   "cell_type": "code",
   "execution_count": 99,
   "metadata": {},
   "outputs": [],
   "source": [
    "benches = pd.read_json(*results_paths, orient='records')\n",
    "benches = benches.rename(columns={\n",
    "    'backend': 'Backend Engine',\n",
    "    'operation': 'Query',\n",
    "    'dataset': 'Dataset',\n",
    "    'iterations': 'Iterations',\n",
    "    'dataset_size': 'Dataset Size, bytes',\n",
    "    'seconds': 'Benchmark Duration, seconds',\n",
    "})\n",
    "benches['Iteration Duration, seconds'] = benches['Benchmark Duration, seconds'] / benches['Iterations']\n",
    "benches['Iteration Duration'] = benches['Iteration Duration, seconds'].apply(duration_to_string)\n",
    "benches.loc[benches['error'] != '', ['Iteration Duration, seconds', 'Iteration Duration']] = benches['Iteration Duration, seconds'].max(),'ERROR'\n",
    "benches.loc[benches['error'] == 'NotImplementedError()', 'Iteration Duration'] = 'Not Implemented'\n",
    "benches.loc[benches['error'] == 'TimeOut', 'Iteration Duration'] = 'TimeOut'\n"
   ]
  },
  {
   "cell_type": "code",
   "execution_count": 100,
   "metadata": {},
   "outputs": [
    {
     "data": {
      "application/vnd.plotly.v1+json": {
       "config": {
        "plotlyServerURL": "https://plot.ly"
       },
       "data": [
        {
         "alignmentgroup": "True",
         "cliponaxis": false,
         "hovertemplate": "Backend Engine=CuGraph<br>Dataset=%{x}<br>Iteration Duration, seconds=%{y}<br>Iteration Duration=%{text}<extra></extra>",
         "legendgroup": "CuGraph",
         "marker": {
          "color": "#636efa",
          "pattern": {
           "shape": ""
          }
         },
         "name": "CuGraph",
         "offsetgroup": "CuGraph",
         "orientation": "v",
         "showlegend": true,
         "text": [
          "3.62 msecs",
          "18.08 msecs",
          "13.88 msecs",
          "14.37 msecs",
          "31.79 msecs",
          "54.54 msecs",
          "62.23 msecs",
          "3.13 secs",
          "3.08 secs",
          "8.27 secs"
         ],
         "textangle": -60,
         "textfont": {
          "size": 14
         },
         "textposition": "auto",
         "type": "bar",
         "x": [
          "butterfly_labels",
          "bitcoin_alpha",
          "facebook",
          "wiki_vote",
          "enron",
          "slashdot",
          "twitter",
          "wiki_topcasts",
          "live_journal",
          "orkut"
         ],
         "xaxis": "x",
         "y": [
          0.003622762897195991,
          0.018084031267470387,
          0.013879674923058596,
          0.014374451102525096,
          0.03179042894127371,
          0.05454449999950914,
          0.06223021031316117,
          3.13185173645625,
          3.081093440911795,
          8.274447356184933
         ],
         "yaxis": "y"
        },
        {
         "alignmentgroup": "True",
         "cliponaxis": false,
         "hovertemplate": "Backend Engine=NetworkX<br>Dataset=%{x}<br>Iteration Duration, seconds=%{y}<br>Iteration Duration=%{text}<extra></extra>",
         "legendgroup": "NetworkX",
         "marker": {
          "color": "#EF553B",
          "pattern": {
           "shape": ""
          }
         },
         "name": "NetworkX",
         "offsetgroup": "NetworkX",
         "orientation": "v",
         "showlegend": true,
         "text": [
          "1 µsec",
          "1 µsec",
          "1 µsec",
          "1 µsec",
          "1 µsec",
          "1 µsec",
          "1 µsec",
          "1 µsec",
          "1 µsec",
          "1 µsec"
         ],
         "textangle": -60,
         "textfont": {
          "size": 14
         },
         "textposition": "auto",
         "type": "bar",
         "x": [
          "butterfly_labels",
          "bitcoin_alpha",
          "facebook",
          "wiki_vote",
          "enron",
          "slashdot",
          "twitter",
          "wiki_topcasts",
          "live_journal",
          "orkut"
         ],
         "xaxis": "x",
         "y": [
          6.278668698071322e-7,
          6.2938200823123e-7,
          6.222833512235994e-7,
          6.189369946705286e-7,
          6.152086447478135e-7,
          6.193753474053608e-7,
          6.262725687424352e-7,
          6.210534192560739e-7,
          6.17625088573408e-7,
          6.200575236648804e-7
         ],
         "yaxis": "y"
        },
        {
         "alignmentgroup": "True",
         "cliponaxis": false,
         "hovertemplate": "Backend Engine=RetworkX<br>Dataset=%{x}<br>Iteration Duration, seconds=%{y}<br>Iteration Duration=%{text}<extra></extra>",
         "legendgroup": "RetworkX",
         "marker": {
          "color": "#00cc96",
          "pattern": {
           "shape": ""
          }
         },
         "name": "RetworkX",
         "offsetgroup": "RetworkX",
         "orientation": "v",
         "showlegend": true,
         "text": [
          "Not Implemented",
          "Not Implemented",
          "Not Implemented",
          "Not Implemented",
          "Not Implemented",
          "Not Implemented",
          "Not Implemented",
          "Not Implemented",
          "Not Implemented",
          "Not Implemented"
         ],
         "textangle": -60,
         "textfont": {
          "size": 14
         },
         "textposition": "auto",
         "type": "bar",
         "x": [
          "butterfly_labels",
          "bitcoin_alpha",
          "facebook",
          "wiki_vote",
          "enron",
          "slashdot",
          "twitter",
          "wiki_topcasts",
          "live_journal",
          "orkut"
         ],
         "xaxis": "x",
         "y": [
          7620.7039511204,
          7620.7039511204,
          7620.7039511204,
          7620.7039511204,
          7620.7039511204,
          7620.7039511204,
          7620.7039511204,
          7620.7039511204,
          7620.7039511204,
          7620.7039511204
         ],
         "yaxis": "y"
        },
        {
         "alignmentgroup": "True",
         "cliponaxis": false,
         "hovertemplate": "Backend Engine=Snap<br>Dataset=%{x}<br>Iteration Duration, seconds=%{y}<br>Iteration Duration=%{text}<extra></extra>",
         "legendgroup": "Snap",
         "marker": {
          "color": "#ab63fa",
          "pattern": {
           "shape": ""
          }
         },
         "name": "Snap",
         "offsetgroup": "Snap",
         "orientation": "v",
         "showlegend": true,
         "text": [
          "Not Implemented",
          "Not Implemented",
          "Not Implemented",
          "Not Implemented",
          "Not Implemented",
          "Not Implemented",
          "Not Implemented",
          "Not Implemented",
          "Not Implemented",
          "Not Implemented"
         ],
         "textangle": -60,
         "textfont": {
          "size": 14
         },
         "textposition": "auto",
         "type": "bar",
         "x": [
          "butterfly_labels",
          "bitcoin_alpha",
          "facebook",
          "wiki_vote",
          "enron",
          "slashdot",
          "twitter",
          "wiki_topcasts",
          "live_journal",
          "orkut"
         ],
         "xaxis": "x",
         "y": [
          7620.7039511204,
          7620.7039511204,
          7620.7039511204,
          7620.7039511204,
          7620.7039511204,
          7620.7039511204,
          7620.7039511204,
          7620.7039511204,
          7620.7039511204,
          7620.7039511204
         ],
         "yaxis": "y"
        },
        {
         "alignmentgroup": "True",
         "cliponaxis": false,
         "hovertemplate": "Backend Engine=IGraph<br>Dataset=%{x}<br>Iteration Duration, seconds=%{y}<br>Iteration Duration=%{text}<extra></extra>",
         "legendgroup": "IGraph",
         "marker": {
          "color": "#FFA15A",
          "pattern": {
           "shape": ""
          }
         },
         "name": "IGraph",
         "offsetgroup": "IGraph",
         "orientation": "v",
         "showlegend": true,
         "text": [
          "10.99 msecs",
          "2.51 secs",
          "1.36 secs",
          "8.38 secs",
          "1.23 mins",
          "3.93 mins",
          "13.65 mins",
          "TimeOut",
          "TimeOut",
          "TimeOut"
         ],
         "textangle": -60,
         "textfont": {
          "size": 14
         },
         "textposition": "auto",
         "type": "bar",
         "x": [
          "butterfly_labels",
          "bitcoin_alpha",
          "facebook",
          "wiki_vote",
          "enron",
          "slashdot",
          "twitter",
          "wiki_topcasts",
          "live_journal",
          "orkut"
         ],
         "xaxis": "x",
         "y": [
          0.010989648613656427,
          2.5060876220466666,
          1.3560625139801354,
          8.377176215251389,
          74.33968514866666,
          236.2534517447,
          819.472358942,
          7620.7039511204,
          7620.7039511204,
          7620.7039511204
         ],
         "yaxis": "y"
        }
       ],
       "layout": {
        "bargap": 0.3,
        "bargroupgap": 0.1,
        "barmode": "group",
        "legend": {
         "orientation": "h",
         "title": {
          "text": "Backend Engine"
         },
         "tracegroupgap": 0,
         "x": 0.5,
         "xanchor": "center",
         "y": 1,
         "yanchor": "bottom"
        },
        "template": {
         "data": {
          "bar": [
           {
            "error_x": {
             "color": "#2a3f5f"
            },
            "error_y": {
             "color": "#2a3f5f"
            },
            "marker": {
             "line": {
              "color": "#E5ECF6",
              "width": 0.5
             },
             "pattern": {
              "fillmode": "overlay",
              "size": 10,
              "solidity": 0.2
             }
            },
            "type": "bar"
           }
          ],
          "barpolar": [
           {
            "marker": {
             "line": {
              "color": "#E5ECF6",
              "width": 0.5
             },
             "pattern": {
              "fillmode": "overlay",
              "size": 10,
              "solidity": 0.2
             }
            },
            "type": "barpolar"
           }
          ],
          "carpet": [
           {
            "aaxis": {
             "endlinecolor": "#2a3f5f",
             "gridcolor": "white",
             "linecolor": "white",
             "minorgridcolor": "white",
             "startlinecolor": "#2a3f5f"
            },
            "baxis": {
             "endlinecolor": "#2a3f5f",
             "gridcolor": "white",
             "linecolor": "white",
             "minorgridcolor": "white",
             "startlinecolor": "#2a3f5f"
            },
            "type": "carpet"
           }
          ],
          "choropleth": [
           {
            "colorbar": {
             "outlinewidth": 0,
             "ticks": ""
            },
            "type": "choropleth"
           }
          ],
          "contour": [
           {
            "colorbar": {
             "outlinewidth": 0,
             "ticks": ""
            },
            "colorscale": [
             [
              0,
              "#0d0887"
             ],
             [
              0.1111111111111111,
              "#46039f"
             ],
             [
              0.2222222222222222,
              "#7201a8"
             ],
             [
              0.3333333333333333,
              "#9c179e"
             ],
             [
              0.4444444444444444,
              "#bd3786"
             ],
             [
              0.5555555555555556,
              "#d8576b"
             ],
             [
              0.6666666666666666,
              "#ed7953"
             ],
             [
              0.7777777777777778,
              "#fb9f3a"
             ],
             [
              0.8888888888888888,
              "#fdca26"
             ],
             [
              1,
              "#f0f921"
             ]
            ],
            "type": "contour"
           }
          ],
          "contourcarpet": [
           {
            "colorbar": {
             "outlinewidth": 0,
             "ticks": ""
            },
            "type": "contourcarpet"
           }
          ],
          "heatmap": [
           {
            "colorbar": {
             "outlinewidth": 0,
             "ticks": ""
            },
            "colorscale": [
             [
              0,
              "#0d0887"
             ],
             [
              0.1111111111111111,
              "#46039f"
             ],
             [
              0.2222222222222222,
              "#7201a8"
             ],
             [
              0.3333333333333333,
              "#9c179e"
             ],
             [
              0.4444444444444444,
              "#bd3786"
             ],
             [
              0.5555555555555556,
              "#d8576b"
             ],
             [
              0.6666666666666666,
              "#ed7953"
             ],
             [
              0.7777777777777778,
              "#fb9f3a"
             ],
             [
              0.8888888888888888,
              "#fdca26"
             ],
             [
              1,
              "#f0f921"
             ]
            ],
            "type": "heatmap"
           }
          ],
          "heatmapgl": [
           {
            "colorbar": {
             "outlinewidth": 0,
             "ticks": ""
            },
            "colorscale": [
             [
              0,
              "#0d0887"
             ],
             [
              0.1111111111111111,
              "#46039f"
             ],
             [
              0.2222222222222222,
              "#7201a8"
             ],
             [
              0.3333333333333333,
              "#9c179e"
             ],
             [
              0.4444444444444444,
              "#bd3786"
             ],
             [
              0.5555555555555556,
              "#d8576b"
             ],
             [
              0.6666666666666666,
              "#ed7953"
             ],
             [
              0.7777777777777778,
              "#fb9f3a"
             ],
             [
              0.8888888888888888,
              "#fdca26"
             ],
             [
              1,
              "#f0f921"
             ]
            ],
            "type": "heatmapgl"
           }
          ],
          "histogram": [
           {
            "marker": {
             "pattern": {
              "fillmode": "overlay",
              "size": 10,
              "solidity": 0.2
             }
            },
            "type": "histogram"
           }
          ],
          "histogram2d": [
           {
            "colorbar": {
             "outlinewidth": 0,
             "ticks": ""
            },
            "colorscale": [
             [
              0,
              "#0d0887"
             ],
             [
              0.1111111111111111,
              "#46039f"
             ],
             [
              0.2222222222222222,
              "#7201a8"
             ],
             [
              0.3333333333333333,
              "#9c179e"
             ],
             [
              0.4444444444444444,
              "#bd3786"
             ],
             [
              0.5555555555555556,
              "#d8576b"
             ],
             [
              0.6666666666666666,
              "#ed7953"
             ],
             [
              0.7777777777777778,
              "#fb9f3a"
             ],
             [
              0.8888888888888888,
              "#fdca26"
             ],
             [
              1,
              "#f0f921"
             ]
            ],
            "type": "histogram2d"
           }
          ],
          "histogram2dcontour": [
           {
            "colorbar": {
             "outlinewidth": 0,
             "ticks": ""
            },
            "colorscale": [
             [
              0,
              "#0d0887"
             ],
             [
              0.1111111111111111,
              "#46039f"
             ],
             [
              0.2222222222222222,
              "#7201a8"
             ],
             [
              0.3333333333333333,
              "#9c179e"
             ],
             [
              0.4444444444444444,
              "#bd3786"
             ],
             [
              0.5555555555555556,
              "#d8576b"
             ],
             [
              0.6666666666666666,
              "#ed7953"
             ],
             [
              0.7777777777777778,
              "#fb9f3a"
             ],
             [
              0.8888888888888888,
              "#fdca26"
             ],
             [
              1,
              "#f0f921"
             ]
            ],
            "type": "histogram2dcontour"
           }
          ],
          "mesh3d": [
           {
            "colorbar": {
             "outlinewidth": 0,
             "ticks": ""
            },
            "type": "mesh3d"
           }
          ],
          "parcoords": [
           {
            "line": {
             "colorbar": {
              "outlinewidth": 0,
              "ticks": ""
             }
            },
            "type": "parcoords"
           }
          ],
          "pie": [
           {
            "automargin": true,
            "type": "pie"
           }
          ],
          "scatter": [
           {
            "fillpattern": {
             "fillmode": "overlay",
             "size": 10,
             "solidity": 0.2
            },
            "type": "scatter"
           }
          ],
          "scatter3d": [
           {
            "line": {
             "colorbar": {
              "outlinewidth": 0,
              "ticks": ""
             }
            },
            "marker": {
             "colorbar": {
              "outlinewidth": 0,
              "ticks": ""
             }
            },
            "type": "scatter3d"
           }
          ],
          "scattercarpet": [
           {
            "marker": {
             "colorbar": {
              "outlinewidth": 0,
              "ticks": ""
             }
            },
            "type": "scattercarpet"
           }
          ],
          "scattergeo": [
           {
            "marker": {
             "colorbar": {
              "outlinewidth": 0,
              "ticks": ""
             }
            },
            "type": "scattergeo"
           }
          ],
          "scattergl": [
           {
            "marker": {
             "colorbar": {
              "outlinewidth": 0,
              "ticks": ""
             }
            },
            "type": "scattergl"
           }
          ],
          "scattermapbox": [
           {
            "marker": {
             "colorbar": {
              "outlinewidth": 0,
              "ticks": ""
             }
            },
            "type": "scattermapbox"
           }
          ],
          "scatterpolar": [
           {
            "marker": {
             "colorbar": {
              "outlinewidth": 0,
              "ticks": ""
             }
            },
            "type": "scatterpolar"
           }
          ],
          "scatterpolargl": [
           {
            "marker": {
             "colorbar": {
              "outlinewidth": 0,
              "ticks": ""
             }
            },
            "type": "scatterpolargl"
           }
          ],
          "scatterternary": [
           {
            "marker": {
             "colorbar": {
              "outlinewidth": 0,
              "ticks": ""
             }
            },
            "type": "scatterternary"
           }
          ],
          "surface": [
           {
            "colorbar": {
             "outlinewidth": 0,
             "ticks": ""
            },
            "colorscale": [
             [
              0,
              "#0d0887"
             ],
             [
              0.1111111111111111,
              "#46039f"
             ],
             [
              0.2222222222222222,
              "#7201a8"
             ],
             [
              0.3333333333333333,
              "#9c179e"
             ],
             [
              0.4444444444444444,
              "#bd3786"
             ],
             [
              0.5555555555555556,
              "#d8576b"
             ],
             [
              0.6666666666666666,
              "#ed7953"
             ],
             [
              0.7777777777777778,
              "#fb9f3a"
             ],
             [
              0.8888888888888888,
              "#fdca26"
             ],
             [
              1,
              "#f0f921"
             ]
            ],
            "type": "surface"
           }
          ],
          "table": [
           {
            "cells": {
             "fill": {
              "color": "#EBF0F8"
             },
             "line": {
              "color": "white"
             }
            },
            "header": {
             "fill": {
              "color": "#C8D4E3"
             },
             "line": {
              "color": "white"
             }
            },
            "type": "table"
           }
          ]
         },
         "layout": {
          "annotationdefaults": {
           "arrowcolor": "#2a3f5f",
           "arrowhead": 0,
           "arrowwidth": 1
          },
          "autotypenumbers": "strict",
          "coloraxis": {
           "colorbar": {
            "outlinewidth": 0,
            "ticks": ""
           }
          },
          "colorscale": {
           "diverging": [
            [
             0,
             "#8e0152"
            ],
            [
             0.1,
             "#c51b7d"
            ],
            [
             0.2,
             "#de77ae"
            ],
            [
             0.3,
             "#f1b6da"
            ],
            [
             0.4,
             "#fde0ef"
            ],
            [
             0.5,
             "#f7f7f7"
            ],
            [
             0.6,
             "#e6f5d0"
            ],
            [
             0.7,
             "#b8e186"
            ],
            [
             0.8,
             "#7fbc41"
            ],
            [
             0.9,
             "#4d9221"
            ],
            [
             1,
             "#276419"
            ]
           ],
           "sequential": [
            [
             0,
             "#0d0887"
            ],
            [
             0.1111111111111111,
             "#46039f"
            ],
            [
             0.2222222222222222,
             "#7201a8"
            ],
            [
             0.3333333333333333,
             "#9c179e"
            ],
            [
             0.4444444444444444,
             "#bd3786"
            ],
            [
             0.5555555555555556,
             "#d8576b"
            ],
            [
             0.6666666666666666,
             "#ed7953"
            ],
            [
             0.7777777777777778,
             "#fb9f3a"
            ],
            [
             0.8888888888888888,
             "#fdca26"
            ],
            [
             1,
             "#f0f921"
            ]
           ],
           "sequentialminus": [
            [
             0,
             "#0d0887"
            ],
            [
             0.1111111111111111,
             "#46039f"
            ],
            [
             0.2222222222222222,
             "#7201a8"
            ],
            [
             0.3333333333333333,
             "#9c179e"
            ],
            [
             0.4444444444444444,
             "#bd3786"
            ],
            [
             0.5555555555555556,
             "#d8576b"
            ],
            [
             0.6666666666666666,
             "#ed7953"
            ],
            [
             0.7777777777777778,
             "#fb9f3a"
            ],
            [
             0.8888888888888888,
             "#fdca26"
            ],
            [
             1,
             "#f0f921"
            ]
           ]
          },
          "colorway": [
           "#636efa",
           "#EF553B",
           "#00cc96",
           "#ab63fa",
           "#FFA15A",
           "#19d3f3",
           "#FF6692",
           "#B6E880",
           "#FF97FF",
           "#FECB52"
          ],
          "font": {
           "color": "#2a3f5f"
          },
          "geo": {
           "bgcolor": "white",
           "lakecolor": "white",
           "landcolor": "#E5ECF6",
           "showlakes": true,
           "showland": true,
           "subunitcolor": "white"
          },
          "hoverlabel": {
           "align": "left"
          },
          "hovermode": "closest",
          "mapbox": {
           "style": "light"
          },
          "paper_bgcolor": "white",
          "plot_bgcolor": "#E5ECF6",
          "polar": {
           "angularaxis": {
            "gridcolor": "white",
            "linecolor": "white",
            "ticks": ""
           },
           "bgcolor": "#E5ECF6",
           "radialaxis": {
            "gridcolor": "white",
            "linecolor": "white",
            "ticks": ""
           }
          },
          "scene": {
           "xaxis": {
            "backgroundcolor": "#E5ECF6",
            "gridcolor": "white",
            "gridwidth": 2,
            "linecolor": "white",
            "showbackground": true,
            "ticks": "",
            "zerolinecolor": "white"
           },
           "yaxis": {
            "backgroundcolor": "#E5ECF6",
            "gridcolor": "white",
            "gridwidth": 2,
            "linecolor": "white",
            "showbackground": true,
            "ticks": "",
            "zerolinecolor": "white"
           },
           "zaxis": {
            "backgroundcolor": "#E5ECF6",
            "gridcolor": "white",
            "gridwidth": 2,
            "linecolor": "white",
            "showbackground": true,
            "ticks": "",
            "zerolinecolor": "white"
           }
          },
          "shapedefaults": {
           "line": {
            "color": "#2a3f5f"
           }
          },
          "ternary": {
           "aaxis": {
            "gridcolor": "white",
            "linecolor": "white",
            "ticks": ""
           },
           "baxis": {
            "gridcolor": "white",
            "linecolor": "white",
            "ticks": ""
           },
           "bgcolor": "#E5ECF6",
           "caxis": {
            "gridcolor": "white",
            "linecolor": "white",
            "ticks": ""
           }
          },
          "title": {
           "x": 0.05
          },
          "xaxis": {
           "automargin": true,
           "gridcolor": "white",
           "linecolor": "white",
           "ticks": "",
           "title": {
            "standoff": 15
           },
           "zerolinecolor": "white",
           "zerolinewidth": 2
          },
          "yaxis": {
           "automargin": true,
           "gridcolor": "white",
           "linecolor": "white",
           "ticks": "",
           "title": {
            "standoff": 15
           },
           "zerolinecolor": "white",
           "zerolinewidth": 2
          }
         }
        },
        "title": {
         "text": "Community Detection",
         "x": 0.5
        },
        "xaxis": {
         "anchor": "y",
         "domain": [
          0,
          1
         ],
         "showgrid": false,
         "title": {
          "text": "Dataset"
         }
        },
        "yaxis": {
         "anchor": "x",
         "domain": [
          0,
          1
         ],
         "showgrid": true,
         "title": {
          "text": "Iteration Duration, seconds"
         },
         "type": "log"
        }
       }
      },
      "text/html": [
       "<div>                            <div id=\"a64c1e1e-c161-40d8-b9aa-32e49e4ff7de\" class=\"plotly-graph-div\" style=\"height:525px; width:100%;\"></div>            <script type=\"text/javascript\">                require([\"plotly\"], function(Plotly) {                    window.PLOTLYENV=window.PLOTLYENV || {};                                    if (document.getElementById(\"a64c1e1e-c161-40d8-b9aa-32e49e4ff7de\")) {                    Plotly.newPlot(                        \"a64c1e1e-c161-40d8-b9aa-32e49e4ff7de\",                        [{\"alignmentgroup\":\"True\",\"hovertemplate\":\"Backend Engine=CuGraph<br>Dataset=%{x}<br>Iteration Duration, seconds=%{y}<br>Iteration Duration=%{text}<extra></extra>\",\"legendgroup\":\"CuGraph\",\"marker\":{\"color\":\"#636efa\",\"pattern\":{\"shape\":\"\"}},\"name\":\"CuGraph\",\"offsetgroup\":\"CuGraph\",\"orientation\":\"v\",\"showlegend\":true,\"text\":[\"3.62 msecs\",\"18.08 msecs\",\"13.88 msecs\",\"14.37 msecs\",\"31.79 msecs\",\"54.54 msecs\",\"62.23 msecs\",\"3.13 secs\",\"3.08 secs\",\"8.27 secs\"],\"textposition\":\"auto\",\"x\":[\"butterfly_labels\",\"bitcoin_alpha\",\"facebook\",\"wiki_vote\",\"enron\",\"slashdot\",\"twitter\",\"wiki_topcasts\",\"live_journal\",\"orkut\"],\"xaxis\":\"x\",\"y\":[0.003622762897195991,0.018084031267470387,0.013879674923058596,0.014374451102525096,0.03179042894127371,0.05454449999950914,0.06223021031316117,3.13185173645625,3.081093440911795,8.274447356184933],\"yaxis\":\"y\",\"type\":\"bar\",\"textfont\":{\"size\":14},\"cliponaxis\":false,\"textangle\":-60},{\"alignmentgroup\":\"True\",\"hovertemplate\":\"Backend Engine=NetworkX<br>Dataset=%{x}<br>Iteration Duration, seconds=%{y}<br>Iteration Duration=%{text}<extra></extra>\",\"legendgroup\":\"NetworkX\",\"marker\":{\"color\":\"#EF553B\",\"pattern\":{\"shape\":\"\"}},\"name\":\"NetworkX\",\"offsetgroup\":\"NetworkX\",\"orientation\":\"v\",\"showlegend\":true,\"text\":[\"1 \\u00b5sec\",\"1 \\u00b5sec\",\"1 \\u00b5sec\",\"1 \\u00b5sec\",\"1 \\u00b5sec\",\"1 \\u00b5sec\",\"1 \\u00b5sec\",\"1 \\u00b5sec\",\"1 \\u00b5sec\",\"1 \\u00b5sec\"],\"textposition\":\"auto\",\"x\":[\"butterfly_labels\",\"bitcoin_alpha\",\"facebook\",\"wiki_vote\",\"enron\",\"slashdot\",\"twitter\",\"wiki_topcasts\",\"live_journal\",\"orkut\"],\"xaxis\":\"x\",\"y\":[6.278668698071322e-07,6.2938200823123e-07,6.222833512235994e-07,6.189369946705286e-07,6.152086447478135e-07,6.193753474053608e-07,6.262725687424352e-07,6.210534192560739e-07,6.17625088573408e-07,6.200575236648804e-07],\"yaxis\":\"y\",\"type\":\"bar\",\"textfont\":{\"size\":14},\"cliponaxis\":false,\"textangle\":-60},{\"alignmentgroup\":\"True\",\"hovertemplate\":\"Backend Engine=RetworkX<br>Dataset=%{x}<br>Iteration Duration, seconds=%{y}<br>Iteration Duration=%{text}<extra></extra>\",\"legendgroup\":\"RetworkX\",\"marker\":{\"color\":\"#00cc96\",\"pattern\":{\"shape\":\"\"}},\"name\":\"RetworkX\",\"offsetgroup\":\"RetworkX\",\"orientation\":\"v\",\"showlegend\":true,\"text\":[\"Not Implemented\",\"Not Implemented\",\"Not Implemented\",\"Not Implemented\",\"Not Implemented\",\"Not Implemented\",\"Not Implemented\",\"Not Implemented\",\"Not Implemented\",\"Not Implemented\"],\"textposition\":\"auto\",\"x\":[\"butterfly_labels\",\"bitcoin_alpha\",\"facebook\",\"wiki_vote\",\"enron\",\"slashdot\",\"twitter\",\"wiki_topcasts\",\"live_journal\",\"orkut\"],\"xaxis\":\"x\",\"y\":[7620.7039511204,7620.7039511204,7620.7039511204,7620.7039511204,7620.7039511204,7620.7039511204,7620.7039511204,7620.7039511204,7620.7039511204,7620.7039511204],\"yaxis\":\"y\",\"type\":\"bar\",\"textfont\":{\"size\":14},\"cliponaxis\":false,\"textangle\":-60},{\"alignmentgroup\":\"True\",\"hovertemplate\":\"Backend Engine=Snap<br>Dataset=%{x}<br>Iteration Duration, seconds=%{y}<br>Iteration Duration=%{text}<extra></extra>\",\"legendgroup\":\"Snap\",\"marker\":{\"color\":\"#ab63fa\",\"pattern\":{\"shape\":\"\"}},\"name\":\"Snap\",\"offsetgroup\":\"Snap\",\"orientation\":\"v\",\"showlegend\":true,\"text\":[\"Not Implemented\",\"Not Implemented\",\"Not Implemented\",\"Not Implemented\",\"Not Implemented\",\"Not Implemented\",\"Not Implemented\",\"Not Implemented\",\"Not Implemented\",\"Not Implemented\"],\"textposition\":\"auto\",\"x\":[\"butterfly_labels\",\"bitcoin_alpha\",\"facebook\",\"wiki_vote\",\"enron\",\"slashdot\",\"twitter\",\"wiki_topcasts\",\"live_journal\",\"orkut\"],\"xaxis\":\"x\",\"y\":[7620.7039511204,7620.7039511204,7620.7039511204,7620.7039511204,7620.7039511204,7620.7039511204,7620.7039511204,7620.7039511204,7620.7039511204,7620.7039511204],\"yaxis\":\"y\",\"type\":\"bar\",\"textfont\":{\"size\":14},\"cliponaxis\":false,\"textangle\":-60},{\"alignmentgroup\":\"True\",\"hovertemplate\":\"Backend Engine=IGraph<br>Dataset=%{x}<br>Iteration Duration, seconds=%{y}<br>Iteration Duration=%{text}<extra></extra>\",\"legendgroup\":\"IGraph\",\"marker\":{\"color\":\"#FFA15A\",\"pattern\":{\"shape\":\"\"}},\"name\":\"IGraph\",\"offsetgroup\":\"IGraph\",\"orientation\":\"v\",\"showlegend\":true,\"text\":[\"10.99 msecs\",\"2.51 secs\",\"1.36 secs\",\"8.38 secs\",\"1.23 mins\",\"3.93 mins\",\"13.65 mins\",\"TimeOut\",\"TimeOut\",\"TimeOut\"],\"textposition\":\"auto\",\"x\":[\"butterfly_labels\",\"bitcoin_alpha\",\"facebook\",\"wiki_vote\",\"enron\",\"slashdot\",\"twitter\",\"wiki_topcasts\",\"live_journal\",\"orkut\"],\"xaxis\":\"x\",\"y\":[0.010989648613656427,2.5060876220466666,1.3560625139801354,8.377176215251389,74.33968514866666,236.2534517447,819.472358942,7620.7039511204,7620.7039511204,7620.7039511204],\"yaxis\":\"y\",\"type\":\"bar\",\"textfont\":{\"size\":14},\"cliponaxis\":false,\"textangle\":-60}],                        {\"template\":{\"data\":{\"histogram2dcontour\":[{\"type\":\"histogram2dcontour\",\"colorbar\":{\"outlinewidth\":0,\"ticks\":\"\"},\"colorscale\":[[0.0,\"#0d0887\"],[0.1111111111111111,\"#46039f\"],[0.2222222222222222,\"#7201a8\"],[0.3333333333333333,\"#9c179e\"],[0.4444444444444444,\"#bd3786\"],[0.5555555555555556,\"#d8576b\"],[0.6666666666666666,\"#ed7953\"],[0.7777777777777778,\"#fb9f3a\"],[0.8888888888888888,\"#fdca26\"],[1.0,\"#f0f921\"]]}],\"choropleth\":[{\"type\":\"choropleth\",\"colorbar\":{\"outlinewidth\":0,\"ticks\":\"\"}}],\"histogram2d\":[{\"type\":\"histogram2d\",\"colorbar\":{\"outlinewidth\":0,\"ticks\":\"\"},\"colorscale\":[[0.0,\"#0d0887\"],[0.1111111111111111,\"#46039f\"],[0.2222222222222222,\"#7201a8\"],[0.3333333333333333,\"#9c179e\"],[0.4444444444444444,\"#bd3786\"],[0.5555555555555556,\"#d8576b\"],[0.6666666666666666,\"#ed7953\"],[0.7777777777777778,\"#fb9f3a\"],[0.8888888888888888,\"#fdca26\"],[1.0,\"#f0f921\"]]}],\"heatmap\":[{\"type\":\"heatmap\",\"colorbar\":{\"outlinewidth\":0,\"ticks\":\"\"},\"colorscale\":[[0.0,\"#0d0887\"],[0.1111111111111111,\"#46039f\"],[0.2222222222222222,\"#7201a8\"],[0.3333333333333333,\"#9c179e\"],[0.4444444444444444,\"#bd3786\"],[0.5555555555555556,\"#d8576b\"],[0.6666666666666666,\"#ed7953\"],[0.7777777777777778,\"#fb9f3a\"],[0.8888888888888888,\"#fdca26\"],[1.0,\"#f0f921\"]]}],\"heatmapgl\":[{\"type\":\"heatmapgl\",\"colorbar\":{\"outlinewidth\":0,\"ticks\":\"\"},\"colorscale\":[[0.0,\"#0d0887\"],[0.1111111111111111,\"#46039f\"],[0.2222222222222222,\"#7201a8\"],[0.3333333333333333,\"#9c179e\"],[0.4444444444444444,\"#bd3786\"],[0.5555555555555556,\"#d8576b\"],[0.6666666666666666,\"#ed7953\"],[0.7777777777777778,\"#fb9f3a\"],[0.8888888888888888,\"#fdca26\"],[1.0,\"#f0f921\"]]}],\"contourcarpet\":[{\"type\":\"contourcarpet\",\"colorbar\":{\"outlinewidth\":0,\"ticks\":\"\"}}],\"contour\":[{\"type\":\"contour\",\"colorbar\":{\"outlinewidth\":0,\"ticks\":\"\"},\"colorscale\":[[0.0,\"#0d0887\"],[0.1111111111111111,\"#46039f\"],[0.2222222222222222,\"#7201a8\"],[0.3333333333333333,\"#9c179e\"],[0.4444444444444444,\"#bd3786\"],[0.5555555555555556,\"#d8576b\"],[0.6666666666666666,\"#ed7953\"],[0.7777777777777778,\"#fb9f3a\"],[0.8888888888888888,\"#fdca26\"],[1.0,\"#f0f921\"]]}],\"surface\":[{\"type\":\"surface\",\"colorbar\":{\"outlinewidth\":0,\"ticks\":\"\"},\"colorscale\":[[0.0,\"#0d0887\"],[0.1111111111111111,\"#46039f\"],[0.2222222222222222,\"#7201a8\"],[0.3333333333333333,\"#9c179e\"],[0.4444444444444444,\"#bd3786\"],[0.5555555555555556,\"#d8576b\"],[0.6666666666666666,\"#ed7953\"],[0.7777777777777778,\"#fb9f3a\"],[0.8888888888888888,\"#fdca26\"],[1.0,\"#f0f921\"]]}],\"mesh3d\":[{\"type\":\"mesh3d\",\"colorbar\":{\"outlinewidth\":0,\"ticks\":\"\"}}],\"scatter\":[{\"fillpattern\":{\"fillmode\":\"overlay\",\"size\":10,\"solidity\":0.2},\"type\":\"scatter\"}],\"parcoords\":[{\"type\":\"parcoords\",\"line\":{\"colorbar\":{\"outlinewidth\":0,\"ticks\":\"\"}}}],\"scatterpolargl\":[{\"type\":\"scatterpolargl\",\"marker\":{\"colorbar\":{\"outlinewidth\":0,\"ticks\":\"\"}}}],\"bar\":[{\"error_x\":{\"color\":\"#2a3f5f\"},\"error_y\":{\"color\":\"#2a3f5f\"},\"marker\":{\"line\":{\"color\":\"#E5ECF6\",\"width\":0.5},\"pattern\":{\"fillmode\":\"overlay\",\"size\":10,\"solidity\":0.2}},\"type\":\"bar\"}],\"scattergeo\":[{\"type\":\"scattergeo\",\"marker\":{\"colorbar\":{\"outlinewidth\":0,\"ticks\":\"\"}}}],\"scatterpolar\":[{\"type\":\"scatterpolar\",\"marker\":{\"colorbar\":{\"outlinewidth\":0,\"ticks\":\"\"}}}],\"histogram\":[{\"marker\":{\"pattern\":{\"fillmode\":\"overlay\",\"size\":10,\"solidity\":0.2}},\"type\":\"histogram\"}],\"scattergl\":[{\"type\":\"scattergl\",\"marker\":{\"colorbar\":{\"outlinewidth\":0,\"ticks\":\"\"}}}],\"scatter3d\":[{\"type\":\"scatter3d\",\"line\":{\"colorbar\":{\"outlinewidth\":0,\"ticks\":\"\"}},\"marker\":{\"colorbar\":{\"outlinewidth\":0,\"ticks\":\"\"}}}],\"scattermapbox\":[{\"type\":\"scattermapbox\",\"marker\":{\"colorbar\":{\"outlinewidth\":0,\"ticks\":\"\"}}}],\"scatterternary\":[{\"type\":\"scatterternary\",\"marker\":{\"colorbar\":{\"outlinewidth\":0,\"ticks\":\"\"}}}],\"scattercarpet\":[{\"type\":\"scattercarpet\",\"marker\":{\"colorbar\":{\"outlinewidth\":0,\"ticks\":\"\"}}}],\"carpet\":[{\"aaxis\":{\"endlinecolor\":\"#2a3f5f\",\"gridcolor\":\"white\",\"linecolor\":\"white\",\"minorgridcolor\":\"white\",\"startlinecolor\":\"#2a3f5f\"},\"baxis\":{\"endlinecolor\":\"#2a3f5f\",\"gridcolor\":\"white\",\"linecolor\":\"white\",\"minorgridcolor\":\"white\",\"startlinecolor\":\"#2a3f5f\"},\"type\":\"carpet\"}],\"table\":[{\"cells\":{\"fill\":{\"color\":\"#EBF0F8\"},\"line\":{\"color\":\"white\"}},\"header\":{\"fill\":{\"color\":\"#C8D4E3\"},\"line\":{\"color\":\"white\"}},\"type\":\"table\"}],\"barpolar\":[{\"marker\":{\"line\":{\"color\":\"#E5ECF6\",\"width\":0.5},\"pattern\":{\"fillmode\":\"overlay\",\"size\":10,\"solidity\":0.2}},\"type\":\"barpolar\"}],\"pie\":[{\"automargin\":true,\"type\":\"pie\"}]},\"layout\":{\"autotypenumbers\":\"strict\",\"colorway\":[\"#636efa\",\"#EF553B\",\"#00cc96\",\"#ab63fa\",\"#FFA15A\",\"#19d3f3\",\"#FF6692\",\"#B6E880\",\"#FF97FF\",\"#FECB52\"],\"font\":{\"color\":\"#2a3f5f\"},\"hovermode\":\"closest\",\"hoverlabel\":{\"align\":\"left\"},\"paper_bgcolor\":\"white\",\"plot_bgcolor\":\"#E5ECF6\",\"polar\":{\"bgcolor\":\"#E5ECF6\",\"angularaxis\":{\"gridcolor\":\"white\",\"linecolor\":\"white\",\"ticks\":\"\"},\"radialaxis\":{\"gridcolor\":\"white\",\"linecolor\":\"white\",\"ticks\":\"\"}},\"ternary\":{\"bgcolor\":\"#E5ECF6\",\"aaxis\":{\"gridcolor\":\"white\",\"linecolor\":\"white\",\"ticks\":\"\"},\"baxis\":{\"gridcolor\":\"white\",\"linecolor\":\"white\",\"ticks\":\"\"},\"caxis\":{\"gridcolor\":\"white\",\"linecolor\":\"white\",\"ticks\":\"\"}},\"coloraxis\":{\"colorbar\":{\"outlinewidth\":0,\"ticks\":\"\"}},\"colorscale\":{\"sequential\":[[0.0,\"#0d0887\"],[0.1111111111111111,\"#46039f\"],[0.2222222222222222,\"#7201a8\"],[0.3333333333333333,\"#9c179e\"],[0.4444444444444444,\"#bd3786\"],[0.5555555555555556,\"#d8576b\"],[0.6666666666666666,\"#ed7953\"],[0.7777777777777778,\"#fb9f3a\"],[0.8888888888888888,\"#fdca26\"],[1.0,\"#f0f921\"]],\"sequentialminus\":[[0.0,\"#0d0887\"],[0.1111111111111111,\"#46039f\"],[0.2222222222222222,\"#7201a8\"],[0.3333333333333333,\"#9c179e\"],[0.4444444444444444,\"#bd3786\"],[0.5555555555555556,\"#d8576b\"],[0.6666666666666666,\"#ed7953\"],[0.7777777777777778,\"#fb9f3a\"],[0.8888888888888888,\"#fdca26\"],[1.0,\"#f0f921\"]],\"diverging\":[[0,\"#8e0152\"],[0.1,\"#c51b7d\"],[0.2,\"#de77ae\"],[0.3,\"#f1b6da\"],[0.4,\"#fde0ef\"],[0.5,\"#f7f7f7\"],[0.6,\"#e6f5d0\"],[0.7,\"#b8e186\"],[0.8,\"#7fbc41\"],[0.9,\"#4d9221\"],[1,\"#276419\"]]},\"xaxis\":{\"gridcolor\":\"white\",\"linecolor\":\"white\",\"ticks\":\"\",\"title\":{\"standoff\":15},\"zerolinecolor\":\"white\",\"automargin\":true,\"zerolinewidth\":2},\"yaxis\":{\"gridcolor\":\"white\",\"linecolor\":\"white\",\"ticks\":\"\",\"title\":{\"standoff\":15},\"zerolinecolor\":\"white\",\"automargin\":true,\"zerolinewidth\":2},\"scene\":{\"xaxis\":{\"backgroundcolor\":\"#E5ECF6\",\"gridcolor\":\"white\",\"linecolor\":\"white\",\"showbackground\":true,\"ticks\":\"\",\"zerolinecolor\":\"white\",\"gridwidth\":2},\"yaxis\":{\"backgroundcolor\":\"#E5ECF6\",\"gridcolor\":\"white\",\"linecolor\":\"white\",\"showbackground\":true,\"ticks\":\"\",\"zerolinecolor\":\"white\",\"gridwidth\":2},\"zaxis\":{\"backgroundcolor\":\"#E5ECF6\",\"gridcolor\":\"white\",\"linecolor\":\"white\",\"showbackground\":true,\"ticks\":\"\",\"zerolinecolor\":\"white\",\"gridwidth\":2}},\"shapedefaults\":{\"line\":{\"color\":\"#2a3f5f\"}},\"annotationdefaults\":{\"arrowcolor\":\"#2a3f5f\",\"arrowhead\":0,\"arrowwidth\":1},\"geo\":{\"bgcolor\":\"white\",\"landcolor\":\"#E5ECF6\",\"subunitcolor\":\"white\",\"showland\":true,\"showlakes\":true,\"lakecolor\":\"white\"},\"title\":{\"x\":0.05},\"mapbox\":{\"style\":\"light\"}}},\"xaxis\":{\"anchor\":\"y\",\"domain\":[0.0,1.0],\"title\":{\"text\":\"Dataset\"},\"showgrid\":false},\"yaxis\":{\"anchor\":\"x\",\"domain\":[0.0,1.0],\"title\":{\"text\":\"Iteration Duration, seconds\"},\"type\":\"log\",\"showgrid\":true},\"legend\":{\"title\":{\"text\":\"Backend Engine\"},\"tracegroupgap\":0,\"orientation\":\"h\",\"yanchor\":\"bottom\",\"y\":1,\"x\":0.5,\"xanchor\":\"center\"},\"title\":{\"text\":\"Community Detection\",\"x\":0.5},\"barmode\":\"group\",\"bargap\":0.3,\"bargroupgap\":0.1},                        {\"responsive\": true}                    ).then(function(){\n",
       "                            \n",
       "var gd = document.getElementById('a64c1e1e-c161-40d8-b9aa-32e49e4ff7de');\n",
       "var x = new MutationObserver(function (mutations, observer) {{\n",
       "        var display = window.getComputedStyle(gd).display;\n",
       "        if (!display || display === 'none') {{\n",
       "            console.log([gd, 'removed!']);\n",
       "            Plotly.purge(gd);\n",
       "            observer.disconnect();\n",
       "        }}\n",
       "}});\n",
       "\n",
       "// Listen for the removal of the full notebook cells\n",
       "var notebookContainer = gd.closest('#notebook-container');\n",
       "if (notebookContainer) {{\n",
       "    x.observe(notebookContainer, {childList: true});\n",
       "}}\n",
       "\n",
       "// Listen for the clearing of the current output cell\n",
       "var outputEl = gd.closest('.output');\n",
       "if (outputEl) {{\n",
       "    x.observe(outputEl, {childList: true});\n",
       "}}\n",
       "\n",
       "                        })                };                });            </script>        </div>"
      ]
     },
     "metadata": {},
     "output_type": "display_data"
    },
    {
     "data": {
      "application/vnd.plotly.v1+json": {
       "config": {
        "plotlyServerURL": "https://plot.ly"
       },
       "data": [
        {
         "alignmentgroup": "True",
         "cliponaxis": false,
         "hovertemplate": "Backend Engine=CuGraph<br>Dataset=%{x}<br>Iteration Duration, seconds=%{y}<br>Iteration Duration=%{text}<extra></extra>",
         "legendgroup": "CuGraph",
         "marker": {
          "color": "#636efa",
          "pattern": {
           "shape": ""
          }
         },
         "name": "CuGraph",
         "offsetgroup": "CuGraph",
         "orientation": "v",
         "showlegend": true,
         "text": [
          "129.38 msecs",
          "201.62 msecs",
          "189.26 msecs",
          "248.94 msecs",
          "353.97 msecs",
          "486.97 msecs",
          "585.01 msecs",
          "22.57 secs",
          "1.53 mins",
          "1.12 mins"
         ],
         "textangle": -60,
         "textfont": {
          "size": 14
         },
         "textposition": "auto",
         "type": "bar",
         "x": [
          "butterfly_labels",
          "bitcoin_alpha",
          "facebook",
          "wiki_vote",
          "enron",
          "slashdot",
          "twitter",
          "wiki_topcasts",
          "live_journal",
          "orkut"
         ],
         "xaxis": "x",
         "y": [
          0.12938258816528675,
          0.20162187444586693,
          0.18925971414944812,
          0.2489397597975529,
          0.3539712662404481,
          0.486969360373236,
          0.585010898973002,
          22.567852920955556,
          92.3922431469,
          67.58758332994445
         ],
         "yaxis": "y"
        },
        {
         "alignmentgroup": "True",
         "cliponaxis": false,
         "hovertemplate": "Backend Engine=NetworkX<br>Dataset=%{x}<br>Iteration Duration, seconds=%{y}<br>Iteration Duration=%{text}<extra></extra>",
         "legendgroup": "NetworkX",
         "marker": {
          "color": "#EF553B",
          "pattern": {
           "shape": ""
          }
         },
         "name": "NetworkX",
         "offsetgroup": "NetworkX",
         "orientation": "v",
         "showlegend": true,
         "text": [
          "2.88 secs",
          "32.69 secs",
          "37.33 secs",
          "1.67 mins",
          "35.57 mins",
          "TimeOut",
          "TimeOut",
          "TimeOut",
          "TimeOut",
          "TimeOut"
         ],
         "textangle": -60,
         "textfont": {
          "size": 14
         },
         "textposition": "auto",
         "type": "bar",
         "x": [
          "butterfly_labels",
          "bitcoin_alpha",
          "facebook",
          "wiki_vote",
          "enron",
          "slashdot",
          "twitter",
          "wiki_topcasts",
          "live_journal",
          "orkut"
         ],
         "xaxis": "x",
         "y": [
          2.8762586093976075,
          32.686741678336844,
          37.32791226050588,
          100.18872733911667,
          2134.2611722946,
          7620.7039511204,
          7620.7039511204,
          7620.7039511204,
          7620.7039511204,
          7620.7039511204
         ],
         "yaxis": "y"
        },
        {
         "alignmentgroup": "True",
         "cliponaxis": false,
         "hovertemplate": "Backend Engine=RetworkX<br>Dataset=%{x}<br>Iteration Duration, seconds=%{y}<br>Iteration Duration=%{text}<extra></extra>",
         "legendgroup": "RetworkX",
         "marker": {
          "color": "#00cc96",
          "pattern": {
           "shape": ""
          }
         },
         "name": "RetworkX",
         "offsetgroup": "RetworkX",
         "orientation": "v",
         "showlegend": true,
         "text": [
          "237.40 msecs",
          "19.55 secs",
          "5.69 secs",
          "23.49 secs",
          "7.62 mins",
          "33.88 mins",
          "TimeOut",
          "TimeOut",
          "TimeOut",
          "TimeOut"
         ],
         "textangle": -60,
         "textfont": {
          "size": 14
         },
         "textposition": "auto",
         "type": "bar",
         "x": [
          "butterfly_labels",
          "bitcoin_alpha",
          "facebook",
          "wiki_vote",
          "enron",
          "slashdot",
          "twitter",
          "wiki_topcasts",
          "live_journal",
          "orkut"
         ],
         "xaxis": "x",
         "y": [
          0.23740187145862343,
          19.553518841341933,
          5.686022803468868,
          23.49435147872308,
          457.7833161354,
          2033.5030007362,
          7620.7039511204,
          7620.7039511204,
          7620.7039511204,
          7620.7039511204
         ],
         "yaxis": "y"
        },
        {
         "alignmentgroup": "True",
         "cliponaxis": false,
         "hovertemplate": "Backend Engine=Snap<br>Dataset=%{x}<br>Iteration Duration, seconds=%{y}<br>Iteration Duration=%{text}<extra></extra>",
         "legendgroup": "Snap",
         "marker": {
          "color": "#ab63fa",
          "pattern": {
           "shape": ""
          }
         },
         "name": "Snap",
         "offsetgroup": "Snap",
         "orientation": "v",
         "showlegend": true,
         "text": [
          "Not Implemented",
          "Not Implemented",
          "Not Implemented",
          "Not Implemented",
          "Not Implemented",
          "Not Implemented",
          "Not Implemented",
          "Not Implemented",
          "Not Implemented",
          "Not Implemented"
         ],
         "textangle": -60,
         "textfont": {
          "size": 14
         },
         "textposition": "auto",
         "type": "bar",
         "x": [
          "butterfly_labels",
          "bitcoin_alpha",
          "facebook",
          "wiki_vote",
          "enron",
          "slashdot",
          "twitter",
          "wiki_topcasts",
          "live_journal",
          "orkut"
         ],
         "xaxis": "x",
         "y": [
          7620.7039511204,
          7620.7039511204,
          7620.7039511204,
          7620.7039511204,
          7620.7039511204,
          7620.7039511204,
          7620.7039511204,
          7620.7039511204,
          7620.7039511204,
          7620.7039511204
         ],
         "yaxis": "y"
        },
        {
         "alignmentgroup": "True",
         "cliponaxis": false,
         "hovertemplate": "Backend Engine=IGraph<br>Dataset=%{x}<br>Iteration Duration, seconds=%{y}<br>Iteration Duration=%{text}<extra></extra>",
         "legendgroup": "IGraph",
         "marker": {
          "color": "#FFA15A",
          "pattern": {
           "shape": ""
          }
         },
         "name": "IGraph",
         "offsetgroup": "IGraph",
         "orientation": "v",
         "showlegend": true,
         "text": [
          "847.12 msecs",
          "472.80 msecs",
          "689.92 msecs",
          "1.15 secs",
          "4.78 secs",
          "11.58 secs",
          "16.71 secs",
          "7.32 mins",
          "26.33 mins",
          "TimeOut"
         ],
         "textangle": -60,
         "textfont": {
          "size": 14
         },
         "textposition": "auto",
         "type": "bar",
         "x": [
          "butterfly_labels",
          "bitcoin_alpha",
          "facebook",
          "wiki_vote",
          "enron",
          "slashdot",
          "twitter",
          "wiki_topcasts",
          "live_journal",
          "orkut"
         ],
         "xaxis": "x",
         "y": [
          0.8471249229313117,
          0.47280086138118105,
          0.6899165082251724,
          1.1530087708053742,
          4.775991594980952,
          11.580615722215384,
          16.714076161383332,
          439.3374733925,
          1580.2535052299,
          7620.7039511204
         ],
         "yaxis": "y"
        }
       ],
       "layout": {
        "bargap": 0.3,
        "bargroupgap": 0.1,
        "barmode": "group",
        "legend": {
         "orientation": "h",
         "title": {
          "text": "Backend Engine"
         },
         "tracegroupgap": 0,
         "x": 0.5,
         "xanchor": "center",
         "y": 1,
         "yanchor": "bottom"
        },
        "template": {
         "data": {
          "bar": [
           {
            "error_x": {
             "color": "#2a3f5f"
            },
            "error_y": {
             "color": "#2a3f5f"
            },
            "marker": {
             "line": {
              "color": "#E5ECF6",
              "width": 0.5
             },
             "pattern": {
              "fillmode": "overlay",
              "size": 10,
              "solidity": 0.2
             }
            },
            "type": "bar"
           }
          ],
          "barpolar": [
           {
            "marker": {
             "line": {
              "color": "#E5ECF6",
              "width": 0.5
             },
             "pattern": {
              "fillmode": "overlay",
              "size": 10,
              "solidity": 0.2
             }
            },
            "type": "barpolar"
           }
          ],
          "carpet": [
           {
            "aaxis": {
             "endlinecolor": "#2a3f5f",
             "gridcolor": "white",
             "linecolor": "white",
             "minorgridcolor": "white",
             "startlinecolor": "#2a3f5f"
            },
            "baxis": {
             "endlinecolor": "#2a3f5f",
             "gridcolor": "white",
             "linecolor": "white",
             "minorgridcolor": "white",
             "startlinecolor": "#2a3f5f"
            },
            "type": "carpet"
           }
          ],
          "choropleth": [
           {
            "colorbar": {
             "outlinewidth": 0,
             "ticks": ""
            },
            "type": "choropleth"
           }
          ],
          "contour": [
           {
            "colorbar": {
             "outlinewidth": 0,
             "ticks": ""
            },
            "colorscale": [
             [
              0,
              "#0d0887"
             ],
             [
              0.1111111111111111,
              "#46039f"
             ],
             [
              0.2222222222222222,
              "#7201a8"
             ],
             [
              0.3333333333333333,
              "#9c179e"
             ],
             [
              0.4444444444444444,
              "#bd3786"
             ],
             [
              0.5555555555555556,
              "#d8576b"
             ],
             [
              0.6666666666666666,
              "#ed7953"
             ],
             [
              0.7777777777777778,
              "#fb9f3a"
             ],
             [
              0.8888888888888888,
              "#fdca26"
             ],
             [
              1,
              "#f0f921"
             ]
            ],
            "type": "contour"
           }
          ],
          "contourcarpet": [
           {
            "colorbar": {
             "outlinewidth": 0,
             "ticks": ""
            },
            "type": "contourcarpet"
           }
          ],
          "heatmap": [
           {
            "colorbar": {
             "outlinewidth": 0,
             "ticks": ""
            },
            "colorscale": [
             [
              0,
              "#0d0887"
             ],
             [
              0.1111111111111111,
              "#46039f"
             ],
             [
              0.2222222222222222,
              "#7201a8"
             ],
             [
              0.3333333333333333,
              "#9c179e"
             ],
             [
              0.4444444444444444,
              "#bd3786"
             ],
             [
              0.5555555555555556,
              "#d8576b"
             ],
             [
              0.6666666666666666,
              "#ed7953"
             ],
             [
              0.7777777777777778,
              "#fb9f3a"
             ],
             [
              0.8888888888888888,
              "#fdca26"
             ],
             [
              1,
              "#f0f921"
             ]
            ],
            "type": "heatmap"
           }
          ],
          "heatmapgl": [
           {
            "colorbar": {
             "outlinewidth": 0,
             "ticks": ""
            },
            "colorscale": [
             [
              0,
              "#0d0887"
             ],
             [
              0.1111111111111111,
              "#46039f"
             ],
             [
              0.2222222222222222,
              "#7201a8"
             ],
             [
              0.3333333333333333,
              "#9c179e"
             ],
             [
              0.4444444444444444,
              "#bd3786"
             ],
             [
              0.5555555555555556,
              "#d8576b"
             ],
             [
              0.6666666666666666,
              "#ed7953"
             ],
             [
              0.7777777777777778,
              "#fb9f3a"
             ],
             [
              0.8888888888888888,
              "#fdca26"
             ],
             [
              1,
              "#f0f921"
             ]
            ],
            "type": "heatmapgl"
           }
          ],
          "histogram": [
           {
            "marker": {
             "pattern": {
              "fillmode": "overlay",
              "size": 10,
              "solidity": 0.2
             }
            },
            "type": "histogram"
           }
          ],
          "histogram2d": [
           {
            "colorbar": {
             "outlinewidth": 0,
             "ticks": ""
            },
            "colorscale": [
             [
              0,
              "#0d0887"
             ],
             [
              0.1111111111111111,
              "#46039f"
             ],
             [
              0.2222222222222222,
              "#7201a8"
             ],
             [
              0.3333333333333333,
              "#9c179e"
             ],
             [
              0.4444444444444444,
              "#bd3786"
             ],
             [
              0.5555555555555556,
              "#d8576b"
             ],
             [
              0.6666666666666666,
              "#ed7953"
             ],
             [
              0.7777777777777778,
              "#fb9f3a"
             ],
             [
              0.8888888888888888,
              "#fdca26"
             ],
             [
              1,
              "#f0f921"
             ]
            ],
            "type": "histogram2d"
           }
          ],
          "histogram2dcontour": [
           {
            "colorbar": {
             "outlinewidth": 0,
             "ticks": ""
            },
            "colorscale": [
             [
              0,
              "#0d0887"
             ],
             [
              0.1111111111111111,
              "#46039f"
             ],
             [
              0.2222222222222222,
              "#7201a8"
             ],
             [
              0.3333333333333333,
              "#9c179e"
             ],
             [
              0.4444444444444444,
              "#bd3786"
             ],
             [
              0.5555555555555556,
              "#d8576b"
             ],
             [
              0.6666666666666666,
              "#ed7953"
             ],
             [
              0.7777777777777778,
              "#fb9f3a"
             ],
             [
              0.8888888888888888,
              "#fdca26"
             ],
             [
              1,
              "#f0f921"
             ]
            ],
            "type": "histogram2dcontour"
           }
          ],
          "mesh3d": [
           {
            "colorbar": {
             "outlinewidth": 0,
             "ticks": ""
            },
            "type": "mesh3d"
           }
          ],
          "parcoords": [
           {
            "line": {
             "colorbar": {
              "outlinewidth": 0,
              "ticks": ""
             }
            },
            "type": "parcoords"
           }
          ],
          "pie": [
           {
            "automargin": true,
            "type": "pie"
           }
          ],
          "scatter": [
           {
            "fillpattern": {
             "fillmode": "overlay",
             "size": 10,
             "solidity": 0.2
            },
            "type": "scatter"
           }
          ],
          "scatter3d": [
           {
            "line": {
             "colorbar": {
              "outlinewidth": 0,
              "ticks": ""
             }
            },
            "marker": {
             "colorbar": {
              "outlinewidth": 0,
              "ticks": ""
             }
            },
            "type": "scatter3d"
           }
          ],
          "scattercarpet": [
           {
            "marker": {
             "colorbar": {
              "outlinewidth": 0,
              "ticks": ""
             }
            },
            "type": "scattercarpet"
           }
          ],
          "scattergeo": [
           {
            "marker": {
             "colorbar": {
              "outlinewidth": 0,
              "ticks": ""
             }
            },
            "type": "scattergeo"
           }
          ],
          "scattergl": [
           {
            "marker": {
             "colorbar": {
              "outlinewidth": 0,
              "ticks": ""
             }
            },
            "type": "scattergl"
           }
          ],
          "scattermapbox": [
           {
            "marker": {
             "colorbar": {
              "outlinewidth": 0,
              "ticks": ""
             }
            },
            "type": "scattermapbox"
           }
          ],
          "scatterpolar": [
           {
            "marker": {
             "colorbar": {
              "outlinewidth": 0,
              "ticks": ""
             }
            },
            "type": "scatterpolar"
           }
          ],
          "scatterpolargl": [
           {
            "marker": {
             "colorbar": {
              "outlinewidth": 0,
              "ticks": ""
             }
            },
            "type": "scatterpolargl"
           }
          ],
          "scatterternary": [
           {
            "marker": {
             "colorbar": {
              "outlinewidth": 0,
              "ticks": ""
             }
            },
            "type": "scatterternary"
           }
          ],
          "surface": [
           {
            "colorbar": {
             "outlinewidth": 0,
             "ticks": ""
            },
            "colorscale": [
             [
              0,
              "#0d0887"
             ],
             [
              0.1111111111111111,
              "#46039f"
             ],
             [
              0.2222222222222222,
              "#7201a8"
             ],
             [
              0.3333333333333333,
              "#9c179e"
             ],
             [
              0.4444444444444444,
              "#bd3786"
             ],
             [
              0.5555555555555556,
              "#d8576b"
             ],
             [
              0.6666666666666666,
              "#ed7953"
             ],
             [
              0.7777777777777778,
              "#fb9f3a"
             ],
             [
              0.8888888888888888,
              "#fdca26"
             ],
             [
              1,
              "#f0f921"
             ]
            ],
            "type": "surface"
           }
          ],
          "table": [
           {
            "cells": {
             "fill": {
              "color": "#EBF0F8"
             },
             "line": {
              "color": "white"
             }
            },
            "header": {
             "fill": {
              "color": "#C8D4E3"
             },
             "line": {
              "color": "white"
             }
            },
            "type": "table"
           }
          ]
         },
         "layout": {
          "annotationdefaults": {
           "arrowcolor": "#2a3f5f",
           "arrowhead": 0,
           "arrowwidth": 1
          },
          "autotypenumbers": "strict",
          "coloraxis": {
           "colorbar": {
            "outlinewidth": 0,
            "ticks": ""
           }
          },
          "colorscale": {
           "diverging": [
            [
             0,
             "#8e0152"
            ],
            [
             0.1,
             "#c51b7d"
            ],
            [
             0.2,
             "#de77ae"
            ],
            [
             0.3,
             "#f1b6da"
            ],
            [
             0.4,
             "#fde0ef"
            ],
            [
             0.5,
             "#f7f7f7"
            ],
            [
             0.6,
             "#e6f5d0"
            ],
            [
             0.7,
             "#b8e186"
            ],
            [
             0.8,
             "#7fbc41"
            ],
            [
             0.9,
             "#4d9221"
            ],
            [
             1,
             "#276419"
            ]
           ],
           "sequential": [
            [
             0,
             "#0d0887"
            ],
            [
             0.1111111111111111,
             "#46039f"
            ],
            [
             0.2222222222222222,
             "#7201a8"
            ],
            [
             0.3333333333333333,
             "#9c179e"
            ],
            [
             0.4444444444444444,
             "#bd3786"
            ],
            [
             0.5555555555555556,
             "#d8576b"
            ],
            [
             0.6666666666666666,
             "#ed7953"
            ],
            [
             0.7777777777777778,
             "#fb9f3a"
            ],
            [
             0.8888888888888888,
             "#fdca26"
            ],
            [
             1,
             "#f0f921"
            ]
           ],
           "sequentialminus": [
            [
             0,
             "#0d0887"
            ],
            [
             0.1111111111111111,
             "#46039f"
            ],
            [
             0.2222222222222222,
             "#7201a8"
            ],
            [
             0.3333333333333333,
             "#9c179e"
            ],
            [
             0.4444444444444444,
             "#bd3786"
            ],
            [
             0.5555555555555556,
             "#d8576b"
            ],
            [
             0.6666666666666666,
             "#ed7953"
            ],
            [
             0.7777777777777778,
             "#fb9f3a"
            ],
            [
             0.8888888888888888,
             "#fdca26"
            ],
            [
             1,
             "#f0f921"
            ]
           ]
          },
          "colorway": [
           "#636efa",
           "#EF553B",
           "#00cc96",
           "#ab63fa",
           "#FFA15A",
           "#19d3f3",
           "#FF6692",
           "#B6E880",
           "#FF97FF",
           "#FECB52"
          ],
          "font": {
           "color": "#2a3f5f"
          },
          "geo": {
           "bgcolor": "white",
           "lakecolor": "white",
           "landcolor": "#E5ECF6",
           "showlakes": true,
           "showland": true,
           "subunitcolor": "white"
          },
          "hoverlabel": {
           "align": "left"
          },
          "hovermode": "closest",
          "mapbox": {
           "style": "light"
          },
          "paper_bgcolor": "white",
          "plot_bgcolor": "#E5ECF6",
          "polar": {
           "angularaxis": {
            "gridcolor": "white",
            "linecolor": "white",
            "ticks": ""
           },
           "bgcolor": "#E5ECF6",
           "radialaxis": {
            "gridcolor": "white",
            "linecolor": "white",
            "ticks": ""
           }
          },
          "scene": {
           "xaxis": {
            "backgroundcolor": "#E5ECF6",
            "gridcolor": "white",
            "gridwidth": 2,
            "linecolor": "white",
            "showbackground": true,
            "ticks": "",
            "zerolinecolor": "white"
           },
           "yaxis": {
            "backgroundcolor": "#E5ECF6",
            "gridcolor": "white",
            "gridwidth": 2,
            "linecolor": "white",
            "showbackground": true,
            "ticks": "",
            "zerolinecolor": "white"
           },
           "zaxis": {
            "backgroundcolor": "#E5ECF6",
            "gridcolor": "white",
            "gridwidth": 2,
            "linecolor": "white",
            "showbackground": true,
            "ticks": "",
            "zerolinecolor": "white"
           }
          },
          "shapedefaults": {
           "line": {
            "color": "#2a3f5f"
           }
          },
          "ternary": {
           "aaxis": {
            "gridcolor": "white",
            "linecolor": "white",
            "ticks": ""
           },
           "baxis": {
            "gridcolor": "white",
            "linecolor": "white",
            "ticks": ""
           },
           "bgcolor": "#E5ECF6",
           "caxis": {
            "gridcolor": "white",
            "linecolor": "white",
            "ticks": ""
           }
          },
          "title": {
           "x": 0.05
          },
          "xaxis": {
           "automargin": true,
           "gridcolor": "white",
           "linecolor": "white",
           "ticks": "",
           "title": {
            "standoff": 15
           },
           "zerolinecolor": "white",
           "zerolinewidth": 2
          },
          "yaxis": {
           "automargin": true,
           "gridcolor": "white",
           "linecolor": "white",
           "ticks": "",
           "title": {
            "standoff": 15
           },
           "zerolinecolor": "white",
           "zerolinewidth": 2
          }
         }
        },
        "title": {
         "text": "Force Layout",
         "x": 0.5
        },
        "xaxis": {
         "anchor": "y",
         "domain": [
          0,
          1
         ],
         "showgrid": false,
         "title": {
          "text": "Dataset"
         }
        },
        "yaxis": {
         "anchor": "x",
         "domain": [
          0,
          1
         ],
         "showgrid": true,
         "title": {
          "text": "Iteration Duration, seconds"
         },
         "type": "log"
        }
       }
      },
      "text/html": [
       "<div>                            <div id=\"f332e2b1-7597-4c2a-8c54-d755bf4a1860\" class=\"plotly-graph-div\" style=\"height:525px; width:100%;\"></div>            <script type=\"text/javascript\">                require([\"plotly\"], function(Plotly) {                    window.PLOTLYENV=window.PLOTLYENV || {};                                    if (document.getElementById(\"f332e2b1-7597-4c2a-8c54-d755bf4a1860\")) {                    Plotly.newPlot(                        \"f332e2b1-7597-4c2a-8c54-d755bf4a1860\",                        [{\"alignmentgroup\":\"True\",\"hovertemplate\":\"Backend Engine=CuGraph<br>Dataset=%{x}<br>Iteration Duration, seconds=%{y}<br>Iteration Duration=%{text}<extra></extra>\",\"legendgroup\":\"CuGraph\",\"marker\":{\"color\":\"#636efa\",\"pattern\":{\"shape\":\"\"}},\"name\":\"CuGraph\",\"offsetgroup\":\"CuGraph\",\"orientation\":\"v\",\"showlegend\":true,\"text\":[\"129.38 msecs\",\"201.62 msecs\",\"189.26 msecs\",\"248.94 msecs\",\"353.97 msecs\",\"486.97 msecs\",\"585.01 msecs\",\"22.57 secs\",\"1.53 mins\",\"1.12 mins\"],\"textposition\":\"auto\",\"x\":[\"butterfly_labels\",\"bitcoin_alpha\",\"facebook\",\"wiki_vote\",\"enron\",\"slashdot\",\"twitter\",\"wiki_topcasts\",\"live_journal\",\"orkut\"],\"xaxis\":\"x\",\"y\":[0.12938258816528675,0.20162187444586693,0.18925971414944812,0.2489397597975529,0.3539712662404481,0.486969360373236,0.585010898973002,22.567852920955556,92.3922431469,67.58758332994445],\"yaxis\":\"y\",\"type\":\"bar\",\"textfont\":{\"size\":14},\"cliponaxis\":false,\"textangle\":-60},{\"alignmentgroup\":\"True\",\"hovertemplate\":\"Backend Engine=NetworkX<br>Dataset=%{x}<br>Iteration Duration, seconds=%{y}<br>Iteration Duration=%{text}<extra></extra>\",\"legendgroup\":\"NetworkX\",\"marker\":{\"color\":\"#EF553B\",\"pattern\":{\"shape\":\"\"}},\"name\":\"NetworkX\",\"offsetgroup\":\"NetworkX\",\"orientation\":\"v\",\"showlegend\":true,\"text\":[\"2.88 secs\",\"32.69 secs\",\"37.33 secs\",\"1.67 mins\",\"35.57 mins\",\"TimeOut\",\"TimeOut\",\"TimeOut\",\"TimeOut\",\"TimeOut\"],\"textposition\":\"auto\",\"x\":[\"butterfly_labels\",\"bitcoin_alpha\",\"facebook\",\"wiki_vote\",\"enron\",\"slashdot\",\"twitter\",\"wiki_topcasts\",\"live_journal\",\"orkut\"],\"xaxis\":\"x\",\"y\":[2.8762586093976075,32.686741678336844,37.32791226050588,100.18872733911667,2134.2611722946,7620.7039511204,7620.7039511204,7620.7039511204,7620.7039511204,7620.7039511204],\"yaxis\":\"y\",\"type\":\"bar\",\"textfont\":{\"size\":14},\"cliponaxis\":false,\"textangle\":-60},{\"alignmentgroup\":\"True\",\"hovertemplate\":\"Backend Engine=RetworkX<br>Dataset=%{x}<br>Iteration Duration, seconds=%{y}<br>Iteration Duration=%{text}<extra></extra>\",\"legendgroup\":\"RetworkX\",\"marker\":{\"color\":\"#00cc96\",\"pattern\":{\"shape\":\"\"}},\"name\":\"RetworkX\",\"offsetgroup\":\"RetworkX\",\"orientation\":\"v\",\"showlegend\":true,\"text\":[\"237.40 msecs\",\"19.55 secs\",\"5.69 secs\",\"23.49 secs\",\"7.62 mins\",\"33.88 mins\",\"TimeOut\",\"TimeOut\",\"TimeOut\",\"TimeOut\"],\"textposition\":\"auto\",\"x\":[\"butterfly_labels\",\"bitcoin_alpha\",\"facebook\",\"wiki_vote\",\"enron\",\"slashdot\",\"twitter\",\"wiki_topcasts\",\"live_journal\",\"orkut\"],\"xaxis\":\"x\",\"y\":[0.23740187145862343,19.553518841341933,5.686022803468868,23.49435147872308,457.7833161354,2033.5030007362,7620.7039511204,7620.7039511204,7620.7039511204,7620.7039511204],\"yaxis\":\"y\",\"type\":\"bar\",\"textfont\":{\"size\":14},\"cliponaxis\":false,\"textangle\":-60},{\"alignmentgroup\":\"True\",\"hovertemplate\":\"Backend Engine=Snap<br>Dataset=%{x}<br>Iteration Duration, seconds=%{y}<br>Iteration Duration=%{text}<extra></extra>\",\"legendgroup\":\"Snap\",\"marker\":{\"color\":\"#ab63fa\",\"pattern\":{\"shape\":\"\"}},\"name\":\"Snap\",\"offsetgroup\":\"Snap\",\"orientation\":\"v\",\"showlegend\":true,\"text\":[\"Not Implemented\",\"Not Implemented\",\"Not Implemented\",\"Not Implemented\",\"Not Implemented\",\"Not Implemented\",\"Not Implemented\",\"Not Implemented\",\"Not Implemented\",\"Not Implemented\"],\"textposition\":\"auto\",\"x\":[\"butterfly_labels\",\"bitcoin_alpha\",\"facebook\",\"wiki_vote\",\"enron\",\"slashdot\",\"twitter\",\"wiki_topcasts\",\"live_journal\",\"orkut\"],\"xaxis\":\"x\",\"y\":[7620.7039511204,7620.7039511204,7620.7039511204,7620.7039511204,7620.7039511204,7620.7039511204,7620.7039511204,7620.7039511204,7620.7039511204,7620.7039511204],\"yaxis\":\"y\",\"type\":\"bar\",\"textfont\":{\"size\":14},\"cliponaxis\":false,\"textangle\":-60},{\"alignmentgroup\":\"True\",\"hovertemplate\":\"Backend Engine=IGraph<br>Dataset=%{x}<br>Iteration Duration, seconds=%{y}<br>Iteration Duration=%{text}<extra></extra>\",\"legendgroup\":\"IGraph\",\"marker\":{\"color\":\"#FFA15A\",\"pattern\":{\"shape\":\"\"}},\"name\":\"IGraph\",\"offsetgroup\":\"IGraph\",\"orientation\":\"v\",\"showlegend\":true,\"text\":[\"847.12 msecs\",\"472.80 msecs\",\"689.92 msecs\",\"1.15 secs\",\"4.78 secs\",\"11.58 secs\",\"16.71 secs\",\"7.32 mins\",\"26.33 mins\",\"TimeOut\"],\"textposition\":\"auto\",\"x\":[\"butterfly_labels\",\"bitcoin_alpha\",\"facebook\",\"wiki_vote\",\"enron\",\"slashdot\",\"twitter\",\"wiki_topcasts\",\"live_journal\",\"orkut\"],\"xaxis\":\"x\",\"y\":[0.8471249229313117,0.47280086138118105,0.6899165082251724,1.1530087708053742,4.775991594980952,11.580615722215384,16.714076161383332,439.3374733925,1580.2535052299,7620.7039511204],\"yaxis\":\"y\",\"type\":\"bar\",\"textfont\":{\"size\":14},\"cliponaxis\":false,\"textangle\":-60}],                        {\"template\":{\"data\":{\"histogram2dcontour\":[{\"type\":\"histogram2dcontour\",\"colorbar\":{\"outlinewidth\":0,\"ticks\":\"\"},\"colorscale\":[[0.0,\"#0d0887\"],[0.1111111111111111,\"#46039f\"],[0.2222222222222222,\"#7201a8\"],[0.3333333333333333,\"#9c179e\"],[0.4444444444444444,\"#bd3786\"],[0.5555555555555556,\"#d8576b\"],[0.6666666666666666,\"#ed7953\"],[0.7777777777777778,\"#fb9f3a\"],[0.8888888888888888,\"#fdca26\"],[1.0,\"#f0f921\"]]}],\"choropleth\":[{\"type\":\"choropleth\",\"colorbar\":{\"outlinewidth\":0,\"ticks\":\"\"}}],\"histogram2d\":[{\"type\":\"histogram2d\",\"colorbar\":{\"outlinewidth\":0,\"ticks\":\"\"},\"colorscale\":[[0.0,\"#0d0887\"],[0.1111111111111111,\"#46039f\"],[0.2222222222222222,\"#7201a8\"],[0.3333333333333333,\"#9c179e\"],[0.4444444444444444,\"#bd3786\"],[0.5555555555555556,\"#d8576b\"],[0.6666666666666666,\"#ed7953\"],[0.7777777777777778,\"#fb9f3a\"],[0.8888888888888888,\"#fdca26\"],[1.0,\"#f0f921\"]]}],\"heatmap\":[{\"type\":\"heatmap\",\"colorbar\":{\"outlinewidth\":0,\"ticks\":\"\"},\"colorscale\":[[0.0,\"#0d0887\"],[0.1111111111111111,\"#46039f\"],[0.2222222222222222,\"#7201a8\"],[0.3333333333333333,\"#9c179e\"],[0.4444444444444444,\"#bd3786\"],[0.5555555555555556,\"#d8576b\"],[0.6666666666666666,\"#ed7953\"],[0.7777777777777778,\"#fb9f3a\"],[0.8888888888888888,\"#fdca26\"],[1.0,\"#f0f921\"]]}],\"heatmapgl\":[{\"type\":\"heatmapgl\",\"colorbar\":{\"outlinewidth\":0,\"ticks\":\"\"},\"colorscale\":[[0.0,\"#0d0887\"],[0.1111111111111111,\"#46039f\"],[0.2222222222222222,\"#7201a8\"],[0.3333333333333333,\"#9c179e\"],[0.4444444444444444,\"#bd3786\"],[0.5555555555555556,\"#d8576b\"],[0.6666666666666666,\"#ed7953\"],[0.7777777777777778,\"#fb9f3a\"],[0.8888888888888888,\"#fdca26\"],[1.0,\"#f0f921\"]]}],\"contourcarpet\":[{\"type\":\"contourcarpet\",\"colorbar\":{\"outlinewidth\":0,\"ticks\":\"\"}}],\"contour\":[{\"type\":\"contour\",\"colorbar\":{\"outlinewidth\":0,\"ticks\":\"\"},\"colorscale\":[[0.0,\"#0d0887\"],[0.1111111111111111,\"#46039f\"],[0.2222222222222222,\"#7201a8\"],[0.3333333333333333,\"#9c179e\"],[0.4444444444444444,\"#bd3786\"],[0.5555555555555556,\"#d8576b\"],[0.6666666666666666,\"#ed7953\"],[0.7777777777777778,\"#fb9f3a\"],[0.8888888888888888,\"#fdca26\"],[1.0,\"#f0f921\"]]}],\"surface\":[{\"type\":\"surface\",\"colorbar\":{\"outlinewidth\":0,\"ticks\":\"\"},\"colorscale\":[[0.0,\"#0d0887\"],[0.1111111111111111,\"#46039f\"],[0.2222222222222222,\"#7201a8\"],[0.3333333333333333,\"#9c179e\"],[0.4444444444444444,\"#bd3786\"],[0.5555555555555556,\"#d8576b\"],[0.6666666666666666,\"#ed7953\"],[0.7777777777777778,\"#fb9f3a\"],[0.8888888888888888,\"#fdca26\"],[1.0,\"#f0f921\"]]}],\"mesh3d\":[{\"type\":\"mesh3d\",\"colorbar\":{\"outlinewidth\":0,\"ticks\":\"\"}}],\"scatter\":[{\"fillpattern\":{\"fillmode\":\"overlay\",\"size\":10,\"solidity\":0.2},\"type\":\"scatter\"}],\"parcoords\":[{\"type\":\"parcoords\",\"line\":{\"colorbar\":{\"outlinewidth\":0,\"ticks\":\"\"}}}],\"scatterpolargl\":[{\"type\":\"scatterpolargl\",\"marker\":{\"colorbar\":{\"outlinewidth\":0,\"ticks\":\"\"}}}],\"bar\":[{\"error_x\":{\"color\":\"#2a3f5f\"},\"error_y\":{\"color\":\"#2a3f5f\"},\"marker\":{\"line\":{\"color\":\"#E5ECF6\",\"width\":0.5},\"pattern\":{\"fillmode\":\"overlay\",\"size\":10,\"solidity\":0.2}},\"type\":\"bar\"}],\"scattergeo\":[{\"type\":\"scattergeo\",\"marker\":{\"colorbar\":{\"outlinewidth\":0,\"ticks\":\"\"}}}],\"scatterpolar\":[{\"type\":\"scatterpolar\",\"marker\":{\"colorbar\":{\"outlinewidth\":0,\"ticks\":\"\"}}}],\"histogram\":[{\"marker\":{\"pattern\":{\"fillmode\":\"overlay\",\"size\":10,\"solidity\":0.2}},\"type\":\"histogram\"}],\"scattergl\":[{\"type\":\"scattergl\",\"marker\":{\"colorbar\":{\"outlinewidth\":0,\"ticks\":\"\"}}}],\"scatter3d\":[{\"type\":\"scatter3d\",\"line\":{\"colorbar\":{\"outlinewidth\":0,\"ticks\":\"\"}},\"marker\":{\"colorbar\":{\"outlinewidth\":0,\"ticks\":\"\"}}}],\"scattermapbox\":[{\"type\":\"scattermapbox\",\"marker\":{\"colorbar\":{\"outlinewidth\":0,\"ticks\":\"\"}}}],\"scatterternary\":[{\"type\":\"scatterternary\",\"marker\":{\"colorbar\":{\"outlinewidth\":0,\"ticks\":\"\"}}}],\"scattercarpet\":[{\"type\":\"scattercarpet\",\"marker\":{\"colorbar\":{\"outlinewidth\":0,\"ticks\":\"\"}}}],\"carpet\":[{\"aaxis\":{\"endlinecolor\":\"#2a3f5f\",\"gridcolor\":\"white\",\"linecolor\":\"white\",\"minorgridcolor\":\"white\",\"startlinecolor\":\"#2a3f5f\"},\"baxis\":{\"endlinecolor\":\"#2a3f5f\",\"gridcolor\":\"white\",\"linecolor\":\"white\",\"minorgridcolor\":\"white\",\"startlinecolor\":\"#2a3f5f\"},\"type\":\"carpet\"}],\"table\":[{\"cells\":{\"fill\":{\"color\":\"#EBF0F8\"},\"line\":{\"color\":\"white\"}},\"header\":{\"fill\":{\"color\":\"#C8D4E3\"},\"line\":{\"color\":\"white\"}},\"type\":\"table\"}],\"barpolar\":[{\"marker\":{\"line\":{\"color\":\"#E5ECF6\",\"width\":0.5},\"pattern\":{\"fillmode\":\"overlay\",\"size\":10,\"solidity\":0.2}},\"type\":\"barpolar\"}],\"pie\":[{\"automargin\":true,\"type\":\"pie\"}]},\"layout\":{\"autotypenumbers\":\"strict\",\"colorway\":[\"#636efa\",\"#EF553B\",\"#00cc96\",\"#ab63fa\",\"#FFA15A\",\"#19d3f3\",\"#FF6692\",\"#B6E880\",\"#FF97FF\",\"#FECB52\"],\"font\":{\"color\":\"#2a3f5f\"},\"hovermode\":\"closest\",\"hoverlabel\":{\"align\":\"left\"},\"paper_bgcolor\":\"white\",\"plot_bgcolor\":\"#E5ECF6\",\"polar\":{\"bgcolor\":\"#E5ECF6\",\"angularaxis\":{\"gridcolor\":\"white\",\"linecolor\":\"white\",\"ticks\":\"\"},\"radialaxis\":{\"gridcolor\":\"white\",\"linecolor\":\"white\",\"ticks\":\"\"}},\"ternary\":{\"bgcolor\":\"#E5ECF6\",\"aaxis\":{\"gridcolor\":\"white\",\"linecolor\":\"white\",\"ticks\":\"\"},\"baxis\":{\"gridcolor\":\"white\",\"linecolor\":\"white\",\"ticks\":\"\"},\"caxis\":{\"gridcolor\":\"white\",\"linecolor\":\"white\",\"ticks\":\"\"}},\"coloraxis\":{\"colorbar\":{\"outlinewidth\":0,\"ticks\":\"\"}},\"colorscale\":{\"sequential\":[[0.0,\"#0d0887\"],[0.1111111111111111,\"#46039f\"],[0.2222222222222222,\"#7201a8\"],[0.3333333333333333,\"#9c179e\"],[0.4444444444444444,\"#bd3786\"],[0.5555555555555556,\"#d8576b\"],[0.6666666666666666,\"#ed7953\"],[0.7777777777777778,\"#fb9f3a\"],[0.8888888888888888,\"#fdca26\"],[1.0,\"#f0f921\"]],\"sequentialminus\":[[0.0,\"#0d0887\"],[0.1111111111111111,\"#46039f\"],[0.2222222222222222,\"#7201a8\"],[0.3333333333333333,\"#9c179e\"],[0.4444444444444444,\"#bd3786\"],[0.5555555555555556,\"#d8576b\"],[0.6666666666666666,\"#ed7953\"],[0.7777777777777778,\"#fb9f3a\"],[0.8888888888888888,\"#fdca26\"],[1.0,\"#f0f921\"]],\"diverging\":[[0,\"#8e0152\"],[0.1,\"#c51b7d\"],[0.2,\"#de77ae\"],[0.3,\"#f1b6da\"],[0.4,\"#fde0ef\"],[0.5,\"#f7f7f7\"],[0.6,\"#e6f5d0\"],[0.7,\"#b8e186\"],[0.8,\"#7fbc41\"],[0.9,\"#4d9221\"],[1,\"#276419\"]]},\"xaxis\":{\"gridcolor\":\"white\",\"linecolor\":\"white\",\"ticks\":\"\",\"title\":{\"standoff\":15},\"zerolinecolor\":\"white\",\"automargin\":true,\"zerolinewidth\":2},\"yaxis\":{\"gridcolor\":\"white\",\"linecolor\":\"white\",\"ticks\":\"\",\"title\":{\"standoff\":15},\"zerolinecolor\":\"white\",\"automargin\":true,\"zerolinewidth\":2},\"scene\":{\"xaxis\":{\"backgroundcolor\":\"#E5ECF6\",\"gridcolor\":\"white\",\"linecolor\":\"white\",\"showbackground\":true,\"ticks\":\"\",\"zerolinecolor\":\"white\",\"gridwidth\":2},\"yaxis\":{\"backgroundcolor\":\"#E5ECF6\",\"gridcolor\":\"white\",\"linecolor\":\"white\",\"showbackground\":true,\"ticks\":\"\",\"zerolinecolor\":\"white\",\"gridwidth\":2},\"zaxis\":{\"backgroundcolor\":\"#E5ECF6\",\"gridcolor\":\"white\",\"linecolor\":\"white\",\"showbackground\":true,\"ticks\":\"\",\"zerolinecolor\":\"white\",\"gridwidth\":2}},\"shapedefaults\":{\"line\":{\"color\":\"#2a3f5f\"}},\"annotationdefaults\":{\"arrowcolor\":\"#2a3f5f\",\"arrowhead\":0,\"arrowwidth\":1},\"geo\":{\"bgcolor\":\"white\",\"landcolor\":\"#E5ECF6\",\"subunitcolor\":\"white\",\"showland\":true,\"showlakes\":true,\"lakecolor\":\"white\"},\"title\":{\"x\":0.05},\"mapbox\":{\"style\":\"light\"}}},\"xaxis\":{\"anchor\":\"y\",\"domain\":[0.0,1.0],\"title\":{\"text\":\"Dataset\"},\"showgrid\":false},\"yaxis\":{\"anchor\":\"x\",\"domain\":[0.0,1.0],\"title\":{\"text\":\"Iteration Duration, seconds\"},\"type\":\"log\",\"showgrid\":true},\"legend\":{\"title\":{\"text\":\"Backend Engine\"},\"tracegroupgap\":0,\"orientation\":\"h\",\"yanchor\":\"bottom\",\"y\":1,\"x\":0.5,\"xanchor\":\"center\"},\"title\":{\"text\":\"Force Layout\",\"x\":0.5},\"barmode\":\"group\",\"bargap\":0.3,\"bargroupgap\":0.1},                        {\"responsive\": true}                    ).then(function(){\n",
       "                            \n",
       "var gd = document.getElementById('f332e2b1-7597-4c2a-8c54-d755bf4a1860');\n",
       "var x = new MutationObserver(function (mutations, observer) {{\n",
       "        var display = window.getComputedStyle(gd).display;\n",
       "        if (!display || display === 'none') {{\n",
       "            console.log([gd, 'removed!']);\n",
       "            Plotly.purge(gd);\n",
       "            observer.disconnect();\n",
       "        }}\n",
       "}});\n",
       "\n",
       "// Listen for the removal of the full notebook cells\n",
       "var notebookContainer = gd.closest('#notebook-container');\n",
       "if (notebookContainer) {{\n",
       "    x.observe(notebookContainer, {childList: true});\n",
       "}}\n",
       "\n",
       "// Listen for the clearing of the current output cell\n",
       "var outputEl = gd.closest('.output');\n",
       "if (outputEl) {{\n",
       "    x.observe(outputEl, {childList: true});\n",
       "}}\n",
       "\n",
       "                        })                };                });            </script>        </div>"
      ]
     },
     "metadata": {},
     "output_type": "display_data"
    },
    {
     "data": {
      "application/vnd.plotly.v1+json": {
       "config": {
        "plotlyServerURL": "https://plot.ly"
       },
       "data": [
        {
         "alignmentgroup": "True",
         "cliponaxis": false,
         "hovertemplate": "Backend Engine=CuGraph<br>Dataset=%{x}<br>Iteration Duration, seconds=%{y}<br>Iteration Duration=%{text}<extra></extra>",
         "legendgroup": "CuGraph",
         "marker": {
          "color": "#636efa",
          "pattern": {
           "shape": ""
          }
         },
         "name": "CuGraph",
         "offsetgroup": "CuGraph",
         "orientation": "v",
         "showlegend": true,
         "text": [
          "7.25 msecs",
          "5.11 msecs",
          "6.83 msecs",
          "6.40 msecs",
          "9.90 msecs",
          "9.46 msecs",
          "14.26 msecs",
          "554.75 msecs",
          "384.72 msecs",
          "1.02 secs"
         ],
         "textangle": -60,
         "textfont": {
          "size": 14
         },
         "textposition": "auto",
         "type": "bar",
         "x": [
          "butterfly_labels",
          "bitcoin_alpha",
          "facebook",
          "wiki_vote",
          "enron",
          "slashdot",
          "twitter",
          "wiki_topcasts",
          "live_journal",
          "orkut"
         ],
         "xaxis": "x",
         "y": [
          0.007245888627215419,
          0.005105337523521804,
          0.006831314116100238,
          0.006401307936600484,
          0.009904418467058433,
          0.009463204584560911,
          0.014259229218225243,
          0.5547503396014788,
          0.3847176634348077,
          1.0209389142438776
         ],
         "yaxis": "y"
        },
        {
         "alignmentgroup": "True",
         "cliponaxis": false,
         "hovertemplate": "Backend Engine=NetworkX<br>Dataset=%{x}<br>Iteration Duration, seconds=%{y}<br>Iteration Duration=%{text}<extra></extra>",
         "legendgroup": "NetworkX",
         "marker": {
          "color": "#EF553B",
          "pattern": {
           "shape": ""
          }
         },
         "name": "NetworkX",
         "offsetgroup": "NetworkX",
         "orientation": "v",
         "showlegend": true,
         "text": [
          "2.69 msecs",
          "37.52 msecs",
          "140.41 msecs",
          "177.90 msecs",
          "700.64 msecs",
          "1.62 secs",
          "3.76 secs",
          "1.12 mins",
          "3.37 mins",
          "5.15 mins"
         ],
         "textangle": -60,
         "textfont": {
          "size": 14
         },
         "textposition": "auto",
         "type": "bar",
         "x": [
          "butterfly_labels",
          "bitcoin_alpha",
          "facebook",
          "wiki_vote",
          "enron",
          "slashdot",
          "twitter",
          "wiki_topcasts",
          "live_journal",
          "orkut"
         ],
         "xaxis": "x",
         "y": [
          0.0026859347969469885,
          0.03751922561682091,
          0.14041476306593356,
          0.17789975097616365,
          0.7006399784511086,
          1.6179272769599462,
          3.761537916958125,
          67.26226890087,
          202.80273071923332,
          309.3692263365
         ],
         "yaxis": "y"
        },
        {
         "alignmentgroup": "True",
         "cliponaxis": false,
         "hovertemplate": "Backend Engine=RetworkX<br>Dataset=%{x}<br>Iteration Duration, seconds=%{y}<br>Iteration Duration=%{text}<extra></extra>",
         "legendgroup": "RetworkX",
         "marker": {
          "color": "#00cc96",
          "pattern": {
           "shape": ""
          }
         },
         "name": "RetworkX",
         "offsetgroup": "RetworkX",
         "orientation": "v",
         "showlegend": true,
         "text": [
          "Not Implemented",
          "Not Implemented",
          "Not Implemented",
          "Not Implemented",
          "Not Implemented",
          "Not Implemented",
          "Not Implemented",
          "Not Implemented",
          "Not Implemented",
          "Not Implemented"
         ],
         "textangle": -60,
         "textfont": {
          "size": 14
         },
         "textposition": "auto",
         "type": "bar",
         "x": [
          "butterfly_labels",
          "bitcoin_alpha",
          "facebook",
          "wiki_vote",
          "enron",
          "slashdot",
          "twitter",
          "wiki_topcasts",
          "live_journal",
          "orkut"
         ],
         "xaxis": "x",
         "y": [
          7620.7039511204,
          7620.7039511204,
          7620.7039511204,
          7620.7039511204,
          7620.7039511204,
          7620.7039511204,
          7620.7039511204,
          7620.7039511204,
          7620.7039511204,
          7620.7039511204
         ],
         "yaxis": "y"
        },
        {
         "alignmentgroup": "True",
         "cliponaxis": false,
         "hovertemplate": "Backend Engine=Snap<br>Dataset=%{x}<br>Iteration Duration, seconds=%{y}<br>Iteration Duration=%{text}<extra></extra>",
         "legendgroup": "Snap",
         "marker": {
          "color": "#ab63fa",
          "pattern": {
           "shape": ""
          }
         },
         "name": "Snap",
         "offsetgroup": "Snap",
         "orientation": "v",
         "showlegend": true,
         "text": [
          "1.41 msecs",
          "9.54 msecs",
          "13.11 msecs",
          "15.38 msecs",
          "147.41 msecs",
          "470.85 msecs",
          "3.20 secs",
          "14.89 secs",
          "50.12 secs",
          "36.21 secs"
         ],
         "textangle": -60,
         "textfont": {
          "size": 14
         },
         "textposition": "auto",
         "type": "bar",
         "x": [
          "butterfly_labels",
          "bitcoin_alpha",
          "facebook",
          "wiki_vote",
          "enron",
          "slashdot",
          "twitter",
          "wiki_topcasts",
          "live_journal",
          "orkut"
         ],
         "xaxis": "x",
         "y": [
          0.0014083706899592748,
          0.00954500744510905,
          0.01311437329914102,
          0.015382008474681467,
          0.1474053809344633,
          0.47085283915200005,
          3.1993190963218083,
          14.892359041585365,
          50.12008913358333,
          36.20704026782941
         ],
         "yaxis": "y"
        },
        {
         "alignmentgroup": "True",
         "cliponaxis": false,
         "hovertemplate": "Backend Engine=IGraph<br>Dataset=%{x}<br>Iteration Duration, seconds=%{y}<br>Iteration Duration=%{text}<extra></extra>",
         "legendgroup": "IGraph",
         "marker": {
          "color": "#FFA15A",
          "pattern": {
           "shape": ""
          }
         },
         "name": "IGraph",
         "offsetgroup": "IGraph",
         "orientation": "v",
         "showlegend": true,
         "text": [
          "0.06 msecs",
          "12.61 msecs",
          "1.75 msecs",
          "7.81 msecs",
          "40.34 msecs",
          "78.89 msecs",
          "189.64 msecs",
          "4.39 secs",
          "10.80 secs",
          "11.06 secs"
         ],
         "textangle": -60,
         "textfont": {
          "size": 14
         },
         "textposition": "auto",
         "type": "bar",
         "x": [
          "butterfly_labels",
          "bitcoin_alpha",
          "facebook",
          "wiki_vote",
          "enron",
          "slashdot",
          "twitter",
          "wiki_topcasts",
          "live_journal",
          "orkut"
         ],
         "xaxis": "x",
         "y": [
          0.00006136048226765011,
          0.012609062984459388,
          0.0017544819527565779,
          0.007806428506168359,
          0.04033814627382857,
          0.07889100431987905,
          0.18964439758609353,
          4.387798512939416,
          10.800523481198214,
          11.062148189545455
         ],
         "yaxis": "y"
        }
       ],
       "layout": {
        "bargap": 0.3,
        "bargroupgap": 0.1,
        "barmode": "group",
        "legend": {
         "orientation": "h",
         "title": {
          "text": "Backend Engine"
         },
         "tracegroupgap": 0,
         "x": 0.5,
         "xanchor": "center",
         "y": 1,
         "yanchor": "bottom"
        },
        "template": {
         "data": {
          "bar": [
           {
            "error_x": {
             "color": "#2a3f5f"
            },
            "error_y": {
             "color": "#2a3f5f"
            },
            "marker": {
             "line": {
              "color": "#E5ECF6",
              "width": 0.5
             },
             "pattern": {
              "fillmode": "overlay",
              "size": 10,
              "solidity": 0.2
             }
            },
            "type": "bar"
           }
          ],
          "barpolar": [
           {
            "marker": {
             "line": {
              "color": "#E5ECF6",
              "width": 0.5
             },
             "pattern": {
              "fillmode": "overlay",
              "size": 10,
              "solidity": 0.2
             }
            },
            "type": "barpolar"
           }
          ],
          "carpet": [
           {
            "aaxis": {
             "endlinecolor": "#2a3f5f",
             "gridcolor": "white",
             "linecolor": "white",
             "minorgridcolor": "white",
             "startlinecolor": "#2a3f5f"
            },
            "baxis": {
             "endlinecolor": "#2a3f5f",
             "gridcolor": "white",
             "linecolor": "white",
             "minorgridcolor": "white",
             "startlinecolor": "#2a3f5f"
            },
            "type": "carpet"
           }
          ],
          "choropleth": [
           {
            "colorbar": {
             "outlinewidth": 0,
             "ticks": ""
            },
            "type": "choropleth"
           }
          ],
          "contour": [
           {
            "colorbar": {
             "outlinewidth": 0,
             "ticks": ""
            },
            "colorscale": [
             [
              0,
              "#0d0887"
             ],
             [
              0.1111111111111111,
              "#46039f"
             ],
             [
              0.2222222222222222,
              "#7201a8"
             ],
             [
              0.3333333333333333,
              "#9c179e"
             ],
             [
              0.4444444444444444,
              "#bd3786"
             ],
             [
              0.5555555555555556,
              "#d8576b"
             ],
             [
              0.6666666666666666,
              "#ed7953"
             ],
             [
              0.7777777777777778,
              "#fb9f3a"
             ],
             [
              0.8888888888888888,
              "#fdca26"
             ],
             [
              1,
              "#f0f921"
             ]
            ],
            "type": "contour"
           }
          ],
          "contourcarpet": [
           {
            "colorbar": {
             "outlinewidth": 0,
             "ticks": ""
            },
            "type": "contourcarpet"
           }
          ],
          "heatmap": [
           {
            "colorbar": {
             "outlinewidth": 0,
             "ticks": ""
            },
            "colorscale": [
             [
              0,
              "#0d0887"
             ],
             [
              0.1111111111111111,
              "#46039f"
             ],
             [
              0.2222222222222222,
              "#7201a8"
             ],
             [
              0.3333333333333333,
              "#9c179e"
             ],
             [
              0.4444444444444444,
              "#bd3786"
             ],
             [
              0.5555555555555556,
              "#d8576b"
             ],
             [
              0.6666666666666666,
              "#ed7953"
             ],
             [
              0.7777777777777778,
              "#fb9f3a"
             ],
             [
              0.8888888888888888,
              "#fdca26"
             ],
             [
              1,
              "#f0f921"
             ]
            ],
            "type": "heatmap"
           }
          ],
          "heatmapgl": [
           {
            "colorbar": {
             "outlinewidth": 0,
             "ticks": ""
            },
            "colorscale": [
             [
              0,
              "#0d0887"
             ],
             [
              0.1111111111111111,
              "#46039f"
             ],
             [
              0.2222222222222222,
              "#7201a8"
             ],
             [
              0.3333333333333333,
              "#9c179e"
             ],
             [
              0.4444444444444444,
              "#bd3786"
             ],
             [
              0.5555555555555556,
              "#d8576b"
             ],
             [
              0.6666666666666666,
              "#ed7953"
             ],
             [
              0.7777777777777778,
              "#fb9f3a"
             ],
             [
              0.8888888888888888,
              "#fdca26"
             ],
             [
              1,
              "#f0f921"
             ]
            ],
            "type": "heatmapgl"
           }
          ],
          "histogram": [
           {
            "marker": {
             "pattern": {
              "fillmode": "overlay",
              "size": 10,
              "solidity": 0.2
             }
            },
            "type": "histogram"
           }
          ],
          "histogram2d": [
           {
            "colorbar": {
             "outlinewidth": 0,
             "ticks": ""
            },
            "colorscale": [
             [
              0,
              "#0d0887"
             ],
             [
              0.1111111111111111,
              "#46039f"
             ],
             [
              0.2222222222222222,
              "#7201a8"
             ],
             [
              0.3333333333333333,
              "#9c179e"
             ],
             [
              0.4444444444444444,
              "#bd3786"
             ],
             [
              0.5555555555555556,
              "#d8576b"
             ],
             [
              0.6666666666666666,
              "#ed7953"
             ],
             [
              0.7777777777777778,
              "#fb9f3a"
             ],
             [
              0.8888888888888888,
              "#fdca26"
             ],
             [
              1,
              "#f0f921"
             ]
            ],
            "type": "histogram2d"
           }
          ],
          "histogram2dcontour": [
           {
            "colorbar": {
             "outlinewidth": 0,
             "ticks": ""
            },
            "colorscale": [
             [
              0,
              "#0d0887"
             ],
             [
              0.1111111111111111,
              "#46039f"
             ],
             [
              0.2222222222222222,
              "#7201a8"
             ],
             [
              0.3333333333333333,
              "#9c179e"
             ],
             [
              0.4444444444444444,
              "#bd3786"
             ],
             [
              0.5555555555555556,
              "#d8576b"
             ],
             [
              0.6666666666666666,
              "#ed7953"
             ],
             [
              0.7777777777777778,
              "#fb9f3a"
             ],
             [
              0.8888888888888888,
              "#fdca26"
             ],
             [
              1,
              "#f0f921"
             ]
            ],
            "type": "histogram2dcontour"
           }
          ],
          "mesh3d": [
           {
            "colorbar": {
             "outlinewidth": 0,
             "ticks": ""
            },
            "type": "mesh3d"
           }
          ],
          "parcoords": [
           {
            "line": {
             "colorbar": {
              "outlinewidth": 0,
              "ticks": ""
             }
            },
            "type": "parcoords"
           }
          ],
          "pie": [
           {
            "automargin": true,
            "type": "pie"
           }
          ],
          "scatter": [
           {
            "fillpattern": {
             "fillmode": "overlay",
             "size": 10,
             "solidity": 0.2
            },
            "type": "scatter"
           }
          ],
          "scatter3d": [
           {
            "line": {
             "colorbar": {
              "outlinewidth": 0,
              "ticks": ""
             }
            },
            "marker": {
             "colorbar": {
              "outlinewidth": 0,
              "ticks": ""
             }
            },
            "type": "scatter3d"
           }
          ],
          "scattercarpet": [
           {
            "marker": {
             "colorbar": {
              "outlinewidth": 0,
              "ticks": ""
             }
            },
            "type": "scattercarpet"
           }
          ],
          "scattergeo": [
           {
            "marker": {
             "colorbar": {
              "outlinewidth": 0,
              "ticks": ""
             }
            },
            "type": "scattergeo"
           }
          ],
          "scattergl": [
           {
            "marker": {
             "colorbar": {
              "outlinewidth": 0,
              "ticks": ""
             }
            },
            "type": "scattergl"
           }
          ],
          "scattermapbox": [
           {
            "marker": {
             "colorbar": {
              "outlinewidth": 0,
              "ticks": ""
             }
            },
            "type": "scattermapbox"
           }
          ],
          "scatterpolar": [
           {
            "marker": {
             "colorbar": {
              "outlinewidth": 0,
              "ticks": ""
             }
            },
            "type": "scatterpolar"
           }
          ],
          "scatterpolargl": [
           {
            "marker": {
             "colorbar": {
              "outlinewidth": 0,
              "ticks": ""
             }
            },
            "type": "scatterpolargl"
           }
          ],
          "scatterternary": [
           {
            "marker": {
             "colorbar": {
              "outlinewidth": 0,
              "ticks": ""
             }
            },
            "type": "scatterternary"
           }
          ],
          "surface": [
           {
            "colorbar": {
             "outlinewidth": 0,
             "ticks": ""
            },
            "colorscale": [
             [
              0,
              "#0d0887"
             ],
             [
              0.1111111111111111,
              "#46039f"
             ],
             [
              0.2222222222222222,
              "#7201a8"
             ],
             [
              0.3333333333333333,
              "#9c179e"
             ],
             [
              0.4444444444444444,
              "#bd3786"
             ],
             [
              0.5555555555555556,
              "#d8576b"
             ],
             [
              0.6666666666666666,
              "#ed7953"
             ],
             [
              0.7777777777777778,
              "#fb9f3a"
             ],
             [
              0.8888888888888888,
              "#fdca26"
             ],
             [
              1,
              "#f0f921"
             ]
            ],
            "type": "surface"
           }
          ],
          "table": [
           {
            "cells": {
             "fill": {
              "color": "#EBF0F8"
             },
             "line": {
              "color": "white"
             }
            },
            "header": {
             "fill": {
              "color": "#C8D4E3"
             },
             "line": {
              "color": "white"
             }
            },
            "type": "table"
           }
          ]
         },
         "layout": {
          "annotationdefaults": {
           "arrowcolor": "#2a3f5f",
           "arrowhead": 0,
           "arrowwidth": 1
          },
          "autotypenumbers": "strict",
          "coloraxis": {
           "colorbar": {
            "outlinewidth": 0,
            "ticks": ""
           }
          },
          "colorscale": {
           "diverging": [
            [
             0,
             "#8e0152"
            ],
            [
             0.1,
             "#c51b7d"
            ],
            [
             0.2,
             "#de77ae"
            ],
            [
             0.3,
             "#f1b6da"
            ],
            [
             0.4,
             "#fde0ef"
            ],
            [
             0.5,
             "#f7f7f7"
            ],
            [
             0.6,
             "#e6f5d0"
            ],
            [
             0.7,
             "#b8e186"
            ],
            [
             0.8,
             "#7fbc41"
            ],
            [
             0.9,
             "#4d9221"
            ],
            [
             1,
             "#276419"
            ]
           ],
           "sequential": [
            [
             0,
             "#0d0887"
            ],
            [
             0.1111111111111111,
             "#46039f"
            ],
            [
             0.2222222222222222,
             "#7201a8"
            ],
            [
             0.3333333333333333,
             "#9c179e"
            ],
            [
             0.4444444444444444,
             "#bd3786"
            ],
            [
             0.5555555555555556,
             "#d8576b"
            ],
            [
             0.6666666666666666,
             "#ed7953"
            ],
            [
             0.7777777777777778,
             "#fb9f3a"
            ],
            [
             0.8888888888888888,
             "#fdca26"
            ],
            [
             1,
             "#f0f921"
            ]
           ],
           "sequentialminus": [
            [
             0,
             "#0d0887"
            ],
            [
             0.1111111111111111,
             "#46039f"
            ],
            [
             0.2222222222222222,
             "#7201a8"
            ],
            [
             0.3333333333333333,
             "#9c179e"
            ],
            [
             0.4444444444444444,
             "#bd3786"
            ],
            [
             0.5555555555555556,
             "#d8576b"
            ],
            [
             0.6666666666666666,
             "#ed7953"
            ],
            [
             0.7777777777777778,
             "#fb9f3a"
            ],
            [
             0.8888888888888888,
             "#fdca26"
            ],
            [
             1,
             "#f0f921"
            ]
           ]
          },
          "colorway": [
           "#636efa",
           "#EF553B",
           "#00cc96",
           "#ab63fa",
           "#FFA15A",
           "#19d3f3",
           "#FF6692",
           "#B6E880",
           "#FF97FF",
           "#FECB52"
          ],
          "font": {
           "color": "#2a3f5f"
          },
          "geo": {
           "bgcolor": "white",
           "lakecolor": "white",
           "landcolor": "#E5ECF6",
           "showlakes": true,
           "showland": true,
           "subunitcolor": "white"
          },
          "hoverlabel": {
           "align": "left"
          },
          "hovermode": "closest",
          "mapbox": {
           "style": "light"
          },
          "paper_bgcolor": "white",
          "plot_bgcolor": "#E5ECF6",
          "polar": {
           "angularaxis": {
            "gridcolor": "white",
            "linecolor": "white",
            "ticks": ""
           },
           "bgcolor": "#E5ECF6",
           "radialaxis": {
            "gridcolor": "white",
            "linecolor": "white",
            "ticks": ""
           }
          },
          "scene": {
           "xaxis": {
            "backgroundcolor": "#E5ECF6",
            "gridcolor": "white",
            "gridwidth": 2,
            "linecolor": "white",
            "showbackground": true,
            "ticks": "",
            "zerolinecolor": "white"
           },
           "yaxis": {
            "backgroundcolor": "#E5ECF6",
            "gridcolor": "white",
            "gridwidth": 2,
            "linecolor": "white",
            "showbackground": true,
            "ticks": "",
            "zerolinecolor": "white"
           },
           "zaxis": {
            "backgroundcolor": "#E5ECF6",
            "gridcolor": "white",
            "gridwidth": 2,
            "linecolor": "white",
            "showbackground": true,
            "ticks": "",
            "zerolinecolor": "white"
           }
          },
          "shapedefaults": {
           "line": {
            "color": "#2a3f5f"
           }
          },
          "ternary": {
           "aaxis": {
            "gridcolor": "white",
            "linecolor": "white",
            "ticks": ""
           },
           "baxis": {
            "gridcolor": "white",
            "linecolor": "white",
            "ticks": ""
           },
           "bgcolor": "#E5ECF6",
           "caxis": {
            "gridcolor": "white",
            "linecolor": "white",
            "ticks": ""
           }
          },
          "title": {
           "x": 0.05
          },
          "xaxis": {
           "automargin": true,
           "gridcolor": "white",
           "linecolor": "white",
           "ticks": "",
           "title": {
            "standoff": 15
           },
           "zerolinecolor": "white",
           "zerolinewidth": 2
          },
          "yaxis": {
           "automargin": true,
           "gridcolor": "white",
           "linecolor": "white",
           "ticks": "",
           "title": {
            "standoff": 15
           },
           "zerolinecolor": "white",
           "zerolinewidth": 2
          }
         }
        },
        "title": {
         "text": "PageRank",
         "x": 0.5
        },
        "xaxis": {
         "anchor": "y",
         "domain": [
          0,
          1
         ],
         "showgrid": false,
         "title": {
          "text": "Dataset"
         }
        },
        "yaxis": {
         "anchor": "x",
         "domain": [
          0,
          1
         ],
         "showgrid": true,
         "title": {
          "text": "Iteration Duration, seconds"
         },
         "type": "log"
        }
       }
      },
      "text/html": [
       "<div>                            <div id=\"7dd03762-acfc-484c-ac61-a2dab59c9bc0\" class=\"plotly-graph-div\" style=\"height:525px; width:100%;\"></div>            <script type=\"text/javascript\">                require([\"plotly\"], function(Plotly) {                    window.PLOTLYENV=window.PLOTLYENV || {};                                    if (document.getElementById(\"7dd03762-acfc-484c-ac61-a2dab59c9bc0\")) {                    Plotly.newPlot(                        \"7dd03762-acfc-484c-ac61-a2dab59c9bc0\",                        [{\"alignmentgroup\":\"True\",\"hovertemplate\":\"Backend Engine=CuGraph<br>Dataset=%{x}<br>Iteration Duration, seconds=%{y}<br>Iteration Duration=%{text}<extra></extra>\",\"legendgroup\":\"CuGraph\",\"marker\":{\"color\":\"#636efa\",\"pattern\":{\"shape\":\"\"}},\"name\":\"CuGraph\",\"offsetgroup\":\"CuGraph\",\"orientation\":\"v\",\"showlegend\":true,\"text\":[\"7.25 msecs\",\"5.11 msecs\",\"6.83 msecs\",\"6.40 msecs\",\"9.90 msecs\",\"9.46 msecs\",\"14.26 msecs\",\"554.75 msecs\",\"384.72 msecs\",\"1.02 secs\"],\"textposition\":\"auto\",\"x\":[\"butterfly_labels\",\"bitcoin_alpha\",\"facebook\",\"wiki_vote\",\"enron\",\"slashdot\",\"twitter\",\"wiki_topcasts\",\"live_journal\",\"orkut\"],\"xaxis\":\"x\",\"y\":[0.007245888627215419,0.005105337523521804,0.006831314116100238,0.006401307936600484,0.009904418467058433,0.009463204584560911,0.014259229218225243,0.5547503396014788,0.3847176634348077,1.0209389142438776],\"yaxis\":\"y\",\"type\":\"bar\",\"textfont\":{\"size\":14},\"cliponaxis\":false,\"textangle\":-60},{\"alignmentgroup\":\"True\",\"hovertemplate\":\"Backend Engine=NetworkX<br>Dataset=%{x}<br>Iteration Duration, seconds=%{y}<br>Iteration Duration=%{text}<extra></extra>\",\"legendgroup\":\"NetworkX\",\"marker\":{\"color\":\"#EF553B\",\"pattern\":{\"shape\":\"\"}},\"name\":\"NetworkX\",\"offsetgroup\":\"NetworkX\",\"orientation\":\"v\",\"showlegend\":true,\"text\":[\"2.69 msecs\",\"37.52 msecs\",\"140.41 msecs\",\"177.90 msecs\",\"700.64 msecs\",\"1.62 secs\",\"3.76 secs\",\"1.12 mins\",\"3.37 mins\",\"5.15 mins\"],\"textposition\":\"auto\",\"x\":[\"butterfly_labels\",\"bitcoin_alpha\",\"facebook\",\"wiki_vote\",\"enron\",\"slashdot\",\"twitter\",\"wiki_topcasts\",\"live_journal\",\"orkut\"],\"xaxis\":\"x\",\"y\":[0.0026859347969469885,0.03751922561682091,0.14041476306593356,0.17789975097616365,0.7006399784511086,1.6179272769599462,3.761537916958125,67.26226890087,202.80273071923332,309.3692263365],\"yaxis\":\"y\",\"type\":\"bar\",\"textfont\":{\"size\":14},\"cliponaxis\":false,\"textangle\":-60},{\"alignmentgroup\":\"True\",\"hovertemplate\":\"Backend Engine=RetworkX<br>Dataset=%{x}<br>Iteration Duration, seconds=%{y}<br>Iteration Duration=%{text}<extra></extra>\",\"legendgroup\":\"RetworkX\",\"marker\":{\"color\":\"#00cc96\",\"pattern\":{\"shape\":\"\"}},\"name\":\"RetworkX\",\"offsetgroup\":\"RetworkX\",\"orientation\":\"v\",\"showlegend\":true,\"text\":[\"Not Implemented\",\"Not Implemented\",\"Not Implemented\",\"Not Implemented\",\"Not Implemented\",\"Not Implemented\",\"Not Implemented\",\"Not Implemented\",\"Not Implemented\",\"Not Implemented\"],\"textposition\":\"auto\",\"x\":[\"butterfly_labels\",\"bitcoin_alpha\",\"facebook\",\"wiki_vote\",\"enron\",\"slashdot\",\"twitter\",\"wiki_topcasts\",\"live_journal\",\"orkut\"],\"xaxis\":\"x\",\"y\":[7620.7039511204,7620.7039511204,7620.7039511204,7620.7039511204,7620.7039511204,7620.7039511204,7620.7039511204,7620.7039511204,7620.7039511204,7620.7039511204],\"yaxis\":\"y\",\"type\":\"bar\",\"textfont\":{\"size\":14},\"cliponaxis\":false,\"textangle\":-60},{\"alignmentgroup\":\"True\",\"hovertemplate\":\"Backend Engine=Snap<br>Dataset=%{x}<br>Iteration Duration, seconds=%{y}<br>Iteration Duration=%{text}<extra></extra>\",\"legendgroup\":\"Snap\",\"marker\":{\"color\":\"#ab63fa\",\"pattern\":{\"shape\":\"\"}},\"name\":\"Snap\",\"offsetgroup\":\"Snap\",\"orientation\":\"v\",\"showlegend\":true,\"text\":[\"1.41 msecs\",\"9.54 msecs\",\"13.11 msecs\",\"15.38 msecs\",\"147.41 msecs\",\"470.85 msecs\",\"3.20 secs\",\"14.89 secs\",\"50.12 secs\",\"36.21 secs\"],\"textposition\":\"auto\",\"x\":[\"butterfly_labels\",\"bitcoin_alpha\",\"facebook\",\"wiki_vote\",\"enron\",\"slashdot\",\"twitter\",\"wiki_topcasts\",\"live_journal\",\"orkut\"],\"xaxis\":\"x\",\"y\":[0.0014083706899592748,0.00954500744510905,0.01311437329914102,0.015382008474681467,0.1474053809344633,0.47085283915200005,3.1993190963218083,14.892359041585365,50.12008913358333,36.20704026782941],\"yaxis\":\"y\",\"type\":\"bar\",\"textfont\":{\"size\":14},\"cliponaxis\":false,\"textangle\":-60},{\"alignmentgroup\":\"True\",\"hovertemplate\":\"Backend Engine=IGraph<br>Dataset=%{x}<br>Iteration Duration, seconds=%{y}<br>Iteration Duration=%{text}<extra></extra>\",\"legendgroup\":\"IGraph\",\"marker\":{\"color\":\"#FFA15A\",\"pattern\":{\"shape\":\"\"}},\"name\":\"IGraph\",\"offsetgroup\":\"IGraph\",\"orientation\":\"v\",\"showlegend\":true,\"text\":[\"0.06 msecs\",\"12.61 msecs\",\"1.75 msecs\",\"7.81 msecs\",\"40.34 msecs\",\"78.89 msecs\",\"189.64 msecs\",\"4.39 secs\",\"10.80 secs\",\"11.06 secs\"],\"textposition\":\"auto\",\"x\":[\"butterfly_labels\",\"bitcoin_alpha\",\"facebook\",\"wiki_vote\",\"enron\",\"slashdot\",\"twitter\",\"wiki_topcasts\",\"live_journal\",\"orkut\"],\"xaxis\":\"x\",\"y\":[6.136048226765011e-05,0.012609062984459388,0.0017544819527565779,0.007806428506168359,0.04033814627382857,0.07889100431987905,0.18964439758609353,4.387798512939416,10.800523481198214,11.062148189545455],\"yaxis\":\"y\",\"type\":\"bar\",\"textfont\":{\"size\":14},\"cliponaxis\":false,\"textangle\":-60}],                        {\"template\":{\"data\":{\"histogram2dcontour\":[{\"type\":\"histogram2dcontour\",\"colorbar\":{\"outlinewidth\":0,\"ticks\":\"\"},\"colorscale\":[[0.0,\"#0d0887\"],[0.1111111111111111,\"#46039f\"],[0.2222222222222222,\"#7201a8\"],[0.3333333333333333,\"#9c179e\"],[0.4444444444444444,\"#bd3786\"],[0.5555555555555556,\"#d8576b\"],[0.6666666666666666,\"#ed7953\"],[0.7777777777777778,\"#fb9f3a\"],[0.8888888888888888,\"#fdca26\"],[1.0,\"#f0f921\"]]}],\"choropleth\":[{\"type\":\"choropleth\",\"colorbar\":{\"outlinewidth\":0,\"ticks\":\"\"}}],\"histogram2d\":[{\"type\":\"histogram2d\",\"colorbar\":{\"outlinewidth\":0,\"ticks\":\"\"},\"colorscale\":[[0.0,\"#0d0887\"],[0.1111111111111111,\"#46039f\"],[0.2222222222222222,\"#7201a8\"],[0.3333333333333333,\"#9c179e\"],[0.4444444444444444,\"#bd3786\"],[0.5555555555555556,\"#d8576b\"],[0.6666666666666666,\"#ed7953\"],[0.7777777777777778,\"#fb9f3a\"],[0.8888888888888888,\"#fdca26\"],[1.0,\"#f0f921\"]]}],\"heatmap\":[{\"type\":\"heatmap\",\"colorbar\":{\"outlinewidth\":0,\"ticks\":\"\"},\"colorscale\":[[0.0,\"#0d0887\"],[0.1111111111111111,\"#46039f\"],[0.2222222222222222,\"#7201a8\"],[0.3333333333333333,\"#9c179e\"],[0.4444444444444444,\"#bd3786\"],[0.5555555555555556,\"#d8576b\"],[0.6666666666666666,\"#ed7953\"],[0.7777777777777778,\"#fb9f3a\"],[0.8888888888888888,\"#fdca26\"],[1.0,\"#f0f921\"]]}],\"heatmapgl\":[{\"type\":\"heatmapgl\",\"colorbar\":{\"outlinewidth\":0,\"ticks\":\"\"},\"colorscale\":[[0.0,\"#0d0887\"],[0.1111111111111111,\"#46039f\"],[0.2222222222222222,\"#7201a8\"],[0.3333333333333333,\"#9c179e\"],[0.4444444444444444,\"#bd3786\"],[0.5555555555555556,\"#d8576b\"],[0.6666666666666666,\"#ed7953\"],[0.7777777777777778,\"#fb9f3a\"],[0.8888888888888888,\"#fdca26\"],[1.0,\"#f0f921\"]]}],\"contourcarpet\":[{\"type\":\"contourcarpet\",\"colorbar\":{\"outlinewidth\":0,\"ticks\":\"\"}}],\"contour\":[{\"type\":\"contour\",\"colorbar\":{\"outlinewidth\":0,\"ticks\":\"\"},\"colorscale\":[[0.0,\"#0d0887\"],[0.1111111111111111,\"#46039f\"],[0.2222222222222222,\"#7201a8\"],[0.3333333333333333,\"#9c179e\"],[0.4444444444444444,\"#bd3786\"],[0.5555555555555556,\"#d8576b\"],[0.6666666666666666,\"#ed7953\"],[0.7777777777777778,\"#fb9f3a\"],[0.8888888888888888,\"#fdca26\"],[1.0,\"#f0f921\"]]}],\"surface\":[{\"type\":\"surface\",\"colorbar\":{\"outlinewidth\":0,\"ticks\":\"\"},\"colorscale\":[[0.0,\"#0d0887\"],[0.1111111111111111,\"#46039f\"],[0.2222222222222222,\"#7201a8\"],[0.3333333333333333,\"#9c179e\"],[0.4444444444444444,\"#bd3786\"],[0.5555555555555556,\"#d8576b\"],[0.6666666666666666,\"#ed7953\"],[0.7777777777777778,\"#fb9f3a\"],[0.8888888888888888,\"#fdca26\"],[1.0,\"#f0f921\"]]}],\"mesh3d\":[{\"type\":\"mesh3d\",\"colorbar\":{\"outlinewidth\":0,\"ticks\":\"\"}}],\"scatter\":[{\"fillpattern\":{\"fillmode\":\"overlay\",\"size\":10,\"solidity\":0.2},\"type\":\"scatter\"}],\"parcoords\":[{\"type\":\"parcoords\",\"line\":{\"colorbar\":{\"outlinewidth\":0,\"ticks\":\"\"}}}],\"scatterpolargl\":[{\"type\":\"scatterpolargl\",\"marker\":{\"colorbar\":{\"outlinewidth\":0,\"ticks\":\"\"}}}],\"bar\":[{\"error_x\":{\"color\":\"#2a3f5f\"},\"error_y\":{\"color\":\"#2a3f5f\"},\"marker\":{\"line\":{\"color\":\"#E5ECF6\",\"width\":0.5},\"pattern\":{\"fillmode\":\"overlay\",\"size\":10,\"solidity\":0.2}},\"type\":\"bar\"}],\"scattergeo\":[{\"type\":\"scattergeo\",\"marker\":{\"colorbar\":{\"outlinewidth\":0,\"ticks\":\"\"}}}],\"scatterpolar\":[{\"type\":\"scatterpolar\",\"marker\":{\"colorbar\":{\"outlinewidth\":0,\"ticks\":\"\"}}}],\"histogram\":[{\"marker\":{\"pattern\":{\"fillmode\":\"overlay\",\"size\":10,\"solidity\":0.2}},\"type\":\"histogram\"}],\"scattergl\":[{\"type\":\"scattergl\",\"marker\":{\"colorbar\":{\"outlinewidth\":0,\"ticks\":\"\"}}}],\"scatter3d\":[{\"type\":\"scatter3d\",\"line\":{\"colorbar\":{\"outlinewidth\":0,\"ticks\":\"\"}},\"marker\":{\"colorbar\":{\"outlinewidth\":0,\"ticks\":\"\"}}}],\"scattermapbox\":[{\"type\":\"scattermapbox\",\"marker\":{\"colorbar\":{\"outlinewidth\":0,\"ticks\":\"\"}}}],\"scatterternary\":[{\"type\":\"scatterternary\",\"marker\":{\"colorbar\":{\"outlinewidth\":0,\"ticks\":\"\"}}}],\"scattercarpet\":[{\"type\":\"scattercarpet\",\"marker\":{\"colorbar\":{\"outlinewidth\":0,\"ticks\":\"\"}}}],\"carpet\":[{\"aaxis\":{\"endlinecolor\":\"#2a3f5f\",\"gridcolor\":\"white\",\"linecolor\":\"white\",\"minorgridcolor\":\"white\",\"startlinecolor\":\"#2a3f5f\"},\"baxis\":{\"endlinecolor\":\"#2a3f5f\",\"gridcolor\":\"white\",\"linecolor\":\"white\",\"minorgridcolor\":\"white\",\"startlinecolor\":\"#2a3f5f\"},\"type\":\"carpet\"}],\"table\":[{\"cells\":{\"fill\":{\"color\":\"#EBF0F8\"},\"line\":{\"color\":\"white\"}},\"header\":{\"fill\":{\"color\":\"#C8D4E3\"},\"line\":{\"color\":\"white\"}},\"type\":\"table\"}],\"barpolar\":[{\"marker\":{\"line\":{\"color\":\"#E5ECF6\",\"width\":0.5},\"pattern\":{\"fillmode\":\"overlay\",\"size\":10,\"solidity\":0.2}},\"type\":\"barpolar\"}],\"pie\":[{\"automargin\":true,\"type\":\"pie\"}]},\"layout\":{\"autotypenumbers\":\"strict\",\"colorway\":[\"#636efa\",\"#EF553B\",\"#00cc96\",\"#ab63fa\",\"#FFA15A\",\"#19d3f3\",\"#FF6692\",\"#B6E880\",\"#FF97FF\",\"#FECB52\"],\"font\":{\"color\":\"#2a3f5f\"},\"hovermode\":\"closest\",\"hoverlabel\":{\"align\":\"left\"},\"paper_bgcolor\":\"white\",\"plot_bgcolor\":\"#E5ECF6\",\"polar\":{\"bgcolor\":\"#E5ECF6\",\"angularaxis\":{\"gridcolor\":\"white\",\"linecolor\":\"white\",\"ticks\":\"\"},\"radialaxis\":{\"gridcolor\":\"white\",\"linecolor\":\"white\",\"ticks\":\"\"}},\"ternary\":{\"bgcolor\":\"#E5ECF6\",\"aaxis\":{\"gridcolor\":\"white\",\"linecolor\":\"white\",\"ticks\":\"\"},\"baxis\":{\"gridcolor\":\"white\",\"linecolor\":\"white\",\"ticks\":\"\"},\"caxis\":{\"gridcolor\":\"white\",\"linecolor\":\"white\",\"ticks\":\"\"}},\"coloraxis\":{\"colorbar\":{\"outlinewidth\":0,\"ticks\":\"\"}},\"colorscale\":{\"sequential\":[[0.0,\"#0d0887\"],[0.1111111111111111,\"#46039f\"],[0.2222222222222222,\"#7201a8\"],[0.3333333333333333,\"#9c179e\"],[0.4444444444444444,\"#bd3786\"],[0.5555555555555556,\"#d8576b\"],[0.6666666666666666,\"#ed7953\"],[0.7777777777777778,\"#fb9f3a\"],[0.8888888888888888,\"#fdca26\"],[1.0,\"#f0f921\"]],\"sequentialminus\":[[0.0,\"#0d0887\"],[0.1111111111111111,\"#46039f\"],[0.2222222222222222,\"#7201a8\"],[0.3333333333333333,\"#9c179e\"],[0.4444444444444444,\"#bd3786\"],[0.5555555555555556,\"#d8576b\"],[0.6666666666666666,\"#ed7953\"],[0.7777777777777778,\"#fb9f3a\"],[0.8888888888888888,\"#fdca26\"],[1.0,\"#f0f921\"]],\"diverging\":[[0,\"#8e0152\"],[0.1,\"#c51b7d\"],[0.2,\"#de77ae\"],[0.3,\"#f1b6da\"],[0.4,\"#fde0ef\"],[0.5,\"#f7f7f7\"],[0.6,\"#e6f5d0\"],[0.7,\"#b8e186\"],[0.8,\"#7fbc41\"],[0.9,\"#4d9221\"],[1,\"#276419\"]]},\"xaxis\":{\"gridcolor\":\"white\",\"linecolor\":\"white\",\"ticks\":\"\",\"title\":{\"standoff\":15},\"zerolinecolor\":\"white\",\"automargin\":true,\"zerolinewidth\":2},\"yaxis\":{\"gridcolor\":\"white\",\"linecolor\":\"white\",\"ticks\":\"\",\"title\":{\"standoff\":15},\"zerolinecolor\":\"white\",\"automargin\":true,\"zerolinewidth\":2},\"scene\":{\"xaxis\":{\"backgroundcolor\":\"#E5ECF6\",\"gridcolor\":\"white\",\"linecolor\":\"white\",\"showbackground\":true,\"ticks\":\"\",\"zerolinecolor\":\"white\",\"gridwidth\":2},\"yaxis\":{\"backgroundcolor\":\"#E5ECF6\",\"gridcolor\":\"white\",\"linecolor\":\"white\",\"showbackground\":true,\"ticks\":\"\",\"zerolinecolor\":\"white\",\"gridwidth\":2},\"zaxis\":{\"backgroundcolor\":\"#E5ECF6\",\"gridcolor\":\"white\",\"linecolor\":\"white\",\"showbackground\":true,\"ticks\":\"\",\"zerolinecolor\":\"white\",\"gridwidth\":2}},\"shapedefaults\":{\"line\":{\"color\":\"#2a3f5f\"}},\"annotationdefaults\":{\"arrowcolor\":\"#2a3f5f\",\"arrowhead\":0,\"arrowwidth\":1},\"geo\":{\"bgcolor\":\"white\",\"landcolor\":\"#E5ECF6\",\"subunitcolor\":\"white\",\"showland\":true,\"showlakes\":true,\"lakecolor\":\"white\"},\"title\":{\"x\":0.05},\"mapbox\":{\"style\":\"light\"}}},\"xaxis\":{\"anchor\":\"y\",\"domain\":[0.0,1.0],\"title\":{\"text\":\"Dataset\"},\"showgrid\":false},\"yaxis\":{\"anchor\":\"x\",\"domain\":[0.0,1.0],\"title\":{\"text\":\"Iteration Duration, seconds\"},\"type\":\"log\",\"showgrid\":true},\"legend\":{\"title\":{\"text\":\"Backend Engine\"},\"tracegroupgap\":0,\"orientation\":\"h\",\"yanchor\":\"bottom\",\"y\":1,\"x\":0.5,\"xanchor\":\"center\"},\"title\":{\"text\":\"PageRank\",\"x\":0.5},\"barmode\":\"group\",\"bargap\":0.3,\"bargroupgap\":0.1},                        {\"responsive\": true}                    ).then(function(){\n",
       "                            \n",
       "var gd = document.getElementById('7dd03762-acfc-484c-ac61-a2dab59c9bc0');\n",
       "var x = new MutationObserver(function (mutations, observer) {{\n",
       "        var display = window.getComputedStyle(gd).display;\n",
       "        if (!display || display === 'none') {{\n",
       "            console.log([gd, 'removed!']);\n",
       "            Plotly.purge(gd);\n",
       "            observer.disconnect();\n",
       "        }}\n",
       "}});\n",
       "\n",
       "// Listen for the removal of the full notebook cells\n",
       "var notebookContainer = gd.closest('#notebook-container');\n",
       "if (notebookContainer) {{\n",
       "    x.observe(notebookContainer, {childList: true});\n",
       "}}\n",
       "\n",
       "// Listen for the clearing of the current output cell\n",
       "var outputEl = gd.closest('.output');\n",
       "if (outputEl) {{\n",
       "    x.observe(outputEl, {childList: true});\n",
       "}}\n",
       "\n",
       "                        })                };                });            </script>        </div>"
      ]
     },
     "metadata": {},
     "output_type": "display_data"
    },
    {
     "data": {
      "application/vnd.plotly.v1+json": {
       "config": {
        "plotlyServerURL": "https://plot.ly"
       },
       "data": [
        {
         "alignmentgroup": "True",
         "cliponaxis": false,
         "hovertemplate": "Backend Engine=CuGraph<br>Dataset=%{x}<br>Iteration Duration, seconds=%{y}<br>Iteration Duration=%{text}<extra></extra>",
         "legendgroup": "CuGraph",
         "marker": {
          "color": "#636efa",
          "pattern": {
           "shape": ""
          }
         },
         "name": "CuGraph",
         "offsetgroup": "CuGraph",
         "orientation": "v",
         "showlegend": true,
         "text": [
          "Not Implemented",
          "Not Implemented",
          "Not Implemented",
          "Not Implemented",
          "Not Implemented",
          "Not Implemented",
          "Not Implemented",
          "Not Implemented",
          "Not Implemented",
          "Not Implemented"
         ],
         "textangle": -60,
         "textfont": {
          "size": 14
         },
         "textposition": "auto",
         "type": "bar",
         "x": [
          "butterfly_labels",
          "bitcoin_alpha",
          "facebook",
          "wiki_vote",
          "enron",
          "slashdot",
          "twitter",
          "wiki_topcasts",
          "live_journal",
          "orkut"
         ],
         "xaxis": "x",
         "y": [
          7620.7039511204,
          7620.7039511204,
          7620.7039511204,
          7620.7039511204,
          7620.7039511204,
          7620.7039511204,
          7620.7039511204,
          7620.7039511204,
          7620.7039511204,
          7620.7039511204
         ],
         "yaxis": "y"
        },
        {
         "alignmentgroup": "True",
         "cliponaxis": false,
         "hovertemplate": "Backend Engine=NetworkX<br>Dataset=%{x}<br>Iteration Duration, seconds=%{y}<br>Iteration Duration=%{text}<extra></extra>",
         "legendgroup": "NetworkX",
         "marker": {
          "color": "#EF553B",
          "pattern": {
           "shape": ""
          }
         },
         "name": "NetworkX",
         "offsetgroup": "NetworkX",
         "orientation": "v",
         "showlegend": true,
         "text": [
          "39.61 secs",
          "1 hour and 13.07 mins",
          "TimeOut",
          "TimeOut",
          "TimeOut",
          "TimeOut",
          "TimeOut",
          "TimeOut",
          "TimeOut",
          "TimeOut"
         ],
         "textangle": -60,
         "textfont": {
          "size": 14
         },
         "textposition": "auto",
         "type": "bar",
         "x": [
          "butterfly_labels",
          "bitcoin_alpha",
          "facebook",
          "wiki_vote",
          "enron",
          "slashdot",
          "twitter",
          "wiki_topcasts",
          "live_journal",
          "orkut"
         ],
         "xaxis": "x",
         "y": [
          39.61176404356875,
          4384.3890316486,
          7620.7039511204,
          7620.7039511204,
          7620.7039511204,
          7620.7039511204,
          7620.7039511204,
          7620.7039511204,
          7620.7039511204,
          7620.7039511204
         ],
         "yaxis": "y"
        },
        {
         "alignmentgroup": "True",
         "cliponaxis": false,
         "hovertemplate": "Backend Engine=RetworkX<br>Dataset=%{x}<br>Iteration Duration, seconds=%{y}<br>Iteration Duration=%{text}<extra></extra>",
         "legendgroup": "RetworkX",
         "marker": {
          "color": "#00cc96",
          "pattern": {
           "shape": ""
          }
         },
         "name": "RetworkX",
         "offsetgroup": "RetworkX",
         "orientation": "v",
         "showlegend": true,
         "text": [
          "187.78 msecs",
          "22.75 secs",
          "1.54 secs",
          "9.17 secs",
          "2 hours and 7 mins",
          "TimeOut",
          "TimeOut",
          "TimeOut",
          "TimeOut",
          "TimeOut"
         ],
         "textangle": -60,
         "textfont": {
          "size": 14
         },
         "textposition": "auto",
         "type": "bar",
         "x": [
          "butterfly_labels",
          "bitcoin_alpha",
          "facebook",
          "wiki_vote",
          "enron",
          "slashdot",
          "twitter",
          "wiki_topcasts",
          "live_journal",
          "orkut"
         ],
         "xaxis": "x",
         "y": [
          0.18777816055416147,
          22.75342913027037,
          1.5373952346079283,
          9.166784665801515,
          7620.7039511204,
          7620.7039511204,
          7620.7039511204,
          7620.7039511204,
          7620.7039511204,
          7620.7039511204
         ],
         "yaxis": "y"
        },
        {
         "alignmentgroup": "True",
         "cliponaxis": false,
         "hovertemplate": "Backend Engine=Snap<br>Dataset=%{x}<br>Iteration Duration, seconds=%{y}<br>Iteration Duration=%{text}<extra></extra>",
         "legendgroup": "Snap",
         "marker": {
          "color": "#ab63fa",
          "pattern": {
           "shape": ""
          }
         },
         "name": "Snap",
         "offsetgroup": "Snap",
         "orientation": "v",
         "showlegend": true,
         "text": [
          "3.27 msecs",
          "1.59 secs",
          "655.51 msecs",
          "3.43 secs",
          "3.15 mins",
          "27.53 mins",
          "TimeOut",
          "TimeOut",
          "TimeOut",
          "TimeOut"
         ],
         "textangle": -60,
         "textfont": {
          "size": 14
         },
         "textposition": "auto",
         "type": "bar",
         "x": [
          "butterfly_labels",
          "bitcoin_alpha",
          "facebook",
          "wiki_vote",
          "enron",
          "slashdot",
          "twitter",
          "wiki_topcasts",
          "live_journal",
          "orkut"
         ],
         "xaxis": "x",
         "y": [
          0.003274333217841239,
          1.5939113455045093,
          0.655514702786572,
          3.4305172811234286,
          189.597973644725,
          1652.8872439861,
          7620.7039511204,
          7620.7039511204,
          7620.7039511204,
          7620.7039511204
         ],
         "yaxis": "y"
        },
        {
         "alignmentgroup": "True",
         "cliponaxis": false,
         "hovertemplate": "Backend Engine=IGraph<br>Dataset=%{x}<br>Iteration Duration, seconds=%{y}<br>Iteration Duration=%{text}<extra></extra>",
         "legendgroup": "IGraph",
         "marker": {
          "color": "#FFA15A",
          "pattern": {
           "shape": ""
          }
         },
         "name": "IGraph",
         "offsetgroup": "IGraph",
         "orientation": "v",
         "showlegend": true,
         "text": [
          "349.34 msecs",
          "10.91 secs",
          "7.65 secs",
          "24.01 secs",
          "19.85 mins",
          "TimeOut",
          "TimeOut",
          "TimeOut",
          "TimeOut",
          "TimeOut"
         ],
         "textangle": -60,
         "textfont": {
          "size": 14
         },
         "textposition": "auto",
         "type": "bar",
         "x": [
          "butterfly_labels",
          "bitcoin_alpha",
          "facebook",
          "wiki_vote",
          "enron",
          "slashdot",
          "twitter",
          "wiki_topcasts",
          "live_journal",
          "orkut"
         ],
         "xaxis": "x",
         "y": [
          0.34934372466158325,
          10.906561638628572,
          7.653925793081013,
          24.009080038072003,
          1191.6460478306,
          7620.7039511204,
          7620.7039511204,
          7620.7039511204,
          7620.7039511204,
          7620.7039511204
         ],
         "yaxis": "y"
        }
       ],
       "layout": {
        "bargap": 0.3,
        "bargroupgap": 0.1,
        "barmode": "group",
        "legend": {
         "orientation": "h",
         "title": {
          "text": "Backend Engine"
         },
         "tracegroupgap": 0,
         "x": 0.5,
         "xanchor": "center",
         "y": 1,
         "yanchor": "bottom"
        },
        "template": {
         "data": {
          "bar": [
           {
            "error_x": {
             "color": "#2a3f5f"
            },
            "error_y": {
             "color": "#2a3f5f"
            },
            "marker": {
             "line": {
              "color": "#E5ECF6",
              "width": 0.5
             },
             "pattern": {
              "fillmode": "overlay",
              "size": 10,
              "solidity": 0.2
             }
            },
            "type": "bar"
           }
          ],
          "barpolar": [
           {
            "marker": {
             "line": {
              "color": "#E5ECF6",
              "width": 0.5
             },
             "pattern": {
              "fillmode": "overlay",
              "size": 10,
              "solidity": 0.2
             }
            },
            "type": "barpolar"
           }
          ],
          "carpet": [
           {
            "aaxis": {
             "endlinecolor": "#2a3f5f",
             "gridcolor": "white",
             "linecolor": "white",
             "minorgridcolor": "white",
             "startlinecolor": "#2a3f5f"
            },
            "baxis": {
             "endlinecolor": "#2a3f5f",
             "gridcolor": "white",
             "linecolor": "white",
             "minorgridcolor": "white",
             "startlinecolor": "#2a3f5f"
            },
            "type": "carpet"
           }
          ],
          "choropleth": [
           {
            "colorbar": {
             "outlinewidth": 0,
             "ticks": ""
            },
            "type": "choropleth"
           }
          ],
          "contour": [
           {
            "colorbar": {
             "outlinewidth": 0,
             "ticks": ""
            },
            "colorscale": [
             [
              0,
              "#0d0887"
             ],
             [
              0.1111111111111111,
              "#46039f"
             ],
             [
              0.2222222222222222,
              "#7201a8"
             ],
             [
              0.3333333333333333,
              "#9c179e"
             ],
             [
              0.4444444444444444,
              "#bd3786"
             ],
             [
              0.5555555555555556,
              "#d8576b"
             ],
             [
              0.6666666666666666,
              "#ed7953"
             ],
             [
              0.7777777777777778,
              "#fb9f3a"
             ],
             [
              0.8888888888888888,
              "#fdca26"
             ],
             [
              1,
              "#f0f921"
             ]
            ],
            "type": "contour"
           }
          ],
          "contourcarpet": [
           {
            "colorbar": {
             "outlinewidth": 0,
             "ticks": ""
            },
            "type": "contourcarpet"
           }
          ],
          "heatmap": [
           {
            "colorbar": {
             "outlinewidth": 0,
             "ticks": ""
            },
            "colorscale": [
             [
              0,
              "#0d0887"
             ],
             [
              0.1111111111111111,
              "#46039f"
             ],
             [
              0.2222222222222222,
              "#7201a8"
             ],
             [
              0.3333333333333333,
              "#9c179e"
             ],
             [
              0.4444444444444444,
              "#bd3786"
             ],
             [
              0.5555555555555556,
              "#d8576b"
             ],
             [
              0.6666666666666666,
              "#ed7953"
             ],
             [
              0.7777777777777778,
              "#fb9f3a"
             ],
             [
              0.8888888888888888,
              "#fdca26"
             ],
             [
              1,
              "#f0f921"
             ]
            ],
            "type": "heatmap"
           }
          ],
          "heatmapgl": [
           {
            "colorbar": {
             "outlinewidth": 0,
             "ticks": ""
            },
            "colorscale": [
             [
              0,
              "#0d0887"
             ],
             [
              0.1111111111111111,
              "#46039f"
             ],
             [
              0.2222222222222222,
              "#7201a8"
             ],
             [
              0.3333333333333333,
              "#9c179e"
             ],
             [
              0.4444444444444444,
              "#bd3786"
             ],
             [
              0.5555555555555556,
              "#d8576b"
             ],
             [
              0.6666666666666666,
              "#ed7953"
             ],
             [
              0.7777777777777778,
              "#fb9f3a"
             ],
             [
              0.8888888888888888,
              "#fdca26"
             ],
             [
              1,
              "#f0f921"
             ]
            ],
            "type": "heatmapgl"
           }
          ],
          "histogram": [
           {
            "marker": {
             "pattern": {
              "fillmode": "overlay",
              "size": 10,
              "solidity": 0.2
             }
            },
            "type": "histogram"
           }
          ],
          "histogram2d": [
           {
            "colorbar": {
             "outlinewidth": 0,
             "ticks": ""
            },
            "colorscale": [
             [
              0,
              "#0d0887"
             ],
             [
              0.1111111111111111,
              "#46039f"
             ],
             [
              0.2222222222222222,
              "#7201a8"
             ],
             [
              0.3333333333333333,
              "#9c179e"
             ],
             [
              0.4444444444444444,
              "#bd3786"
             ],
             [
              0.5555555555555556,
              "#d8576b"
             ],
             [
              0.6666666666666666,
              "#ed7953"
             ],
             [
              0.7777777777777778,
              "#fb9f3a"
             ],
             [
              0.8888888888888888,
              "#fdca26"
             ],
             [
              1,
              "#f0f921"
             ]
            ],
            "type": "histogram2d"
           }
          ],
          "histogram2dcontour": [
           {
            "colorbar": {
             "outlinewidth": 0,
             "ticks": ""
            },
            "colorscale": [
             [
              0,
              "#0d0887"
             ],
             [
              0.1111111111111111,
              "#46039f"
             ],
             [
              0.2222222222222222,
              "#7201a8"
             ],
             [
              0.3333333333333333,
              "#9c179e"
             ],
             [
              0.4444444444444444,
              "#bd3786"
             ],
             [
              0.5555555555555556,
              "#d8576b"
             ],
             [
              0.6666666666666666,
              "#ed7953"
             ],
             [
              0.7777777777777778,
              "#fb9f3a"
             ],
             [
              0.8888888888888888,
              "#fdca26"
             ],
             [
              1,
              "#f0f921"
             ]
            ],
            "type": "histogram2dcontour"
           }
          ],
          "mesh3d": [
           {
            "colorbar": {
             "outlinewidth": 0,
             "ticks": ""
            },
            "type": "mesh3d"
           }
          ],
          "parcoords": [
           {
            "line": {
             "colorbar": {
              "outlinewidth": 0,
              "ticks": ""
             }
            },
            "type": "parcoords"
           }
          ],
          "pie": [
           {
            "automargin": true,
            "type": "pie"
           }
          ],
          "scatter": [
           {
            "fillpattern": {
             "fillmode": "overlay",
             "size": 10,
             "solidity": 0.2
            },
            "type": "scatter"
           }
          ],
          "scatter3d": [
           {
            "line": {
             "colorbar": {
              "outlinewidth": 0,
              "ticks": ""
             }
            },
            "marker": {
             "colorbar": {
              "outlinewidth": 0,
              "ticks": ""
             }
            },
            "type": "scatter3d"
           }
          ],
          "scattercarpet": [
           {
            "marker": {
             "colorbar": {
              "outlinewidth": 0,
              "ticks": ""
             }
            },
            "type": "scattercarpet"
           }
          ],
          "scattergeo": [
           {
            "marker": {
             "colorbar": {
              "outlinewidth": 0,
              "ticks": ""
             }
            },
            "type": "scattergeo"
           }
          ],
          "scattergl": [
           {
            "marker": {
             "colorbar": {
              "outlinewidth": 0,
              "ticks": ""
             }
            },
            "type": "scattergl"
           }
          ],
          "scattermapbox": [
           {
            "marker": {
             "colorbar": {
              "outlinewidth": 0,
              "ticks": ""
             }
            },
            "type": "scattermapbox"
           }
          ],
          "scatterpolar": [
           {
            "marker": {
             "colorbar": {
              "outlinewidth": 0,
              "ticks": ""
             }
            },
            "type": "scatterpolar"
           }
          ],
          "scatterpolargl": [
           {
            "marker": {
             "colorbar": {
              "outlinewidth": 0,
              "ticks": ""
             }
            },
            "type": "scatterpolargl"
           }
          ],
          "scatterternary": [
           {
            "marker": {
             "colorbar": {
              "outlinewidth": 0,
              "ticks": ""
             }
            },
            "type": "scatterternary"
           }
          ],
          "surface": [
           {
            "colorbar": {
             "outlinewidth": 0,
             "ticks": ""
            },
            "colorscale": [
             [
              0,
              "#0d0887"
             ],
             [
              0.1111111111111111,
              "#46039f"
             ],
             [
              0.2222222222222222,
              "#7201a8"
             ],
             [
              0.3333333333333333,
              "#9c179e"
             ],
             [
              0.4444444444444444,
              "#bd3786"
             ],
             [
              0.5555555555555556,
              "#d8576b"
             ],
             [
              0.6666666666666666,
              "#ed7953"
             ],
             [
              0.7777777777777778,
              "#fb9f3a"
             ],
             [
              0.8888888888888888,
              "#fdca26"
             ],
             [
              1,
              "#f0f921"
             ]
            ],
            "type": "surface"
           }
          ],
          "table": [
           {
            "cells": {
             "fill": {
              "color": "#EBF0F8"
             },
             "line": {
              "color": "white"
             }
            },
            "header": {
             "fill": {
              "color": "#C8D4E3"
             },
             "line": {
              "color": "white"
             }
            },
            "type": "table"
           }
          ]
         },
         "layout": {
          "annotationdefaults": {
           "arrowcolor": "#2a3f5f",
           "arrowhead": 0,
           "arrowwidth": 1
          },
          "autotypenumbers": "strict",
          "coloraxis": {
           "colorbar": {
            "outlinewidth": 0,
            "ticks": ""
           }
          },
          "colorscale": {
           "diverging": [
            [
             0,
             "#8e0152"
            ],
            [
             0.1,
             "#c51b7d"
            ],
            [
             0.2,
             "#de77ae"
            ],
            [
             0.3,
             "#f1b6da"
            ],
            [
             0.4,
             "#fde0ef"
            ],
            [
             0.5,
             "#f7f7f7"
            ],
            [
             0.6,
             "#e6f5d0"
            ],
            [
             0.7,
             "#b8e186"
            ],
            [
             0.8,
             "#7fbc41"
            ],
            [
             0.9,
             "#4d9221"
            ],
            [
             1,
             "#276419"
            ]
           ],
           "sequential": [
            [
             0,
             "#0d0887"
            ],
            [
             0.1111111111111111,
             "#46039f"
            ],
            [
             0.2222222222222222,
             "#7201a8"
            ],
            [
             0.3333333333333333,
             "#9c179e"
            ],
            [
             0.4444444444444444,
             "#bd3786"
            ],
            [
             0.5555555555555556,
             "#d8576b"
            ],
            [
             0.6666666666666666,
             "#ed7953"
            ],
            [
             0.7777777777777778,
             "#fb9f3a"
            ],
            [
             0.8888888888888888,
             "#fdca26"
            ],
            [
             1,
             "#f0f921"
            ]
           ],
           "sequentialminus": [
            [
             0,
             "#0d0887"
            ],
            [
             0.1111111111111111,
             "#46039f"
            ],
            [
             0.2222222222222222,
             "#7201a8"
            ],
            [
             0.3333333333333333,
             "#9c179e"
            ],
            [
             0.4444444444444444,
             "#bd3786"
            ],
            [
             0.5555555555555556,
             "#d8576b"
            ],
            [
             0.6666666666666666,
             "#ed7953"
            ],
            [
             0.7777777777777778,
             "#fb9f3a"
            ],
            [
             0.8888888888888888,
             "#fdca26"
            ],
            [
             1,
             "#f0f921"
            ]
           ]
          },
          "colorway": [
           "#636efa",
           "#EF553B",
           "#00cc96",
           "#ab63fa",
           "#FFA15A",
           "#19d3f3",
           "#FF6692",
           "#B6E880",
           "#FF97FF",
           "#FECB52"
          ],
          "font": {
           "color": "#2a3f5f"
          },
          "geo": {
           "bgcolor": "white",
           "lakecolor": "white",
           "landcolor": "#E5ECF6",
           "showlakes": true,
           "showland": true,
           "subunitcolor": "white"
          },
          "hoverlabel": {
           "align": "left"
          },
          "hovermode": "closest",
          "mapbox": {
           "style": "light"
          },
          "paper_bgcolor": "white",
          "plot_bgcolor": "#E5ECF6",
          "polar": {
           "angularaxis": {
            "gridcolor": "white",
            "linecolor": "white",
            "ticks": ""
           },
           "bgcolor": "#E5ECF6",
           "radialaxis": {
            "gridcolor": "white",
            "linecolor": "white",
            "ticks": ""
           }
          },
          "scene": {
           "xaxis": {
            "backgroundcolor": "#E5ECF6",
            "gridcolor": "white",
            "gridwidth": 2,
            "linecolor": "white",
            "showbackground": true,
            "ticks": "",
            "zerolinecolor": "white"
           },
           "yaxis": {
            "backgroundcolor": "#E5ECF6",
            "gridcolor": "white",
            "gridwidth": 2,
            "linecolor": "white",
            "showbackground": true,
            "ticks": "",
            "zerolinecolor": "white"
           },
           "zaxis": {
            "backgroundcolor": "#E5ECF6",
            "gridcolor": "white",
            "gridwidth": 2,
            "linecolor": "white",
            "showbackground": true,
            "ticks": "",
            "zerolinecolor": "white"
           }
          },
          "shapedefaults": {
           "line": {
            "color": "#2a3f5f"
           }
          },
          "ternary": {
           "aaxis": {
            "gridcolor": "white",
            "linecolor": "white",
            "ticks": ""
           },
           "baxis": {
            "gridcolor": "white",
            "linecolor": "white",
            "ticks": ""
           },
           "bgcolor": "#E5ECF6",
           "caxis": {
            "gridcolor": "white",
            "linecolor": "white",
            "ticks": ""
           }
          },
          "title": {
           "x": 0.05
          },
          "xaxis": {
           "automargin": true,
           "gridcolor": "white",
           "linecolor": "white",
           "ticks": "",
           "title": {
            "standoff": 15
           },
           "zerolinecolor": "white",
           "zerolinewidth": 2
          },
          "yaxis": {
           "automargin": true,
           "gridcolor": "white",
           "linecolor": "white",
           "ticks": "",
           "title": {
            "standoff": 15
           },
           "zerolinecolor": "white",
           "zerolinewidth": 2
          }
         }
        },
        "title": {
         "text": "Pairwise Distances",
         "x": 0.5
        },
        "xaxis": {
         "anchor": "y",
         "domain": [
          0,
          1
         ],
         "showgrid": false,
         "title": {
          "text": "Dataset"
         }
        },
        "yaxis": {
         "anchor": "x",
         "domain": [
          0,
          1
         ],
         "showgrid": true,
         "title": {
          "text": "Iteration Duration, seconds"
         },
         "type": "log"
        }
       }
      },
      "text/html": [
       "<div>                            <div id=\"a687e70e-af97-48ff-8267-f866d1cb1e72\" class=\"plotly-graph-div\" style=\"height:525px; width:100%;\"></div>            <script type=\"text/javascript\">                require([\"plotly\"], function(Plotly) {                    window.PLOTLYENV=window.PLOTLYENV || {};                                    if (document.getElementById(\"a687e70e-af97-48ff-8267-f866d1cb1e72\")) {                    Plotly.newPlot(                        \"a687e70e-af97-48ff-8267-f866d1cb1e72\",                        [{\"alignmentgroup\":\"True\",\"hovertemplate\":\"Backend Engine=CuGraph<br>Dataset=%{x}<br>Iteration Duration, seconds=%{y}<br>Iteration Duration=%{text}<extra></extra>\",\"legendgroup\":\"CuGraph\",\"marker\":{\"color\":\"#636efa\",\"pattern\":{\"shape\":\"\"}},\"name\":\"CuGraph\",\"offsetgroup\":\"CuGraph\",\"orientation\":\"v\",\"showlegend\":true,\"text\":[\"Not Implemented\",\"Not Implemented\",\"Not Implemented\",\"Not Implemented\",\"Not Implemented\",\"Not Implemented\",\"Not Implemented\",\"Not Implemented\",\"Not Implemented\",\"Not Implemented\"],\"textposition\":\"auto\",\"x\":[\"butterfly_labels\",\"bitcoin_alpha\",\"facebook\",\"wiki_vote\",\"enron\",\"slashdot\",\"twitter\",\"wiki_topcasts\",\"live_journal\",\"orkut\"],\"xaxis\":\"x\",\"y\":[7620.7039511204,7620.7039511204,7620.7039511204,7620.7039511204,7620.7039511204,7620.7039511204,7620.7039511204,7620.7039511204,7620.7039511204,7620.7039511204],\"yaxis\":\"y\",\"type\":\"bar\",\"textfont\":{\"size\":14},\"cliponaxis\":false,\"textangle\":-60},{\"alignmentgroup\":\"True\",\"hovertemplate\":\"Backend Engine=NetworkX<br>Dataset=%{x}<br>Iteration Duration, seconds=%{y}<br>Iteration Duration=%{text}<extra></extra>\",\"legendgroup\":\"NetworkX\",\"marker\":{\"color\":\"#EF553B\",\"pattern\":{\"shape\":\"\"}},\"name\":\"NetworkX\",\"offsetgroup\":\"NetworkX\",\"orientation\":\"v\",\"showlegend\":true,\"text\":[\"39.61 secs\",\"1 hour and 13.07 mins\",\"TimeOut\",\"TimeOut\",\"TimeOut\",\"TimeOut\",\"TimeOut\",\"TimeOut\",\"TimeOut\",\"TimeOut\"],\"textposition\":\"auto\",\"x\":[\"butterfly_labels\",\"bitcoin_alpha\",\"facebook\",\"wiki_vote\",\"enron\",\"slashdot\",\"twitter\",\"wiki_topcasts\",\"live_journal\",\"orkut\"],\"xaxis\":\"x\",\"y\":[39.61176404356875,4384.3890316486,7620.7039511204,7620.7039511204,7620.7039511204,7620.7039511204,7620.7039511204,7620.7039511204,7620.7039511204,7620.7039511204],\"yaxis\":\"y\",\"type\":\"bar\",\"textfont\":{\"size\":14},\"cliponaxis\":false,\"textangle\":-60},{\"alignmentgroup\":\"True\",\"hovertemplate\":\"Backend Engine=RetworkX<br>Dataset=%{x}<br>Iteration Duration, seconds=%{y}<br>Iteration Duration=%{text}<extra></extra>\",\"legendgroup\":\"RetworkX\",\"marker\":{\"color\":\"#00cc96\",\"pattern\":{\"shape\":\"\"}},\"name\":\"RetworkX\",\"offsetgroup\":\"RetworkX\",\"orientation\":\"v\",\"showlegend\":true,\"text\":[\"187.78 msecs\",\"22.75 secs\",\"1.54 secs\",\"9.17 secs\",\"2 hours and 7 mins\",\"TimeOut\",\"TimeOut\",\"TimeOut\",\"TimeOut\",\"TimeOut\"],\"textposition\":\"auto\",\"x\":[\"butterfly_labels\",\"bitcoin_alpha\",\"facebook\",\"wiki_vote\",\"enron\",\"slashdot\",\"twitter\",\"wiki_topcasts\",\"live_journal\",\"orkut\"],\"xaxis\":\"x\",\"y\":[0.18777816055416147,22.75342913027037,1.5373952346079283,9.166784665801515,7620.7039511204,7620.7039511204,7620.7039511204,7620.7039511204,7620.7039511204,7620.7039511204],\"yaxis\":\"y\",\"type\":\"bar\",\"textfont\":{\"size\":14},\"cliponaxis\":false,\"textangle\":-60},{\"alignmentgroup\":\"True\",\"hovertemplate\":\"Backend Engine=Snap<br>Dataset=%{x}<br>Iteration Duration, seconds=%{y}<br>Iteration Duration=%{text}<extra></extra>\",\"legendgroup\":\"Snap\",\"marker\":{\"color\":\"#ab63fa\",\"pattern\":{\"shape\":\"\"}},\"name\":\"Snap\",\"offsetgroup\":\"Snap\",\"orientation\":\"v\",\"showlegend\":true,\"text\":[\"3.27 msecs\",\"1.59 secs\",\"655.51 msecs\",\"3.43 secs\",\"3.15 mins\",\"27.53 mins\",\"TimeOut\",\"TimeOut\",\"TimeOut\",\"TimeOut\"],\"textposition\":\"auto\",\"x\":[\"butterfly_labels\",\"bitcoin_alpha\",\"facebook\",\"wiki_vote\",\"enron\",\"slashdot\",\"twitter\",\"wiki_topcasts\",\"live_journal\",\"orkut\"],\"xaxis\":\"x\",\"y\":[0.003274333217841239,1.5939113455045093,0.655514702786572,3.4305172811234286,189.597973644725,1652.8872439861,7620.7039511204,7620.7039511204,7620.7039511204,7620.7039511204],\"yaxis\":\"y\",\"type\":\"bar\",\"textfont\":{\"size\":14},\"cliponaxis\":false,\"textangle\":-60},{\"alignmentgroup\":\"True\",\"hovertemplate\":\"Backend Engine=IGraph<br>Dataset=%{x}<br>Iteration Duration, seconds=%{y}<br>Iteration Duration=%{text}<extra></extra>\",\"legendgroup\":\"IGraph\",\"marker\":{\"color\":\"#FFA15A\",\"pattern\":{\"shape\":\"\"}},\"name\":\"IGraph\",\"offsetgroup\":\"IGraph\",\"orientation\":\"v\",\"showlegend\":true,\"text\":[\"349.34 msecs\",\"10.91 secs\",\"7.65 secs\",\"24.01 secs\",\"19.85 mins\",\"TimeOut\",\"TimeOut\",\"TimeOut\",\"TimeOut\",\"TimeOut\"],\"textposition\":\"auto\",\"x\":[\"butterfly_labels\",\"bitcoin_alpha\",\"facebook\",\"wiki_vote\",\"enron\",\"slashdot\",\"twitter\",\"wiki_topcasts\",\"live_journal\",\"orkut\"],\"xaxis\":\"x\",\"y\":[0.34934372466158325,10.906561638628572,7.653925793081013,24.009080038072003,1191.6460478306,7620.7039511204,7620.7039511204,7620.7039511204,7620.7039511204,7620.7039511204],\"yaxis\":\"y\",\"type\":\"bar\",\"textfont\":{\"size\":14},\"cliponaxis\":false,\"textangle\":-60}],                        {\"template\":{\"data\":{\"histogram2dcontour\":[{\"type\":\"histogram2dcontour\",\"colorbar\":{\"outlinewidth\":0,\"ticks\":\"\"},\"colorscale\":[[0.0,\"#0d0887\"],[0.1111111111111111,\"#46039f\"],[0.2222222222222222,\"#7201a8\"],[0.3333333333333333,\"#9c179e\"],[0.4444444444444444,\"#bd3786\"],[0.5555555555555556,\"#d8576b\"],[0.6666666666666666,\"#ed7953\"],[0.7777777777777778,\"#fb9f3a\"],[0.8888888888888888,\"#fdca26\"],[1.0,\"#f0f921\"]]}],\"choropleth\":[{\"type\":\"choropleth\",\"colorbar\":{\"outlinewidth\":0,\"ticks\":\"\"}}],\"histogram2d\":[{\"type\":\"histogram2d\",\"colorbar\":{\"outlinewidth\":0,\"ticks\":\"\"},\"colorscale\":[[0.0,\"#0d0887\"],[0.1111111111111111,\"#46039f\"],[0.2222222222222222,\"#7201a8\"],[0.3333333333333333,\"#9c179e\"],[0.4444444444444444,\"#bd3786\"],[0.5555555555555556,\"#d8576b\"],[0.6666666666666666,\"#ed7953\"],[0.7777777777777778,\"#fb9f3a\"],[0.8888888888888888,\"#fdca26\"],[1.0,\"#f0f921\"]]}],\"heatmap\":[{\"type\":\"heatmap\",\"colorbar\":{\"outlinewidth\":0,\"ticks\":\"\"},\"colorscale\":[[0.0,\"#0d0887\"],[0.1111111111111111,\"#46039f\"],[0.2222222222222222,\"#7201a8\"],[0.3333333333333333,\"#9c179e\"],[0.4444444444444444,\"#bd3786\"],[0.5555555555555556,\"#d8576b\"],[0.6666666666666666,\"#ed7953\"],[0.7777777777777778,\"#fb9f3a\"],[0.8888888888888888,\"#fdca26\"],[1.0,\"#f0f921\"]]}],\"heatmapgl\":[{\"type\":\"heatmapgl\",\"colorbar\":{\"outlinewidth\":0,\"ticks\":\"\"},\"colorscale\":[[0.0,\"#0d0887\"],[0.1111111111111111,\"#46039f\"],[0.2222222222222222,\"#7201a8\"],[0.3333333333333333,\"#9c179e\"],[0.4444444444444444,\"#bd3786\"],[0.5555555555555556,\"#d8576b\"],[0.6666666666666666,\"#ed7953\"],[0.7777777777777778,\"#fb9f3a\"],[0.8888888888888888,\"#fdca26\"],[1.0,\"#f0f921\"]]}],\"contourcarpet\":[{\"type\":\"contourcarpet\",\"colorbar\":{\"outlinewidth\":0,\"ticks\":\"\"}}],\"contour\":[{\"type\":\"contour\",\"colorbar\":{\"outlinewidth\":0,\"ticks\":\"\"},\"colorscale\":[[0.0,\"#0d0887\"],[0.1111111111111111,\"#46039f\"],[0.2222222222222222,\"#7201a8\"],[0.3333333333333333,\"#9c179e\"],[0.4444444444444444,\"#bd3786\"],[0.5555555555555556,\"#d8576b\"],[0.6666666666666666,\"#ed7953\"],[0.7777777777777778,\"#fb9f3a\"],[0.8888888888888888,\"#fdca26\"],[1.0,\"#f0f921\"]]}],\"surface\":[{\"type\":\"surface\",\"colorbar\":{\"outlinewidth\":0,\"ticks\":\"\"},\"colorscale\":[[0.0,\"#0d0887\"],[0.1111111111111111,\"#46039f\"],[0.2222222222222222,\"#7201a8\"],[0.3333333333333333,\"#9c179e\"],[0.4444444444444444,\"#bd3786\"],[0.5555555555555556,\"#d8576b\"],[0.6666666666666666,\"#ed7953\"],[0.7777777777777778,\"#fb9f3a\"],[0.8888888888888888,\"#fdca26\"],[1.0,\"#f0f921\"]]}],\"mesh3d\":[{\"type\":\"mesh3d\",\"colorbar\":{\"outlinewidth\":0,\"ticks\":\"\"}}],\"scatter\":[{\"fillpattern\":{\"fillmode\":\"overlay\",\"size\":10,\"solidity\":0.2},\"type\":\"scatter\"}],\"parcoords\":[{\"type\":\"parcoords\",\"line\":{\"colorbar\":{\"outlinewidth\":0,\"ticks\":\"\"}}}],\"scatterpolargl\":[{\"type\":\"scatterpolargl\",\"marker\":{\"colorbar\":{\"outlinewidth\":0,\"ticks\":\"\"}}}],\"bar\":[{\"error_x\":{\"color\":\"#2a3f5f\"},\"error_y\":{\"color\":\"#2a3f5f\"},\"marker\":{\"line\":{\"color\":\"#E5ECF6\",\"width\":0.5},\"pattern\":{\"fillmode\":\"overlay\",\"size\":10,\"solidity\":0.2}},\"type\":\"bar\"}],\"scattergeo\":[{\"type\":\"scattergeo\",\"marker\":{\"colorbar\":{\"outlinewidth\":0,\"ticks\":\"\"}}}],\"scatterpolar\":[{\"type\":\"scatterpolar\",\"marker\":{\"colorbar\":{\"outlinewidth\":0,\"ticks\":\"\"}}}],\"histogram\":[{\"marker\":{\"pattern\":{\"fillmode\":\"overlay\",\"size\":10,\"solidity\":0.2}},\"type\":\"histogram\"}],\"scattergl\":[{\"type\":\"scattergl\",\"marker\":{\"colorbar\":{\"outlinewidth\":0,\"ticks\":\"\"}}}],\"scatter3d\":[{\"type\":\"scatter3d\",\"line\":{\"colorbar\":{\"outlinewidth\":0,\"ticks\":\"\"}},\"marker\":{\"colorbar\":{\"outlinewidth\":0,\"ticks\":\"\"}}}],\"scattermapbox\":[{\"type\":\"scattermapbox\",\"marker\":{\"colorbar\":{\"outlinewidth\":0,\"ticks\":\"\"}}}],\"scatterternary\":[{\"type\":\"scatterternary\",\"marker\":{\"colorbar\":{\"outlinewidth\":0,\"ticks\":\"\"}}}],\"scattercarpet\":[{\"type\":\"scattercarpet\",\"marker\":{\"colorbar\":{\"outlinewidth\":0,\"ticks\":\"\"}}}],\"carpet\":[{\"aaxis\":{\"endlinecolor\":\"#2a3f5f\",\"gridcolor\":\"white\",\"linecolor\":\"white\",\"minorgridcolor\":\"white\",\"startlinecolor\":\"#2a3f5f\"},\"baxis\":{\"endlinecolor\":\"#2a3f5f\",\"gridcolor\":\"white\",\"linecolor\":\"white\",\"minorgridcolor\":\"white\",\"startlinecolor\":\"#2a3f5f\"},\"type\":\"carpet\"}],\"table\":[{\"cells\":{\"fill\":{\"color\":\"#EBF0F8\"},\"line\":{\"color\":\"white\"}},\"header\":{\"fill\":{\"color\":\"#C8D4E3\"},\"line\":{\"color\":\"white\"}},\"type\":\"table\"}],\"barpolar\":[{\"marker\":{\"line\":{\"color\":\"#E5ECF6\",\"width\":0.5},\"pattern\":{\"fillmode\":\"overlay\",\"size\":10,\"solidity\":0.2}},\"type\":\"barpolar\"}],\"pie\":[{\"automargin\":true,\"type\":\"pie\"}]},\"layout\":{\"autotypenumbers\":\"strict\",\"colorway\":[\"#636efa\",\"#EF553B\",\"#00cc96\",\"#ab63fa\",\"#FFA15A\",\"#19d3f3\",\"#FF6692\",\"#B6E880\",\"#FF97FF\",\"#FECB52\"],\"font\":{\"color\":\"#2a3f5f\"},\"hovermode\":\"closest\",\"hoverlabel\":{\"align\":\"left\"},\"paper_bgcolor\":\"white\",\"plot_bgcolor\":\"#E5ECF6\",\"polar\":{\"bgcolor\":\"#E5ECF6\",\"angularaxis\":{\"gridcolor\":\"white\",\"linecolor\":\"white\",\"ticks\":\"\"},\"radialaxis\":{\"gridcolor\":\"white\",\"linecolor\":\"white\",\"ticks\":\"\"}},\"ternary\":{\"bgcolor\":\"#E5ECF6\",\"aaxis\":{\"gridcolor\":\"white\",\"linecolor\":\"white\",\"ticks\":\"\"},\"baxis\":{\"gridcolor\":\"white\",\"linecolor\":\"white\",\"ticks\":\"\"},\"caxis\":{\"gridcolor\":\"white\",\"linecolor\":\"white\",\"ticks\":\"\"}},\"coloraxis\":{\"colorbar\":{\"outlinewidth\":0,\"ticks\":\"\"}},\"colorscale\":{\"sequential\":[[0.0,\"#0d0887\"],[0.1111111111111111,\"#46039f\"],[0.2222222222222222,\"#7201a8\"],[0.3333333333333333,\"#9c179e\"],[0.4444444444444444,\"#bd3786\"],[0.5555555555555556,\"#d8576b\"],[0.6666666666666666,\"#ed7953\"],[0.7777777777777778,\"#fb9f3a\"],[0.8888888888888888,\"#fdca26\"],[1.0,\"#f0f921\"]],\"sequentialminus\":[[0.0,\"#0d0887\"],[0.1111111111111111,\"#46039f\"],[0.2222222222222222,\"#7201a8\"],[0.3333333333333333,\"#9c179e\"],[0.4444444444444444,\"#bd3786\"],[0.5555555555555556,\"#d8576b\"],[0.6666666666666666,\"#ed7953\"],[0.7777777777777778,\"#fb9f3a\"],[0.8888888888888888,\"#fdca26\"],[1.0,\"#f0f921\"]],\"diverging\":[[0,\"#8e0152\"],[0.1,\"#c51b7d\"],[0.2,\"#de77ae\"],[0.3,\"#f1b6da\"],[0.4,\"#fde0ef\"],[0.5,\"#f7f7f7\"],[0.6,\"#e6f5d0\"],[0.7,\"#b8e186\"],[0.8,\"#7fbc41\"],[0.9,\"#4d9221\"],[1,\"#276419\"]]},\"xaxis\":{\"gridcolor\":\"white\",\"linecolor\":\"white\",\"ticks\":\"\",\"title\":{\"standoff\":15},\"zerolinecolor\":\"white\",\"automargin\":true,\"zerolinewidth\":2},\"yaxis\":{\"gridcolor\":\"white\",\"linecolor\":\"white\",\"ticks\":\"\",\"title\":{\"standoff\":15},\"zerolinecolor\":\"white\",\"automargin\":true,\"zerolinewidth\":2},\"scene\":{\"xaxis\":{\"backgroundcolor\":\"#E5ECF6\",\"gridcolor\":\"white\",\"linecolor\":\"white\",\"showbackground\":true,\"ticks\":\"\",\"zerolinecolor\":\"white\",\"gridwidth\":2},\"yaxis\":{\"backgroundcolor\":\"#E5ECF6\",\"gridcolor\":\"white\",\"linecolor\":\"white\",\"showbackground\":true,\"ticks\":\"\",\"zerolinecolor\":\"white\",\"gridwidth\":2},\"zaxis\":{\"backgroundcolor\":\"#E5ECF6\",\"gridcolor\":\"white\",\"linecolor\":\"white\",\"showbackground\":true,\"ticks\":\"\",\"zerolinecolor\":\"white\",\"gridwidth\":2}},\"shapedefaults\":{\"line\":{\"color\":\"#2a3f5f\"}},\"annotationdefaults\":{\"arrowcolor\":\"#2a3f5f\",\"arrowhead\":0,\"arrowwidth\":1},\"geo\":{\"bgcolor\":\"white\",\"landcolor\":\"#E5ECF6\",\"subunitcolor\":\"white\",\"showland\":true,\"showlakes\":true,\"lakecolor\":\"white\"},\"title\":{\"x\":0.05},\"mapbox\":{\"style\":\"light\"}}},\"xaxis\":{\"anchor\":\"y\",\"domain\":[0.0,1.0],\"title\":{\"text\":\"Dataset\"},\"showgrid\":false},\"yaxis\":{\"anchor\":\"x\",\"domain\":[0.0,1.0],\"title\":{\"text\":\"Iteration Duration, seconds\"},\"type\":\"log\",\"showgrid\":true},\"legend\":{\"title\":{\"text\":\"Backend Engine\"},\"tracegroupgap\":0,\"orientation\":\"h\",\"yanchor\":\"bottom\",\"y\":1,\"x\":0.5,\"xanchor\":\"center\"},\"title\":{\"text\":\"Pairwise Distances\",\"x\":0.5},\"barmode\":\"group\",\"bargap\":0.3,\"bargroupgap\":0.1},                        {\"responsive\": true}                    ).then(function(){\n",
       "                            \n",
       "var gd = document.getElementById('a687e70e-af97-48ff-8267-f866d1cb1e72');\n",
       "var x = new MutationObserver(function (mutations, observer) {{\n",
       "        var display = window.getComputedStyle(gd).display;\n",
       "        if (!display || display === 'none') {{\n",
       "            console.log([gd, 'removed!']);\n",
       "            Plotly.purge(gd);\n",
       "            observer.disconnect();\n",
       "        }}\n",
       "}});\n",
       "\n",
       "// Listen for the removal of the full notebook cells\n",
       "var notebookContainer = gd.closest('#notebook-container');\n",
       "if (notebookContainer) {{\n",
       "    x.observe(notebookContainer, {childList: true});\n",
       "}}\n",
       "\n",
       "// Listen for the clearing of the current output cell\n",
       "var outputEl = gd.closest('.output');\n",
       "if (outputEl) {{\n",
       "    x.observe(outputEl, {childList: true});\n",
       "}}\n",
       "\n",
       "                        })                };                });            </script>        </div>"
      ]
     },
     "metadata": {},
     "output_type": "display_data"
    },
    {
     "data": {
      "application/vnd.plotly.v1+json": {
       "config": {
        "plotlyServerURL": "https://plot.ly"
       },
       "data": [
        {
         "alignmentgroup": "True",
         "cliponaxis": false,
         "hovertemplate": "Backend Engine=CuGraph<br>Dataset=%{x}<br>Iteration Duration, seconds=%{y}<br>Iteration Duration=%{text}<extra></extra>",
         "legendgroup": "CuGraph",
         "marker": {
          "color": "#636efa",
          "pattern": {
           "shape": ""
          }
         },
         "name": "CuGraph",
         "offsetgroup": "CuGraph",
         "orientation": "v",
         "showlegend": true,
         "text": [
          "6.87 msecs",
          "7.21 msecs",
          "9.34 msecs",
          "9.45 msecs",
          "12.20 msecs",
          "16.52 msecs",
          "28.19 msecs",
          "256.49 msecs",
          "610.75 msecs",
          "1.20 secs"
         ],
         "textangle": -60,
         "textfont": {
          "size": 14
         },
         "textposition": "auto",
         "type": "bar",
         "x": [
          "butterfly_labels",
          "bitcoin_alpha",
          "facebook",
          "wiki_vote",
          "enron",
          "slashdot",
          "twitter",
          "wiki_topcasts",
          "live_journal",
          "orkut"
         ],
         "xaxis": "x",
         "y": [
          0.006870844310490576,
          0.007212721686857321,
          0.009340502196340115,
          0.009447018327983246,
          0.012200964028763446,
          0.016520960312977034,
          0.028192006751332047,
          0.25648476089166666,
          0.6107489107098677,
          1.2011109194756
         ],
         "yaxis": "y"
        },
        {
         "alignmentgroup": "True",
         "cliponaxis": false,
         "hovertemplate": "Backend Engine=NetworkX<br>Dataset=%{x}<br>Iteration Duration, seconds=%{y}<br>Iteration Duration=%{text}<extra></extra>",
         "legendgroup": "NetworkX",
         "marker": {
          "color": "#EF553B",
          "pattern": {
           "shape": ""
          }
         },
         "name": "NetworkX",
         "offsetgroup": "NetworkX",
         "orientation": "v",
         "showlegend": true,
         "text": [
          "2.16 msecs",
          "57.13 msecs",
          "181.13 msecs",
          "216.16 msecs",
          "904.91 msecs",
          "2.15 secs",
          "5.77 secs",
          "1.40 mins",
          "5.07 mins",
          "6.72 mins"
         ],
         "textangle": -60,
         "textfont": {
          "size": 14
         },
         "textposition": "auto",
         "type": "bar",
         "x": [
          "butterfly_labels",
          "bitcoin_alpha",
          "facebook",
          "wiki_vote",
          "enron",
          "slashdot",
          "twitter",
          "wiki_topcasts",
          "live_journal",
          "orkut"
         ],
         "xaxis": "x",
         "y": [
          0.002164407067694517,
          0.05712815065627916,
          0.1811319050960157,
          0.21616304496177954,
          0.9049083647957831,
          2.145278567075714,
          5.769417458488571,
          84.9699153900125,
          304.4475831985333,
          403.23771059515
         ],
         "yaxis": "y"
        },
        {
         "alignmentgroup": "True",
         "cliponaxis": false,
         "hovertemplate": "Backend Engine=RetworkX<br>Dataset=%{x}<br>Iteration Duration, seconds=%{y}<br>Iteration Duration=%{text}<extra></extra>",
         "legendgroup": "RetworkX",
         "marker": {
          "color": "#00cc96",
          "pattern": {
           "shape": ""
          }
         },
         "name": "RetworkX",
         "offsetgroup": "RetworkX",
         "orientation": "v",
         "showlegend": true,
         "text": [
          "0.13 msecs",
          "3.80 msecs",
          "13.69 msecs",
          "16.21 msecs",
          "57.99 msecs",
          "146.76 msecs",
          "6.77 secs",
          "5.27 secs",
          "13.53 secs",
          "22.10 secs"
         ],
         "textangle": -60,
         "textfont": {
          "size": 14
         },
         "textposition": "auto",
         "type": "bar",
         "x": [
          "butterfly_labels",
          "bitcoin_alpha",
          "facebook",
          "wiki_vote",
          "enron",
          "slashdot",
          "twitter",
          "wiki_topcasts",
          "live_journal",
          "orkut"
         ],
         "xaxis": "x",
         "y": [
          0.00013208245127364882,
          0.003804346086771708,
          0.01369242062039708,
          0.01620609974593237,
          0.05799302449257756,
          0.14676041782675472,
          6.770962372255057,
          5.2655151475938595,
          13.527126916248887,
          22.095722641264285
         ],
         "yaxis": "y"
        },
        {
         "alignmentgroup": "True",
         "cliponaxis": false,
         "hovertemplate": "Backend Engine=Snap<br>Dataset=%{x}<br>Iteration Duration, seconds=%{y}<br>Iteration Duration=%{text}<extra></extra>",
         "legendgroup": "Snap",
         "marker": {
          "color": "#ab63fa",
          "pattern": {
           "shape": ""
          }
         },
         "name": "Snap",
         "offsetgroup": "Snap",
         "orientation": "v",
         "showlegend": true,
         "text": [
          "0.34 msecs",
          "9.57 msecs",
          "20.58 msecs",
          "27.32 msecs",
          "116.44 msecs",
          "324.54 msecs",
          "1.33 secs",
          "13.14 secs",
          "39.21 secs",
          "1.07 mins"
         ],
         "textangle": -60,
         "textfont": {
          "size": 14
         },
         "textposition": "auto",
         "type": "bar",
         "x": [
          "butterfly_labels",
          "bitcoin_alpha",
          "facebook",
          "wiki_vote",
          "enron",
          "slashdot",
          "twitter",
          "wiki_topcasts",
          "live_journal",
          "orkut"
         ],
         "xaxis": "x",
         "y": [
          0.0003420041096441732,
          0.009569677151125217,
          0.02058041238029087,
          0.027318440908249864,
          0.11643591091806363,
          0.3245393235725798,
          1.3331093846297117,
          13.137293457984784,
          39.20875348150625,
          64.94558343887
         ],
         "yaxis": "y"
        },
        {
         "alignmentgroup": "True",
         "cliponaxis": false,
         "hovertemplate": "Backend Engine=IGraph<br>Dataset=%{x}<br>Iteration Duration, seconds=%{y}<br>Iteration Duration=%{text}<extra></extra>",
         "legendgroup": "IGraph",
         "marker": {
          "color": "#FFA15A",
          "pattern": {
           "shape": ""
          }
         },
         "name": "IGraph",
         "offsetgroup": "IGraph",
         "orientation": "v",
         "showlegend": true,
         "text": [
          "0.60 msecs",
          "15.62 msecs",
          "56.20 msecs",
          "69.93 msecs",
          "271.42 msecs",
          "786.08 msecs",
          "2.64 secs",
          "36.57 secs",
          "1.85 mins",
          "3.23 mins"
         ],
         "textangle": -60,
         "textfont": {
          "size": 14
         },
         "textposition": "auto",
         "type": "bar",
         "x": [
          "butterfly_labels",
          "bitcoin_alpha",
          "facebook",
          "wiki_vote",
          "enron",
          "slashdot",
          "twitter",
          "wiki_topcasts",
          "live_journal",
          "orkut"
         ],
         "xaxis": "x",
         "y": [
          0.0006040314755836453,
          0.015624019859563056,
          0.05619684689900721,
          0.06992649545815173,
          0.2714186498667119,
          0.7860810822217278,
          2.6385787244429824,
          36.57153079088823,
          111.04825047651667,
          194.8534618616
         ],
         "yaxis": "y"
        }
       ],
       "layout": {
        "bargap": 0.3,
        "bargroupgap": 0.1,
        "barmode": "group",
        "legend": {
         "orientation": "h",
         "title": {
          "text": "Backend Engine"
         },
         "tracegroupgap": 0,
         "x": 0.5,
         "xanchor": "center",
         "y": 1,
         "yanchor": "bottom"
        },
        "template": {
         "data": {
          "bar": [
           {
            "error_x": {
             "color": "#2a3f5f"
            },
            "error_y": {
             "color": "#2a3f5f"
            },
            "marker": {
             "line": {
              "color": "#E5ECF6",
              "width": 0.5
             },
             "pattern": {
              "fillmode": "overlay",
              "size": 10,
              "solidity": 0.2
             }
            },
            "type": "bar"
           }
          ],
          "barpolar": [
           {
            "marker": {
             "line": {
              "color": "#E5ECF6",
              "width": 0.5
             },
             "pattern": {
              "fillmode": "overlay",
              "size": 10,
              "solidity": 0.2
             }
            },
            "type": "barpolar"
           }
          ],
          "carpet": [
           {
            "aaxis": {
             "endlinecolor": "#2a3f5f",
             "gridcolor": "white",
             "linecolor": "white",
             "minorgridcolor": "white",
             "startlinecolor": "#2a3f5f"
            },
            "baxis": {
             "endlinecolor": "#2a3f5f",
             "gridcolor": "white",
             "linecolor": "white",
             "minorgridcolor": "white",
             "startlinecolor": "#2a3f5f"
            },
            "type": "carpet"
           }
          ],
          "choropleth": [
           {
            "colorbar": {
             "outlinewidth": 0,
             "ticks": ""
            },
            "type": "choropleth"
           }
          ],
          "contour": [
           {
            "colorbar": {
             "outlinewidth": 0,
             "ticks": ""
            },
            "colorscale": [
             [
              0,
              "#0d0887"
             ],
             [
              0.1111111111111111,
              "#46039f"
             ],
             [
              0.2222222222222222,
              "#7201a8"
             ],
             [
              0.3333333333333333,
              "#9c179e"
             ],
             [
              0.4444444444444444,
              "#bd3786"
             ],
             [
              0.5555555555555556,
              "#d8576b"
             ],
             [
              0.6666666666666666,
              "#ed7953"
             ],
             [
              0.7777777777777778,
              "#fb9f3a"
             ],
             [
              0.8888888888888888,
              "#fdca26"
             ],
             [
              1,
              "#f0f921"
             ]
            ],
            "type": "contour"
           }
          ],
          "contourcarpet": [
           {
            "colorbar": {
             "outlinewidth": 0,
             "ticks": ""
            },
            "type": "contourcarpet"
           }
          ],
          "heatmap": [
           {
            "colorbar": {
             "outlinewidth": 0,
             "ticks": ""
            },
            "colorscale": [
             [
              0,
              "#0d0887"
             ],
             [
              0.1111111111111111,
              "#46039f"
             ],
             [
              0.2222222222222222,
              "#7201a8"
             ],
             [
              0.3333333333333333,
              "#9c179e"
             ],
             [
              0.4444444444444444,
              "#bd3786"
             ],
             [
              0.5555555555555556,
              "#d8576b"
             ],
             [
              0.6666666666666666,
              "#ed7953"
             ],
             [
              0.7777777777777778,
              "#fb9f3a"
             ],
             [
              0.8888888888888888,
              "#fdca26"
             ],
             [
              1,
              "#f0f921"
             ]
            ],
            "type": "heatmap"
           }
          ],
          "heatmapgl": [
           {
            "colorbar": {
             "outlinewidth": 0,
             "ticks": ""
            },
            "colorscale": [
             [
              0,
              "#0d0887"
             ],
             [
              0.1111111111111111,
              "#46039f"
             ],
             [
              0.2222222222222222,
              "#7201a8"
             ],
             [
              0.3333333333333333,
              "#9c179e"
             ],
             [
              0.4444444444444444,
              "#bd3786"
             ],
             [
              0.5555555555555556,
              "#d8576b"
             ],
             [
              0.6666666666666666,
              "#ed7953"
             ],
             [
              0.7777777777777778,
              "#fb9f3a"
             ],
             [
              0.8888888888888888,
              "#fdca26"
             ],
             [
              1,
              "#f0f921"
             ]
            ],
            "type": "heatmapgl"
           }
          ],
          "histogram": [
           {
            "marker": {
             "pattern": {
              "fillmode": "overlay",
              "size": 10,
              "solidity": 0.2
             }
            },
            "type": "histogram"
           }
          ],
          "histogram2d": [
           {
            "colorbar": {
             "outlinewidth": 0,
             "ticks": ""
            },
            "colorscale": [
             [
              0,
              "#0d0887"
             ],
             [
              0.1111111111111111,
              "#46039f"
             ],
             [
              0.2222222222222222,
              "#7201a8"
             ],
             [
              0.3333333333333333,
              "#9c179e"
             ],
             [
              0.4444444444444444,
              "#bd3786"
             ],
             [
              0.5555555555555556,
              "#d8576b"
             ],
             [
              0.6666666666666666,
              "#ed7953"
             ],
             [
              0.7777777777777778,
              "#fb9f3a"
             ],
             [
              0.8888888888888888,
              "#fdca26"
             ],
             [
              1,
              "#f0f921"
             ]
            ],
            "type": "histogram2d"
           }
          ],
          "histogram2dcontour": [
           {
            "colorbar": {
             "outlinewidth": 0,
             "ticks": ""
            },
            "colorscale": [
             [
              0,
              "#0d0887"
             ],
             [
              0.1111111111111111,
              "#46039f"
             ],
             [
              0.2222222222222222,
              "#7201a8"
             ],
             [
              0.3333333333333333,
              "#9c179e"
             ],
             [
              0.4444444444444444,
              "#bd3786"
             ],
             [
              0.5555555555555556,
              "#d8576b"
             ],
             [
              0.6666666666666666,
              "#ed7953"
             ],
             [
              0.7777777777777778,
              "#fb9f3a"
             ],
             [
              0.8888888888888888,
              "#fdca26"
             ],
             [
              1,
              "#f0f921"
             ]
            ],
            "type": "histogram2dcontour"
           }
          ],
          "mesh3d": [
           {
            "colorbar": {
             "outlinewidth": 0,
             "ticks": ""
            },
            "type": "mesh3d"
           }
          ],
          "parcoords": [
           {
            "line": {
             "colorbar": {
              "outlinewidth": 0,
              "ticks": ""
             }
            },
            "type": "parcoords"
           }
          ],
          "pie": [
           {
            "automargin": true,
            "type": "pie"
           }
          ],
          "scatter": [
           {
            "fillpattern": {
             "fillmode": "overlay",
             "size": 10,
             "solidity": 0.2
            },
            "type": "scatter"
           }
          ],
          "scatter3d": [
           {
            "line": {
             "colorbar": {
              "outlinewidth": 0,
              "ticks": ""
             }
            },
            "marker": {
             "colorbar": {
              "outlinewidth": 0,
              "ticks": ""
             }
            },
            "type": "scatter3d"
           }
          ],
          "scattercarpet": [
           {
            "marker": {
             "colorbar": {
              "outlinewidth": 0,
              "ticks": ""
             }
            },
            "type": "scattercarpet"
           }
          ],
          "scattergeo": [
           {
            "marker": {
             "colorbar": {
              "outlinewidth": 0,
              "ticks": ""
             }
            },
            "type": "scattergeo"
           }
          ],
          "scattergl": [
           {
            "marker": {
             "colorbar": {
              "outlinewidth": 0,
              "ticks": ""
             }
            },
            "type": "scattergl"
           }
          ],
          "scattermapbox": [
           {
            "marker": {
             "colorbar": {
              "outlinewidth": 0,
              "ticks": ""
             }
            },
            "type": "scattermapbox"
           }
          ],
          "scatterpolar": [
           {
            "marker": {
             "colorbar": {
              "outlinewidth": 0,
              "ticks": ""
             }
            },
            "type": "scatterpolar"
           }
          ],
          "scatterpolargl": [
           {
            "marker": {
             "colorbar": {
              "outlinewidth": 0,
              "ticks": ""
             }
            },
            "type": "scatterpolargl"
           }
          ],
          "scatterternary": [
           {
            "marker": {
             "colorbar": {
              "outlinewidth": 0,
              "ticks": ""
             }
            },
            "type": "scatterternary"
           }
          ],
          "surface": [
           {
            "colorbar": {
             "outlinewidth": 0,
             "ticks": ""
            },
            "colorscale": [
             [
              0,
              "#0d0887"
             ],
             [
              0.1111111111111111,
              "#46039f"
             ],
             [
              0.2222222222222222,
              "#7201a8"
             ],
             [
              0.3333333333333333,
              "#9c179e"
             ],
             [
              0.4444444444444444,
              "#bd3786"
             ],
             [
              0.5555555555555556,
              "#d8576b"
             ],
             [
              0.6666666666666666,
              "#ed7953"
             ],
             [
              0.7777777777777778,
              "#fb9f3a"
             ],
             [
              0.8888888888888888,
              "#fdca26"
             ],
             [
              1,
              "#f0f921"
             ]
            ],
            "type": "surface"
           }
          ],
          "table": [
           {
            "cells": {
             "fill": {
              "color": "#EBF0F8"
             },
             "line": {
              "color": "white"
             }
            },
            "header": {
             "fill": {
              "color": "#C8D4E3"
             },
             "line": {
              "color": "white"
             }
            },
            "type": "table"
           }
          ]
         },
         "layout": {
          "annotationdefaults": {
           "arrowcolor": "#2a3f5f",
           "arrowhead": 0,
           "arrowwidth": 1
          },
          "autotypenumbers": "strict",
          "coloraxis": {
           "colorbar": {
            "outlinewidth": 0,
            "ticks": ""
           }
          },
          "colorscale": {
           "diverging": [
            [
             0,
             "#8e0152"
            ],
            [
             0.1,
             "#c51b7d"
            ],
            [
             0.2,
             "#de77ae"
            ],
            [
             0.3,
             "#f1b6da"
            ],
            [
             0.4,
             "#fde0ef"
            ],
            [
             0.5,
             "#f7f7f7"
            ],
            [
             0.6,
             "#e6f5d0"
            ],
            [
             0.7,
             "#b8e186"
            ],
            [
             0.8,
             "#7fbc41"
            ],
            [
             0.9,
             "#4d9221"
            ],
            [
             1,
             "#276419"
            ]
           ],
           "sequential": [
            [
             0,
             "#0d0887"
            ],
            [
             0.1111111111111111,
             "#46039f"
            ],
            [
             0.2222222222222222,
             "#7201a8"
            ],
            [
             0.3333333333333333,
             "#9c179e"
            ],
            [
             0.4444444444444444,
             "#bd3786"
            ],
            [
             0.5555555555555556,
             "#d8576b"
            ],
            [
             0.6666666666666666,
             "#ed7953"
            ],
            [
             0.7777777777777778,
             "#fb9f3a"
            ],
            [
             0.8888888888888888,
             "#fdca26"
            ],
            [
             1,
             "#f0f921"
            ]
           ],
           "sequentialminus": [
            [
             0,
             "#0d0887"
            ],
            [
             0.1111111111111111,
             "#46039f"
            ],
            [
             0.2222222222222222,
             "#7201a8"
            ],
            [
             0.3333333333333333,
             "#9c179e"
            ],
            [
             0.4444444444444444,
             "#bd3786"
            ],
            [
             0.5555555555555556,
             "#d8576b"
            ],
            [
             0.6666666666666666,
             "#ed7953"
            ],
            [
             0.7777777777777778,
             "#fb9f3a"
            ],
            [
             0.8888888888888888,
             "#fdca26"
            ],
            [
             1,
             "#f0f921"
            ]
           ]
          },
          "colorway": [
           "#636efa",
           "#EF553B",
           "#00cc96",
           "#ab63fa",
           "#FFA15A",
           "#19d3f3",
           "#FF6692",
           "#B6E880",
           "#FF97FF",
           "#FECB52"
          ],
          "font": {
           "color": "#2a3f5f"
          },
          "geo": {
           "bgcolor": "white",
           "lakecolor": "white",
           "landcolor": "#E5ECF6",
           "showlakes": true,
           "showland": true,
           "subunitcolor": "white"
          },
          "hoverlabel": {
           "align": "left"
          },
          "hovermode": "closest",
          "mapbox": {
           "style": "light"
          },
          "paper_bgcolor": "white",
          "plot_bgcolor": "#E5ECF6",
          "polar": {
           "angularaxis": {
            "gridcolor": "white",
            "linecolor": "white",
            "ticks": ""
           },
           "bgcolor": "#E5ECF6",
           "radialaxis": {
            "gridcolor": "white",
            "linecolor": "white",
            "ticks": ""
           }
          },
          "scene": {
           "xaxis": {
            "backgroundcolor": "#E5ECF6",
            "gridcolor": "white",
            "gridwidth": 2,
            "linecolor": "white",
            "showbackground": true,
            "ticks": "",
            "zerolinecolor": "white"
           },
           "yaxis": {
            "backgroundcolor": "#E5ECF6",
            "gridcolor": "white",
            "gridwidth": 2,
            "linecolor": "white",
            "showbackground": true,
            "ticks": "",
            "zerolinecolor": "white"
           },
           "zaxis": {
            "backgroundcolor": "#E5ECF6",
            "gridcolor": "white",
            "gridwidth": 2,
            "linecolor": "white",
            "showbackground": true,
            "ticks": "",
            "zerolinecolor": "white"
           }
          },
          "shapedefaults": {
           "line": {
            "color": "#2a3f5f"
           }
          },
          "ternary": {
           "aaxis": {
            "gridcolor": "white",
            "linecolor": "white",
            "ticks": ""
           },
           "baxis": {
            "gridcolor": "white",
            "linecolor": "white",
            "ticks": ""
           },
           "bgcolor": "#E5ECF6",
           "caxis": {
            "gridcolor": "white",
            "linecolor": "white",
            "ticks": ""
           }
          },
          "title": {
           "x": 0.05
          },
          "xaxis": {
           "automargin": true,
           "gridcolor": "white",
           "linecolor": "white",
           "ticks": "",
           "title": {
            "standoff": 15
           },
           "zerolinecolor": "white",
           "zerolinewidth": 2
          },
          "yaxis": {
           "automargin": true,
           "gridcolor": "white",
           "linecolor": "white",
           "ticks": "",
           "title": {
            "standoff": 15
           },
           "zerolinecolor": "white",
           "zerolinewidth": 2
          }
         }
        },
        "title": {
         "text": "Parse",
         "x": 0.5
        },
        "xaxis": {
         "anchor": "y",
         "domain": [
          0,
          1
         ],
         "showgrid": false,
         "title": {
          "text": "Dataset"
         }
        },
        "yaxis": {
         "anchor": "x",
         "domain": [
          0,
          1
         ],
         "showgrid": true,
         "title": {
          "text": "Iteration Duration, seconds"
         },
         "type": "log"
        }
       }
      },
      "text/html": [
       "<div>                            <div id=\"3bf11267-6967-4c67-b6f9-61a506983208\" class=\"plotly-graph-div\" style=\"height:525px; width:100%;\"></div>            <script type=\"text/javascript\">                require([\"plotly\"], function(Plotly) {                    window.PLOTLYENV=window.PLOTLYENV || {};                                    if (document.getElementById(\"3bf11267-6967-4c67-b6f9-61a506983208\")) {                    Plotly.newPlot(                        \"3bf11267-6967-4c67-b6f9-61a506983208\",                        [{\"alignmentgroup\":\"True\",\"hovertemplate\":\"Backend Engine=CuGraph<br>Dataset=%{x}<br>Iteration Duration, seconds=%{y}<br>Iteration Duration=%{text}<extra></extra>\",\"legendgroup\":\"CuGraph\",\"marker\":{\"color\":\"#636efa\",\"pattern\":{\"shape\":\"\"}},\"name\":\"CuGraph\",\"offsetgroup\":\"CuGraph\",\"orientation\":\"v\",\"showlegend\":true,\"text\":[\"6.87 msecs\",\"7.21 msecs\",\"9.34 msecs\",\"9.45 msecs\",\"12.20 msecs\",\"16.52 msecs\",\"28.19 msecs\",\"256.49 msecs\",\"610.75 msecs\",\"1.20 secs\"],\"textposition\":\"auto\",\"x\":[\"butterfly_labels\",\"bitcoin_alpha\",\"facebook\",\"wiki_vote\",\"enron\",\"slashdot\",\"twitter\",\"wiki_topcasts\",\"live_journal\",\"orkut\"],\"xaxis\":\"x\",\"y\":[0.006870844310490576,0.007212721686857321,0.009340502196340115,0.009447018327983246,0.012200964028763446,0.016520960312977034,0.028192006751332047,0.25648476089166666,0.6107489107098677,1.2011109194756],\"yaxis\":\"y\",\"type\":\"bar\",\"textfont\":{\"size\":14},\"cliponaxis\":false,\"textangle\":-60},{\"alignmentgroup\":\"True\",\"hovertemplate\":\"Backend Engine=NetworkX<br>Dataset=%{x}<br>Iteration Duration, seconds=%{y}<br>Iteration Duration=%{text}<extra></extra>\",\"legendgroup\":\"NetworkX\",\"marker\":{\"color\":\"#EF553B\",\"pattern\":{\"shape\":\"\"}},\"name\":\"NetworkX\",\"offsetgroup\":\"NetworkX\",\"orientation\":\"v\",\"showlegend\":true,\"text\":[\"2.16 msecs\",\"57.13 msecs\",\"181.13 msecs\",\"216.16 msecs\",\"904.91 msecs\",\"2.15 secs\",\"5.77 secs\",\"1.40 mins\",\"5.07 mins\",\"6.72 mins\"],\"textposition\":\"auto\",\"x\":[\"butterfly_labels\",\"bitcoin_alpha\",\"facebook\",\"wiki_vote\",\"enron\",\"slashdot\",\"twitter\",\"wiki_topcasts\",\"live_journal\",\"orkut\"],\"xaxis\":\"x\",\"y\":[0.002164407067694517,0.05712815065627916,0.1811319050960157,0.21616304496177954,0.9049083647957831,2.145278567075714,5.769417458488571,84.9699153900125,304.4475831985333,403.23771059515],\"yaxis\":\"y\",\"type\":\"bar\",\"textfont\":{\"size\":14},\"cliponaxis\":false,\"textangle\":-60},{\"alignmentgroup\":\"True\",\"hovertemplate\":\"Backend Engine=RetworkX<br>Dataset=%{x}<br>Iteration Duration, seconds=%{y}<br>Iteration Duration=%{text}<extra></extra>\",\"legendgroup\":\"RetworkX\",\"marker\":{\"color\":\"#00cc96\",\"pattern\":{\"shape\":\"\"}},\"name\":\"RetworkX\",\"offsetgroup\":\"RetworkX\",\"orientation\":\"v\",\"showlegend\":true,\"text\":[\"0.13 msecs\",\"3.80 msecs\",\"13.69 msecs\",\"16.21 msecs\",\"57.99 msecs\",\"146.76 msecs\",\"6.77 secs\",\"5.27 secs\",\"13.53 secs\",\"22.10 secs\"],\"textposition\":\"auto\",\"x\":[\"butterfly_labels\",\"bitcoin_alpha\",\"facebook\",\"wiki_vote\",\"enron\",\"slashdot\",\"twitter\",\"wiki_topcasts\",\"live_journal\",\"orkut\"],\"xaxis\":\"x\",\"y\":[0.00013208245127364882,0.003804346086771708,0.01369242062039708,0.01620609974593237,0.05799302449257756,0.14676041782675472,6.770962372255057,5.2655151475938595,13.527126916248887,22.095722641264285],\"yaxis\":\"y\",\"type\":\"bar\",\"textfont\":{\"size\":14},\"cliponaxis\":false,\"textangle\":-60},{\"alignmentgroup\":\"True\",\"hovertemplate\":\"Backend Engine=Snap<br>Dataset=%{x}<br>Iteration Duration, seconds=%{y}<br>Iteration Duration=%{text}<extra></extra>\",\"legendgroup\":\"Snap\",\"marker\":{\"color\":\"#ab63fa\",\"pattern\":{\"shape\":\"\"}},\"name\":\"Snap\",\"offsetgroup\":\"Snap\",\"orientation\":\"v\",\"showlegend\":true,\"text\":[\"0.34 msecs\",\"9.57 msecs\",\"20.58 msecs\",\"27.32 msecs\",\"116.44 msecs\",\"324.54 msecs\",\"1.33 secs\",\"13.14 secs\",\"39.21 secs\",\"1.07 mins\"],\"textposition\":\"auto\",\"x\":[\"butterfly_labels\",\"bitcoin_alpha\",\"facebook\",\"wiki_vote\",\"enron\",\"slashdot\",\"twitter\",\"wiki_topcasts\",\"live_journal\",\"orkut\"],\"xaxis\":\"x\",\"y\":[0.0003420041096441732,0.009569677151125217,0.02058041238029087,0.027318440908249864,0.11643591091806363,0.3245393235725798,1.3331093846297117,13.137293457984784,39.20875348150625,64.94558343887],\"yaxis\":\"y\",\"type\":\"bar\",\"textfont\":{\"size\":14},\"cliponaxis\":false,\"textangle\":-60},{\"alignmentgroup\":\"True\",\"hovertemplate\":\"Backend Engine=IGraph<br>Dataset=%{x}<br>Iteration Duration, seconds=%{y}<br>Iteration Duration=%{text}<extra></extra>\",\"legendgroup\":\"IGraph\",\"marker\":{\"color\":\"#FFA15A\",\"pattern\":{\"shape\":\"\"}},\"name\":\"IGraph\",\"offsetgroup\":\"IGraph\",\"orientation\":\"v\",\"showlegend\":true,\"text\":[\"0.60 msecs\",\"15.62 msecs\",\"56.20 msecs\",\"69.93 msecs\",\"271.42 msecs\",\"786.08 msecs\",\"2.64 secs\",\"36.57 secs\",\"1.85 mins\",\"3.23 mins\"],\"textposition\":\"auto\",\"x\":[\"butterfly_labels\",\"bitcoin_alpha\",\"facebook\",\"wiki_vote\",\"enron\",\"slashdot\",\"twitter\",\"wiki_topcasts\",\"live_journal\",\"orkut\"],\"xaxis\":\"x\",\"y\":[0.0006040314755836453,0.015624019859563056,0.05619684689900721,0.06992649545815173,0.2714186498667119,0.7860810822217278,2.6385787244429824,36.57153079088823,111.04825047651667,194.8534618616],\"yaxis\":\"y\",\"type\":\"bar\",\"textfont\":{\"size\":14},\"cliponaxis\":false,\"textangle\":-60}],                        {\"template\":{\"data\":{\"histogram2dcontour\":[{\"type\":\"histogram2dcontour\",\"colorbar\":{\"outlinewidth\":0,\"ticks\":\"\"},\"colorscale\":[[0.0,\"#0d0887\"],[0.1111111111111111,\"#46039f\"],[0.2222222222222222,\"#7201a8\"],[0.3333333333333333,\"#9c179e\"],[0.4444444444444444,\"#bd3786\"],[0.5555555555555556,\"#d8576b\"],[0.6666666666666666,\"#ed7953\"],[0.7777777777777778,\"#fb9f3a\"],[0.8888888888888888,\"#fdca26\"],[1.0,\"#f0f921\"]]}],\"choropleth\":[{\"type\":\"choropleth\",\"colorbar\":{\"outlinewidth\":0,\"ticks\":\"\"}}],\"histogram2d\":[{\"type\":\"histogram2d\",\"colorbar\":{\"outlinewidth\":0,\"ticks\":\"\"},\"colorscale\":[[0.0,\"#0d0887\"],[0.1111111111111111,\"#46039f\"],[0.2222222222222222,\"#7201a8\"],[0.3333333333333333,\"#9c179e\"],[0.4444444444444444,\"#bd3786\"],[0.5555555555555556,\"#d8576b\"],[0.6666666666666666,\"#ed7953\"],[0.7777777777777778,\"#fb9f3a\"],[0.8888888888888888,\"#fdca26\"],[1.0,\"#f0f921\"]]}],\"heatmap\":[{\"type\":\"heatmap\",\"colorbar\":{\"outlinewidth\":0,\"ticks\":\"\"},\"colorscale\":[[0.0,\"#0d0887\"],[0.1111111111111111,\"#46039f\"],[0.2222222222222222,\"#7201a8\"],[0.3333333333333333,\"#9c179e\"],[0.4444444444444444,\"#bd3786\"],[0.5555555555555556,\"#d8576b\"],[0.6666666666666666,\"#ed7953\"],[0.7777777777777778,\"#fb9f3a\"],[0.8888888888888888,\"#fdca26\"],[1.0,\"#f0f921\"]]}],\"heatmapgl\":[{\"type\":\"heatmapgl\",\"colorbar\":{\"outlinewidth\":0,\"ticks\":\"\"},\"colorscale\":[[0.0,\"#0d0887\"],[0.1111111111111111,\"#46039f\"],[0.2222222222222222,\"#7201a8\"],[0.3333333333333333,\"#9c179e\"],[0.4444444444444444,\"#bd3786\"],[0.5555555555555556,\"#d8576b\"],[0.6666666666666666,\"#ed7953\"],[0.7777777777777778,\"#fb9f3a\"],[0.8888888888888888,\"#fdca26\"],[1.0,\"#f0f921\"]]}],\"contourcarpet\":[{\"type\":\"contourcarpet\",\"colorbar\":{\"outlinewidth\":0,\"ticks\":\"\"}}],\"contour\":[{\"type\":\"contour\",\"colorbar\":{\"outlinewidth\":0,\"ticks\":\"\"},\"colorscale\":[[0.0,\"#0d0887\"],[0.1111111111111111,\"#46039f\"],[0.2222222222222222,\"#7201a8\"],[0.3333333333333333,\"#9c179e\"],[0.4444444444444444,\"#bd3786\"],[0.5555555555555556,\"#d8576b\"],[0.6666666666666666,\"#ed7953\"],[0.7777777777777778,\"#fb9f3a\"],[0.8888888888888888,\"#fdca26\"],[1.0,\"#f0f921\"]]}],\"surface\":[{\"type\":\"surface\",\"colorbar\":{\"outlinewidth\":0,\"ticks\":\"\"},\"colorscale\":[[0.0,\"#0d0887\"],[0.1111111111111111,\"#46039f\"],[0.2222222222222222,\"#7201a8\"],[0.3333333333333333,\"#9c179e\"],[0.4444444444444444,\"#bd3786\"],[0.5555555555555556,\"#d8576b\"],[0.6666666666666666,\"#ed7953\"],[0.7777777777777778,\"#fb9f3a\"],[0.8888888888888888,\"#fdca26\"],[1.0,\"#f0f921\"]]}],\"mesh3d\":[{\"type\":\"mesh3d\",\"colorbar\":{\"outlinewidth\":0,\"ticks\":\"\"}}],\"scatter\":[{\"fillpattern\":{\"fillmode\":\"overlay\",\"size\":10,\"solidity\":0.2},\"type\":\"scatter\"}],\"parcoords\":[{\"type\":\"parcoords\",\"line\":{\"colorbar\":{\"outlinewidth\":0,\"ticks\":\"\"}}}],\"scatterpolargl\":[{\"type\":\"scatterpolargl\",\"marker\":{\"colorbar\":{\"outlinewidth\":0,\"ticks\":\"\"}}}],\"bar\":[{\"error_x\":{\"color\":\"#2a3f5f\"},\"error_y\":{\"color\":\"#2a3f5f\"},\"marker\":{\"line\":{\"color\":\"#E5ECF6\",\"width\":0.5},\"pattern\":{\"fillmode\":\"overlay\",\"size\":10,\"solidity\":0.2}},\"type\":\"bar\"}],\"scattergeo\":[{\"type\":\"scattergeo\",\"marker\":{\"colorbar\":{\"outlinewidth\":0,\"ticks\":\"\"}}}],\"scatterpolar\":[{\"type\":\"scatterpolar\",\"marker\":{\"colorbar\":{\"outlinewidth\":0,\"ticks\":\"\"}}}],\"histogram\":[{\"marker\":{\"pattern\":{\"fillmode\":\"overlay\",\"size\":10,\"solidity\":0.2}},\"type\":\"histogram\"}],\"scattergl\":[{\"type\":\"scattergl\",\"marker\":{\"colorbar\":{\"outlinewidth\":0,\"ticks\":\"\"}}}],\"scatter3d\":[{\"type\":\"scatter3d\",\"line\":{\"colorbar\":{\"outlinewidth\":0,\"ticks\":\"\"}},\"marker\":{\"colorbar\":{\"outlinewidth\":0,\"ticks\":\"\"}}}],\"scattermapbox\":[{\"type\":\"scattermapbox\",\"marker\":{\"colorbar\":{\"outlinewidth\":0,\"ticks\":\"\"}}}],\"scatterternary\":[{\"type\":\"scatterternary\",\"marker\":{\"colorbar\":{\"outlinewidth\":0,\"ticks\":\"\"}}}],\"scattercarpet\":[{\"type\":\"scattercarpet\",\"marker\":{\"colorbar\":{\"outlinewidth\":0,\"ticks\":\"\"}}}],\"carpet\":[{\"aaxis\":{\"endlinecolor\":\"#2a3f5f\",\"gridcolor\":\"white\",\"linecolor\":\"white\",\"minorgridcolor\":\"white\",\"startlinecolor\":\"#2a3f5f\"},\"baxis\":{\"endlinecolor\":\"#2a3f5f\",\"gridcolor\":\"white\",\"linecolor\":\"white\",\"minorgridcolor\":\"white\",\"startlinecolor\":\"#2a3f5f\"},\"type\":\"carpet\"}],\"table\":[{\"cells\":{\"fill\":{\"color\":\"#EBF0F8\"},\"line\":{\"color\":\"white\"}},\"header\":{\"fill\":{\"color\":\"#C8D4E3\"},\"line\":{\"color\":\"white\"}},\"type\":\"table\"}],\"barpolar\":[{\"marker\":{\"line\":{\"color\":\"#E5ECF6\",\"width\":0.5},\"pattern\":{\"fillmode\":\"overlay\",\"size\":10,\"solidity\":0.2}},\"type\":\"barpolar\"}],\"pie\":[{\"automargin\":true,\"type\":\"pie\"}]},\"layout\":{\"autotypenumbers\":\"strict\",\"colorway\":[\"#636efa\",\"#EF553B\",\"#00cc96\",\"#ab63fa\",\"#FFA15A\",\"#19d3f3\",\"#FF6692\",\"#B6E880\",\"#FF97FF\",\"#FECB52\"],\"font\":{\"color\":\"#2a3f5f\"},\"hovermode\":\"closest\",\"hoverlabel\":{\"align\":\"left\"},\"paper_bgcolor\":\"white\",\"plot_bgcolor\":\"#E5ECF6\",\"polar\":{\"bgcolor\":\"#E5ECF6\",\"angularaxis\":{\"gridcolor\":\"white\",\"linecolor\":\"white\",\"ticks\":\"\"},\"radialaxis\":{\"gridcolor\":\"white\",\"linecolor\":\"white\",\"ticks\":\"\"}},\"ternary\":{\"bgcolor\":\"#E5ECF6\",\"aaxis\":{\"gridcolor\":\"white\",\"linecolor\":\"white\",\"ticks\":\"\"},\"baxis\":{\"gridcolor\":\"white\",\"linecolor\":\"white\",\"ticks\":\"\"},\"caxis\":{\"gridcolor\":\"white\",\"linecolor\":\"white\",\"ticks\":\"\"}},\"coloraxis\":{\"colorbar\":{\"outlinewidth\":0,\"ticks\":\"\"}},\"colorscale\":{\"sequential\":[[0.0,\"#0d0887\"],[0.1111111111111111,\"#46039f\"],[0.2222222222222222,\"#7201a8\"],[0.3333333333333333,\"#9c179e\"],[0.4444444444444444,\"#bd3786\"],[0.5555555555555556,\"#d8576b\"],[0.6666666666666666,\"#ed7953\"],[0.7777777777777778,\"#fb9f3a\"],[0.8888888888888888,\"#fdca26\"],[1.0,\"#f0f921\"]],\"sequentialminus\":[[0.0,\"#0d0887\"],[0.1111111111111111,\"#46039f\"],[0.2222222222222222,\"#7201a8\"],[0.3333333333333333,\"#9c179e\"],[0.4444444444444444,\"#bd3786\"],[0.5555555555555556,\"#d8576b\"],[0.6666666666666666,\"#ed7953\"],[0.7777777777777778,\"#fb9f3a\"],[0.8888888888888888,\"#fdca26\"],[1.0,\"#f0f921\"]],\"diverging\":[[0,\"#8e0152\"],[0.1,\"#c51b7d\"],[0.2,\"#de77ae\"],[0.3,\"#f1b6da\"],[0.4,\"#fde0ef\"],[0.5,\"#f7f7f7\"],[0.6,\"#e6f5d0\"],[0.7,\"#b8e186\"],[0.8,\"#7fbc41\"],[0.9,\"#4d9221\"],[1,\"#276419\"]]},\"xaxis\":{\"gridcolor\":\"white\",\"linecolor\":\"white\",\"ticks\":\"\",\"title\":{\"standoff\":15},\"zerolinecolor\":\"white\",\"automargin\":true,\"zerolinewidth\":2},\"yaxis\":{\"gridcolor\":\"white\",\"linecolor\":\"white\",\"ticks\":\"\",\"title\":{\"standoff\":15},\"zerolinecolor\":\"white\",\"automargin\":true,\"zerolinewidth\":2},\"scene\":{\"xaxis\":{\"backgroundcolor\":\"#E5ECF6\",\"gridcolor\":\"white\",\"linecolor\":\"white\",\"showbackground\":true,\"ticks\":\"\",\"zerolinecolor\":\"white\",\"gridwidth\":2},\"yaxis\":{\"backgroundcolor\":\"#E5ECF6\",\"gridcolor\":\"white\",\"linecolor\":\"white\",\"showbackground\":true,\"ticks\":\"\",\"zerolinecolor\":\"white\",\"gridwidth\":2},\"zaxis\":{\"backgroundcolor\":\"#E5ECF6\",\"gridcolor\":\"white\",\"linecolor\":\"white\",\"showbackground\":true,\"ticks\":\"\",\"zerolinecolor\":\"white\",\"gridwidth\":2}},\"shapedefaults\":{\"line\":{\"color\":\"#2a3f5f\"}},\"annotationdefaults\":{\"arrowcolor\":\"#2a3f5f\",\"arrowhead\":0,\"arrowwidth\":1},\"geo\":{\"bgcolor\":\"white\",\"landcolor\":\"#E5ECF6\",\"subunitcolor\":\"white\",\"showland\":true,\"showlakes\":true,\"lakecolor\":\"white\"},\"title\":{\"x\":0.05},\"mapbox\":{\"style\":\"light\"}}},\"xaxis\":{\"anchor\":\"y\",\"domain\":[0.0,1.0],\"title\":{\"text\":\"Dataset\"},\"showgrid\":false},\"yaxis\":{\"anchor\":\"x\",\"domain\":[0.0,1.0],\"title\":{\"text\":\"Iteration Duration, seconds\"},\"type\":\"log\",\"showgrid\":true},\"legend\":{\"title\":{\"text\":\"Backend Engine\"},\"tracegroupgap\":0,\"orientation\":\"h\",\"yanchor\":\"bottom\",\"y\":1,\"x\":0.5,\"xanchor\":\"center\"},\"title\":{\"text\":\"Parse\",\"x\":0.5},\"barmode\":\"group\",\"bargap\":0.3,\"bargroupgap\":0.1},                        {\"responsive\": true}                    ).then(function(){\n",
       "                            \n",
       "var gd = document.getElementById('3bf11267-6967-4c67-b6f9-61a506983208');\n",
       "var x = new MutationObserver(function (mutations, observer) {{\n",
       "        var display = window.getComputedStyle(gd).display;\n",
       "        if (!display || display === 'none') {{\n",
       "            console.log([gd, 'removed!']);\n",
       "            Plotly.purge(gd);\n",
       "            observer.disconnect();\n",
       "        }}\n",
       "}});\n",
       "\n",
       "// Listen for the removal of the full notebook cells\n",
       "var notebookContainer = gd.closest('#notebook-container');\n",
       "if (notebookContainer) {{\n",
       "    x.observe(notebookContainer, {childList: true});\n",
       "}}\n",
       "\n",
       "// Listen for the clearing of the current output cell\n",
       "var outputEl = gd.closest('.output');\n",
       "if (outputEl) {{\n",
       "    x.observe(outputEl, {childList: true});\n",
       "}}\n",
       "\n",
       "                        })                };                });            </script>        </div>"
      ]
     },
     "metadata": {},
     "output_type": "display_data"
    },
    {
     "data": {
      "application/vnd.plotly.v1+json": {
       "config": {
        "plotlyServerURL": "https://plot.ly"
       },
       "data": [
        {
         "alignmentgroup": "True",
         "cliponaxis": false,
         "hovertemplate": "Backend Engine=CuGraph<br>Dataset=%{x}<br>Iteration Duration, seconds=%{y}<br>Iteration Duration=%{text}<extra></extra>",
         "legendgroup": "CuGraph",
         "marker": {
          "color": "#636efa",
          "pattern": {
           "shape": ""
          }
         },
         "name": "CuGraph",
         "offsetgroup": "CuGraph",
         "orientation": "v",
         "showlegend": true,
         "text": [
          "12.27 msecs",
          "16.08 msecs",
          "14.13 msecs",
          "18.18 msecs",
          "28.98 msecs",
          "22.18 msecs",
          "19.95 msecs",
          "302.43 msecs",
          "302.18 msecs",
          "701.70 msecs"
         ],
         "textangle": -60,
         "textfont": {
          "size": 14
         },
         "textposition": "auto",
         "type": "bar",
         "x": [
          "butterfly_labels",
          "bitcoin_alpha",
          "facebook",
          "wiki_vote",
          "enron",
          "slashdot",
          "twitter",
          "wiki_topcasts",
          "live_journal",
          "orkut"
         ],
         "xaxis": "x",
         "y": [
          0.012264679275634684,
          0.01608271401731532,
          0.014130628602256189,
          0.01818461720194575,
          0.028979665753460514,
          0.022185275267709376,
          0.01994902026119294,
          0.3024278273505544,
          0.30218178015820746,
          0.7016961282101636
         ],
         "yaxis": "y"
        },
        {
         "alignmentgroup": "True",
         "cliponaxis": false,
         "hovertemplate": "Backend Engine=NetworkX<br>Dataset=%{x}<br>Iteration Duration, seconds=%{y}<br>Iteration Duration=%{text}<extra></extra>",
         "legendgroup": "NetworkX",
         "marker": {
          "color": "#EF553B",
          "pattern": {
           "shape": ""
          }
         },
         "name": "NetworkX",
         "offsetgroup": "NetworkX",
         "orientation": "v",
         "showlegend": true,
         "text": [
          "0.96 msecs",
          "6.37 msecs",
          "12.84 msecs",
          "22.52 msecs",
          "127.85 msecs",
          "321.52 msecs",
          "673.60 msecs",
          "16.41 secs",
          "38.69 secs",
          "1 min"
         ],
         "textangle": -60,
         "textfont": {
          "size": 14
         },
         "textposition": "auto",
         "type": "bar",
         "x": [
          "butterfly_labels",
          "bitcoin_alpha",
          "facebook",
          "wiki_vote",
          "enron",
          "slashdot",
          "twitter",
          "wiki_topcasts",
          "live_journal",
          "orkut"
         ],
         "xaxis": "x",
         "y": [
          0.0009652256978486753,
          0.006371914639073319,
          0.01283552804440166,
          0.02251911423715894,
          0.12785133857246964,
          0.32152001373770756,
          0.6735977165894501,
          16.414748282045945,
          38.69398364425,
          60.34953620434
         ],
         "yaxis": "y"
        },
        {
         "alignmentgroup": "True",
         "cliponaxis": false,
         "hovertemplate": "Backend Engine=RetworkX<br>Dataset=%{x}<br>Iteration Duration, seconds=%{y}<br>Iteration Duration=%{text}<extra></extra>",
         "legendgroup": "RetworkX",
         "marker": {
          "color": "#00cc96",
          "pattern": {
           "shape": ""
          }
         },
         "name": "RetworkX",
         "offsetgroup": "RetworkX",
         "orientation": "v",
         "showlegend": true,
         "text": [
          "0.05 msecs",
          "1.97 msecs",
          "1.14 msecs",
          "2.47 msecs",
          "9.43 msecs",
          "44.32 msecs",
          "10.93 mins",
          "TimeOut",
          "TimeOut",
          "TimeOut"
         ],
         "textangle": -60,
         "textfont": {
          "size": 14
         },
         "textposition": "auto",
         "type": "bar",
         "x": [
          "butterfly_labels",
          "bitcoin_alpha",
          "facebook",
          "wiki_vote",
          "enron",
          "slashdot",
          "twitter",
          "wiki_topcasts",
          "live_journal",
          "orkut"
         ],
         "xaxis": "x",
         "y": [
          0.000047093823827189224,
          0.0019742238114310814,
          0.0011348647982613892,
          0.0024707493769199726,
          0.009429968647270812,
          0.04431832124619986,
          656.6362588406,
          7620.7039511204,
          7620.7039511204,
          7620.7039511204
         ],
         "yaxis": "y"
        },
        {
         "alignmentgroup": "True",
         "cliponaxis": false,
         "hovertemplate": "Backend Engine=Snap<br>Dataset=%{x}<br>Iteration Duration, seconds=%{y}<br>Iteration Duration=%{text}<extra></extra>",
         "legendgroup": "Snap",
         "marker": {
          "color": "#ab63fa",
          "pattern": {
           "shape": ""
          }
         },
         "name": "Snap",
         "offsetgroup": "Snap",
         "orientation": "v",
         "showlegend": true,
         "text": [
          "0.48 msecs",
          "2.94 msecs",
          "4.10 msecs",
          "6.67 msecs",
          "34.69 msecs",
          "83.60 msecs",
          "146.39 msecs",
          "3.51 secs",
          "9.55 secs",
          "15.20 secs"
         ],
         "textangle": -60,
         "textfont": {
          "size": 14
         },
         "textposition": "auto",
         "type": "bar",
         "x": [
          "butterfly_labels",
          "bitcoin_alpha",
          "facebook",
          "wiki_vote",
          "enron",
          "slashdot",
          "twitter",
          "wiki_topcasts",
          "live_journal",
          "orkut"
         ],
         "xaxis": "x",
         "y": [
          0.0004765104910420012,
          0.0029412519937929847,
          0.004097728602632783,
          0.006669770916091776,
          0.03469098730841813,
          0.08360100802363105,
          0.14639305469319344,
          3.508153495400581,
          9.547459367722222,
          15.1964244663725
         ],
         "yaxis": "y"
        },
        {
         "alignmentgroup": "True",
         "cliponaxis": false,
         "hovertemplate": "Backend Engine=IGraph<br>Dataset=%{x}<br>Iteration Duration, seconds=%{y}<br>Iteration Duration=%{text}<extra></extra>",
         "legendgroup": "IGraph",
         "marker": {
          "color": "#FFA15A",
          "pattern": {
           "shape": ""
          }
         },
         "name": "IGraph",
         "offsetgroup": "IGraph",
         "orientation": "v",
         "showlegend": true,
         "text": [
          "0.06 msecs",
          "0.64 msecs",
          "1.14 msecs",
          "2.01 msecs",
          "6.94 msecs",
          "22.87 msecs",
          "77.79 msecs",
          "1.54 secs",
          "3.86 secs",
          "3.95 secs"
         ],
         "textangle": -60,
         "textfont": {
          "size": 14
         },
         "textposition": "auto",
         "type": "bar",
         "x": [
          "butterfly_labels",
          "bitcoin_alpha",
          "facebook",
          "wiki_vote",
          "enron",
          "slashdot",
          "twitter",
          "wiki_topcasts",
          "live_journal",
          "orkut"
         ],
         "xaxis": "x",
         "y": [
          0.00005936351469485325,
          0.0006389900366293496,
          0.0011347864697643806,
          0.002007888305564851,
          0.006938024260840657,
          0.022870442979512105,
          0.07779170047072474,
          1.5356732079439896,
          3.8633886147769227,
          3.9545786961131584
         ],
         "yaxis": "y"
        }
       ],
       "layout": {
        "bargap": 0.3,
        "bargroupgap": 0.1,
        "barmode": "group",
        "legend": {
         "orientation": "h",
         "title": {
          "text": "Backend Engine"
         },
         "tracegroupgap": 0,
         "x": 0.5,
         "xanchor": "center",
         "y": 1,
         "yanchor": "bottom"
        },
        "template": {
         "data": {
          "bar": [
           {
            "error_x": {
             "color": "#2a3f5f"
            },
            "error_y": {
             "color": "#2a3f5f"
            },
            "marker": {
             "line": {
              "color": "#E5ECF6",
              "width": 0.5
             },
             "pattern": {
              "fillmode": "overlay",
              "size": 10,
              "solidity": 0.2
             }
            },
            "type": "bar"
           }
          ],
          "barpolar": [
           {
            "marker": {
             "line": {
              "color": "#E5ECF6",
              "width": 0.5
             },
             "pattern": {
              "fillmode": "overlay",
              "size": 10,
              "solidity": 0.2
             }
            },
            "type": "barpolar"
           }
          ],
          "carpet": [
           {
            "aaxis": {
             "endlinecolor": "#2a3f5f",
             "gridcolor": "white",
             "linecolor": "white",
             "minorgridcolor": "white",
             "startlinecolor": "#2a3f5f"
            },
            "baxis": {
             "endlinecolor": "#2a3f5f",
             "gridcolor": "white",
             "linecolor": "white",
             "minorgridcolor": "white",
             "startlinecolor": "#2a3f5f"
            },
            "type": "carpet"
           }
          ],
          "choropleth": [
           {
            "colorbar": {
             "outlinewidth": 0,
             "ticks": ""
            },
            "type": "choropleth"
           }
          ],
          "contour": [
           {
            "colorbar": {
             "outlinewidth": 0,
             "ticks": ""
            },
            "colorscale": [
             [
              0,
              "#0d0887"
             ],
             [
              0.1111111111111111,
              "#46039f"
             ],
             [
              0.2222222222222222,
              "#7201a8"
             ],
             [
              0.3333333333333333,
              "#9c179e"
             ],
             [
              0.4444444444444444,
              "#bd3786"
             ],
             [
              0.5555555555555556,
              "#d8576b"
             ],
             [
              0.6666666666666666,
              "#ed7953"
             ],
             [
              0.7777777777777778,
              "#fb9f3a"
             ],
             [
              0.8888888888888888,
              "#fdca26"
             ],
             [
              1,
              "#f0f921"
             ]
            ],
            "type": "contour"
           }
          ],
          "contourcarpet": [
           {
            "colorbar": {
             "outlinewidth": 0,
             "ticks": ""
            },
            "type": "contourcarpet"
           }
          ],
          "heatmap": [
           {
            "colorbar": {
             "outlinewidth": 0,
             "ticks": ""
            },
            "colorscale": [
             [
              0,
              "#0d0887"
             ],
             [
              0.1111111111111111,
              "#46039f"
             ],
             [
              0.2222222222222222,
              "#7201a8"
             ],
             [
              0.3333333333333333,
              "#9c179e"
             ],
             [
              0.4444444444444444,
              "#bd3786"
             ],
             [
              0.5555555555555556,
              "#d8576b"
             ],
             [
              0.6666666666666666,
              "#ed7953"
             ],
             [
              0.7777777777777778,
              "#fb9f3a"
             ],
             [
              0.8888888888888888,
              "#fdca26"
             ],
             [
              1,
              "#f0f921"
             ]
            ],
            "type": "heatmap"
           }
          ],
          "heatmapgl": [
           {
            "colorbar": {
             "outlinewidth": 0,
             "ticks": ""
            },
            "colorscale": [
             [
              0,
              "#0d0887"
             ],
             [
              0.1111111111111111,
              "#46039f"
             ],
             [
              0.2222222222222222,
              "#7201a8"
             ],
             [
              0.3333333333333333,
              "#9c179e"
             ],
             [
              0.4444444444444444,
              "#bd3786"
             ],
             [
              0.5555555555555556,
              "#d8576b"
             ],
             [
              0.6666666666666666,
              "#ed7953"
             ],
             [
              0.7777777777777778,
              "#fb9f3a"
             ],
             [
              0.8888888888888888,
              "#fdca26"
             ],
             [
              1,
              "#f0f921"
             ]
            ],
            "type": "heatmapgl"
           }
          ],
          "histogram": [
           {
            "marker": {
             "pattern": {
              "fillmode": "overlay",
              "size": 10,
              "solidity": 0.2
             }
            },
            "type": "histogram"
           }
          ],
          "histogram2d": [
           {
            "colorbar": {
             "outlinewidth": 0,
             "ticks": ""
            },
            "colorscale": [
             [
              0,
              "#0d0887"
             ],
             [
              0.1111111111111111,
              "#46039f"
             ],
             [
              0.2222222222222222,
              "#7201a8"
             ],
             [
              0.3333333333333333,
              "#9c179e"
             ],
             [
              0.4444444444444444,
              "#bd3786"
             ],
             [
              0.5555555555555556,
              "#d8576b"
             ],
             [
              0.6666666666666666,
              "#ed7953"
             ],
             [
              0.7777777777777778,
              "#fb9f3a"
             ],
             [
              0.8888888888888888,
              "#fdca26"
             ],
             [
              1,
              "#f0f921"
             ]
            ],
            "type": "histogram2d"
           }
          ],
          "histogram2dcontour": [
           {
            "colorbar": {
             "outlinewidth": 0,
             "ticks": ""
            },
            "colorscale": [
             [
              0,
              "#0d0887"
             ],
             [
              0.1111111111111111,
              "#46039f"
             ],
             [
              0.2222222222222222,
              "#7201a8"
             ],
             [
              0.3333333333333333,
              "#9c179e"
             ],
             [
              0.4444444444444444,
              "#bd3786"
             ],
             [
              0.5555555555555556,
              "#d8576b"
             ],
             [
              0.6666666666666666,
              "#ed7953"
             ],
             [
              0.7777777777777778,
              "#fb9f3a"
             ],
             [
              0.8888888888888888,
              "#fdca26"
             ],
             [
              1,
              "#f0f921"
             ]
            ],
            "type": "histogram2dcontour"
           }
          ],
          "mesh3d": [
           {
            "colorbar": {
             "outlinewidth": 0,
             "ticks": ""
            },
            "type": "mesh3d"
           }
          ],
          "parcoords": [
           {
            "line": {
             "colorbar": {
              "outlinewidth": 0,
              "ticks": ""
             }
            },
            "type": "parcoords"
           }
          ],
          "pie": [
           {
            "automargin": true,
            "type": "pie"
           }
          ],
          "scatter": [
           {
            "fillpattern": {
             "fillmode": "overlay",
             "size": 10,
             "solidity": 0.2
            },
            "type": "scatter"
           }
          ],
          "scatter3d": [
           {
            "line": {
             "colorbar": {
              "outlinewidth": 0,
              "ticks": ""
             }
            },
            "marker": {
             "colorbar": {
              "outlinewidth": 0,
              "ticks": ""
             }
            },
            "type": "scatter3d"
           }
          ],
          "scattercarpet": [
           {
            "marker": {
             "colorbar": {
              "outlinewidth": 0,
              "ticks": ""
             }
            },
            "type": "scattercarpet"
           }
          ],
          "scattergeo": [
           {
            "marker": {
             "colorbar": {
              "outlinewidth": 0,
              "ticks": ""
             }
            },
            "type": "scattergeo"
           }
          ],
          "scattergl": [
           {
            "marker": {
             "colorbar": {
              "outlinewidth": 0,
              "ticks": ""
             }
            },
            "type": "scattergl"
           }
          ],
          "scattermapbox": [
           {
            "marker": {
             "colorbar": {
              "outlinewidth": 0,
              "ticks": ""
             }
            },
            "type": "scattermapbox"
           }
          ],
          "scatterpolar": [
           {
            "marker": {
             "colorbar": {
              "outlinewidth": 0,
              "ticks": ""
             }
            },
            "type": "scatterpolar"
           }
          ],
          "scatterpolargl": [
           {
            "marker": {
             "colorbar": {
              "outlinewidth": 0,
              "ticks": ""
             }
            },
            "type": "scatterpolargl"
           }
          ],
          "scatterternary": [
           {
            "marker": {
             "colorbar": {
              "outlinewidth": 0,
              "ticks": ""
             }
            },
            "type": "scatterternary"
           }
          ],
          "surface": [
           {
            "colorbar": {
             "outlinewidth": 0,
             "ticks": ""
            },
            "colorscale": [
             [
              0,
              "#0d0887"
             ],
             [
              0.1111111111111111,
              "#46039f"
             ],
             [
              0.2222222222222222,
              "#7201a8"
             ],
             [
              0.3333333333333333,
              "#9c179e"
             ],
             [
              0.4444444444444444,
              "#bd3786"
             ],
             [
              0.5555555555555556,
              "#d8576b"
             ],
             [
              0.6666666666666666,
              "#ed7953"
             ],
             [
              0.7777777777777778,
              "#fb9f3a"
             ],
             [
              0.8888888888888888,
              "#fdca26"
             ],
             [
              1,
              "#f0f921"
             ]
            ],
            "type": "surface"
           }
          ],
          "table": [
           {
            "cells": {
             "fill": {
              "color": "#EBF0F8"
             },
             "line": {
              "color": "white"
             }
            },
            "header": {
             "fill": {
              "color": "#C8D4E3"
             },
             "line": {
              "color": "white"
             }
            },
            "type": "table"
           }
          ]
         },
         "layout": {
          "annotationdefaults": {
           "arrowcolor": "#2a3f5f",
           "arrowhead": 0,
           "arrowwidth": 1
          },
          "autotypenumbers": "strict",
          "coloraxis": {
           "colorbar": {
            "outlinewidth": 0,
            "ticks": ""
           }
          },
          "colorscale": {
           "diverging": [
            [
             0,
             "#8e0152"
            ],
            [
             0.1,
             "#c51b7d"
            ],
            [
             0.2,
             "#de77ae"
            ],
            [
             0.3,
             "#f1b6da"
            ],
            [
             0.4,
             "#fde0ef"
            ],
            [
             0.5,
             "#f7f7f7"
            ],
            [
             0.6,
             "#e6f5d0"
            ],
            [
             0.7,
             "#b8e186"
            ],
            [
             0.8,
             "#7fbc41"
            ],
            [
             0.9,
             "#4d9221"
            ],
            [
             1,
             "#276419"
            ]
           ],
           "sequential": [
            [
             0,
             "#0d0887"
            ],
            [
             0.1111111111111111,
             "#46039f"
            ],
            [
             0.2222222222222222,
             "#7201a8"
            ],
            [
             0.3333333333333333,
             "#9c179e"
            ],
            [
             0.4444444444444444,
             "#bd3786"
            ],
            [
             0.5555555555555556,
             "#d8576b"
            ],
            [
             0.6666666666666666,
             "#ed7953"
            ],
            [
             0.7777777777777778,
             "#fb9f3a"
            ],
            [
             0.8888888888888888,
             "#fdca26"
            ],
            [
             1,
             "#f0f921"
            ]
           ],
           "sequentialminus": [
            [
             0,
             "#0d0887"
            ],
            [
             0.1111111111111111,
             "#46039f"
            ],
            [
             0.2222222222222222,
             "#7201a8"
            ],
            [
             0.3333333333333333,
             "#9c179e"
            ],
            [
             0.4444444444444444,
             "#bd3786"
            ],
            [
             0.5555555555555556,
             "#d8576b"
            ],
            [
             0.6666666666666666,
             "#ed7953"
            ],
            [
             0.7777777777777778,
             "#fb9f3a"
            ],
            [
             0.8888888888888888,
             "#fdca26"
            ],
            [
             1,
             "#f0f921"
            ]
           ]
          },
          "colorway": [
           "#636efa",
           "#EF553B",
           "#00cc96",
           "#ab63fa",
           "#FFA15A",
           "#19d3f3",
           "#FF6692",
           "#B6E880",
           "#FF97FF",
           "#FECB52"
          ],
          "font": {
           "color": "#2a3f5f"
          },
          "geo": {
           "bgcolor": "white",
           "lakecolor": "white",
           "landcolor": "#E5ECF6",
           "showlakes": true,
           "showland": true,
           "subunitcolor": "white"
          },
          "hoverlabel": {
           "align": "left"
          },
          "hovermode": "closest",
          "mapbox": {
           "style": "light"
          },
          "paper_bgcolor": "white",
          "plot_bgcolor": "#E5ECF6",
          "polar": {
           "angularaxis": {
            "gridcolor": "white",
            "linecolor": "white",
            "ticks": ""
           },
           "bgcolor": "#E5ECF6",
           "radialaxis": {
            "gridcolor": "white",
            "linecolor": "white",
            "ticks": ""
           }
          },
          "scene": {
           "xaxis": {
            "backgroundcolor": "#E5ECF6",
            "gridcolor": "white",
            "gridwidth": 2,
            "linecolor": "white",
            "showbackground": true,
            "ticks": "",
            "zerolinecolor": "white"
           },
           "yaxis": {
            "backgroundcolor": "#E5ECF6",
            "gridcolor": "white",
            "gridwidth": 2,
            "linecolor": "white",
            "showbackground": true,
            "ticks": "",
            "zerolinecolor": "white"
           },
           "zaxis": {
            "backgroundcolor": "#E5ECF6",
            "gridcolor": "white",
            "gridwidth": 2,
            "linecolor": "white",
            "showbackground": true,
            "ticks": "",
            "zerolinecolor": "white"
           }
          },
          "shapedefaults": {
           "line": {
            "color": "#2a3f5f"
           }
          },
          "ternary": {
           "aaxis": {
            "gridcolor": "white",
            "linecolor": "white",
            "ticks": ""
           },
           "baxis": {
            "gridcolor": "white",
            "linecolor": "white",
            "ticks": ""
           },
           "bgcolor": "#E5ECF6",
           "caxis": {
            "gridcolor": "white",
            "linecolor": "white",
            "ticks": ""
           }
          },
          "title": {
           "x": 0.05
          },
          "xaxis": {
           "automargin": true,
           "gridcolor": "white",
           "linecolor": "white",
           "ticks": "",
           "title": {
            "standoff": 15
           },
           "zerolinecolor": "white",
           "zerolinewidth": 2
          },
          "yaxis": {
           "automargin": true,
           "gridcolor": "white",
           "linecolor": "white",
           "ticks": "",
           "title": {
            "standoff": 15
           },
           "zerolinecolor": "white",
           "zerolinewidth": 2
          }
         }
        },
        "title": {
         "text": "Weakly Connected Compenents",
         "x": 0.5
        },
        "xaxis": {
         "anchor": "y",
         "domain": [
          0,
          1
         ],
         "showgrid": false,
         "title": {
          "text": "Dataset"
         }
        },
        "yaxis": {
         "anchor": "x",
         "domain": [
          0,
          1
         ],
         "showgrid": true,
         "title": {
          "text": "Iteration Duration, seconds"
         },
         "type": "log"
        }
       }
      },
      "text/html": [
       "<div>                            <div id=\"661271dc-7e56-4932-b8b1-450456da804c\" class=\"plotly-graph-div\" style=\"height:525px; width:100%;\"></div>            <script type=\"text/javascript\">                require([\"plotly\"], function(Plotly) {                    window.PLOTLYENV=window.PLOTLYENV || {};                                    if (document.getElementById(\"661271dc-7e56-4932-b8b1-450456da804c\")) {                    Plotly.newPlot(                        \"661271dc-7e56-4932-b8b1-450456da804c\",                        [{\"alignmentgroup\":\"True\",\"hovertemplate\":\"Backend Engine=CuGraph<br>Dataset=%{x}<br>Iteration Duration, seconds=%{y}<br>Iteration Duration=%{text}<extra></extra>\",\"legendgroup\":\"CuGraph\",\"marker\":{\"color\":\"#636efa\",\"pattern\":{\"shape\":\"\"}},\"name\":\"CuGraph\",\"offsetgroup\":\"CuGraph\",\"orientation\":\"v\",\"showlegend\":true,\"text\":[\"12.27 msecs\",\"16.08 msecs\",\"14.13 msecs\",\"18.18 msecs\",\"28.98 msecs\",\"22.18 msecs\",\"19.95 msecs\",\"302.43 msecs\",\"302.18 msecs\",\"701.70 msecs\"],\"textposition\":\"auto\",\"x\":[\"butterfly_labels\",\"bitcoin_alpha\",\"facebook\",\"wiki_vote\",\"enron\",\"slashdot\",\"twitter\",\"wiki_topcasts\",\"live_journal\",\"orkut\"],\"xaxis\":\"x\",\"y\":[0.012264679275634684,0.01608271401731532,0.014130628602256189,0.01818461720194575,0.028979665753460514,0.022185275267709376,0.01994902026119294,0.3024278273505544,0.30218178015820746,0.7016961282101636],\"yaxis\":\"y\",\"type\":\"bar\",\"textfont\":{\"size\":14},\"cliponaxis\":false,\"textangle\":-60},{\"alignmentgroup\":\"True\",\"hovertemplate\":\"Backend Engine=NetworkX<br>Dataset=%{x}<br>Iteration Duration, seconds=%{y}<br>Iteration Duration=%{text}<extra></extra>\",\"legendgroup\":\"NetworkX\",\"marker\":{\"color\":\"#EF553B\",\"pattern\":{\"shape\":\"\"}},\"name\":\"NetworkX\",\"offsetgroup\":\"NetworkX\",\"orientation\":\"v\",\"showlegend\":true,\"text\":[\"0.96 msecs\",\"6.37 msecs\",\"12.84 msecs\",\"22.52 msecs\",\"127.85 msecs\",\"321.52 msecs\",\"673.60 msecs\",\"16.41 secs\",\"38.69 secs\",\"1 min\"],\"textposition\":\"auto\",\"x\":[\"butterfly_labels\",\"bitcoin_alpha\",\"facebook\",\"wiki_vote\",\"enron\",\"slashdot\",\"twitter\",\"wiki_topcasts\",\"live_journal\",\"orkut\"],\"xaxis\":\"x\",\"y\":[0.0009652256978486753,0.006371914639073319,0.01283552804440166,0.02251911423715894,0.12785133857246964,0.32152001373770756,0.6735977165894501,16.414748282045945,38.69398364425,60.34953620434],\"yaxis\":\"y\",\"type\":\"bar\",\"textfont\":{\"size\":14},\"cliponaxis\":false,\"textangle\":-60},{\"alignmentgroup\":\"True\",\"hovertemplate\":\"Backend Engine=RetworkX<br>Dataset=%{x}<br>Iteration Duration, seconds=%{y}<br>Iteration Duration=%{text}<extra></extra>\",\"legendgroup\":\"RetworkX\",\"marker\":{\"color\":\"#00cc96\",\"pattern\":{\"shape\":\"\"}},\"name\":\"RetworkX\",\"offsetgroup\":\"RetworkX\",\"orientation\":\"v\",\"showlegend\":true,\"text\":[\"0.05 msecs\",\"1.97 msecs\",\"1.14 msecs\",\"2.47 msecs\",\"9.43 msecs\",\"44.32 msecs\",\"10.93 mins\",\"TimeOut\",\"TimeOut\",\"TimeOut\"],\"textposition\":\"auto\",\"x\":[\"butterfly_labels\",\"bitcoin_alpha\",\"facebook\",\"wiki_vote\",\"enron\",\"slashdot\",\"twitter\",\"wiki_topcasts\",\"live_journal\",\"orkut\"],\"xaxis\":\"x\",\"y\":[4.7093823827189224e-05,0.0019742238114310814,0.0011348647982613892,0.0024707493769199726,0.009429968647270812,0.04431832124619986,656.6362588406,7620.7039511204,7620.7039511204,7620.7039511204],\"yaxis\":\"y\",\"type\":\"bar\",\"textfont\":{\"size\":14},\"cliponaxis\":false,\"textangle\":-60},{\"alignmentgroup\":\"True\",\"hovertemplate\":\"Backend Engine=Snap<br>Dataset=%{x}<br>Iteration Duration, seconds=%{y}<br>Iteration Duration=%{text}<extra></extra>\",\"legendgroup\":\"Snap\",\"marker\":{\"color\":\"#ab63fa\",\"pattern\":{\"shape\":\"\"}},\"name\":\"Snap\",\"offsetgroup\":\"Snap\",\"orientation\":\"v\",\"showlegend\":true,\"text\":[\"0.48 msecs\",\"2.94 msecs\",\"4.10 msecs\",\"6.67 msecs\",\"34.69 msecs\",\"83.60 msecs\",\"146.39 msecs\",\"3.51 secs\",\"9.55 secs\",\"15.20 secs\"],\"textposition\":\"auto\",\"x\":[\"butterfly_labels\",\"bitcoin_alpha\",\"facebook\",\"wiki_vote\",\"enron\",\"slashdot\",\"twitter\",\"wiki_topcasts\",\"live_journal\",\"orkut\"],\"xaxis\":\"x\",\"y\":[0.0004765104910420012,0.0029412519937929847,0.004097728602632783,0.006669770916091776,0.03469098730841813,0.08360100802363105,0.14639305469319344,3.508153495400581,9.547459367722222,15.1964244663725],\"yaxis\":\"y\",\"type\":\"bar\",\"textfont\":{\"size\":14},\"cliponaxis\":false,\"textangle\":-60},{\"alignmentgroup\":\"True\",\"hovertemplate\":\"Backend Engine=IGraph<br>Dataset=%{x}<br>Iteration Duration, seconds=%{y}<br>Iteration Duration=%{text}<extra></extra>\",\"legendgroup\":\"IGraph\",\"marker\":{\"color\":\"#FFA15A\",\"pattern\":{\"shape\":\"\"}},\"name\":\"IGraph\",\"offsetgroup\":\"IGraph\",\"orientation\":\"v\",\"showlegend\":true,\"text\":[\"0.06 msecs\",\"0.64 msecs\",\"1.14 msecs\",\"2.01 msecs\",\"6.94 msecs\",\"22.87 msecs\",\"77.79 msecs\",\"1.54 secs\",\"3.86 secs\",\"3.95 secs\"],\"textposition\":\"auto\",\"x\":[\"butterfly_labels\",\"bitcoin_alpha\",\"facebook\",\"wiki_vote\",\"enron\",\"slashdot\",\"twitter\",\"wiki_topcasts\",\"live_journal\",\"orkut\"],\"xaxis\":\"x\",\"y\":[5.936351469485325e-05,0.0006389900366293496,0.0011347864697643806,0.002007888305564851,0.006938024260840657,0.022870442979512105,0.07779170047072474,1.5356732079439896,3.8633886147769227,3.9545786961131584],\"yaxis\":\"y\",\"type\":\"bar\",\"textfont\":{\"size\":14},\"cliponaxis\":false,\"textangle\":-60}],                        {\"template\":{\"data\":{\"histogram2dcontour\":[{\"type\":\"histogram2dcontour\",\"colorbar\":{\"outlinewidth\":0,\"ticks\":\"\"},\"colorscale\":[[0.0,\"#0d0887\"],[0.1111111111111111,\"#46039f\"],[0.2222222222222222,\"#7201a8\"],[0.3333333333333333,\"#9c179e\"],[0.4444444444444444,\"#bd3786\"],[0.5555555555555556,\"#d8576b\"],[0.6666666666666666,\"#ed7953\"],[0.7777777777777778,\"#fb9f3a\"],[0.8888888888888888,\"#fdca26\"],[1.0,\"#f0f921\"]]}],\"choropleth\":[{\"type\":\"choropleth\",\"colorbar\":{\"outlinewidth\":0,\"ticks\":\"\"}}],\"histogram2d\":[{\"type\":\"histogram2d\",\"colorbar\":{\"outlinewidth\":0,\"ticks\":\"\"},\"colorscale\":[[0.0,\"#0d0887\"],[0.1111111111111111,\"#46039f\"],[0.2222222222222222,\"#7201a8\"],[0.3333333333333333,\"#9c179e\"],[0.4444444444444444,\"#bd3786\"],[0.5555555555555556,\"#d8576b\"],[0.6666666666666666,\"#ed7953\"],[0.7777777777777778,\"#fb9f3a\"],[0.8888888888888888,\"#fdca26\"],[1.0,\"#f0f921\"]]}],\"heatmap\":[{\"type\":\"heatmap\",\"colorbar\":{\"outlinewidth\":0,\"ticks\":\"\"},\"colorscale\":[[0.0,\"#0d0887\"],[0.1111111111111111,\"#46039f\"],[0.2222222222222222,\"#7201a8\"],[0.3333333333333333,\"#9c179e\"],[0.4444444444444444,\"#bd3786\"],[0.5555555555555556,\"#d8576b\"],[0.6666666666666666,\"#ed7953\"],[0.7777777777777778,\"#fb9f3a\"],[0.8888888888888888,\"#fdca26\"],[1.0,\"#f0f921\"]]}],\"heatmapgl\":[{\"type\":\"heatmapgl\",\"colorbar\":{\"outlinewidth\":0,\"ticks\":\"\"},\"colorscale\":[[0.0,\"#0d0887\"],[0.1111111111111111,\"#46039f\"],[0.2222222222222222,\"#7201a8\"],[0.3333333333333333,\"#9c179e\"],[0.4444444444444444,\"#bd3786\"],[0.5555555555555556,\"#d8576b\"],[0.6666666666666666,\"#ed7953\"],[0.7777777777777778,\"#fb9f3a\"],[0.8888888888888888,\"#fdca26\"],[1.0,\"#f0f921\"]]}],\"contourcarpet\":[{\"type\":\"contourcarpet\",\"colorbar\":{\"outlinewidth\":0,\"ticks\":\"\"}}],\"contour\":[{\"type\":\"contour\",\"colorbar\":{\"outlinewidth\":0,\"ticks\":\"\"},\"colorscale\":[[0.0,\"#0d0887\"],[0.1111111111111111,\"#46039f\"],[0.2222222222222222,\"#7201a8\"],[0.3333333333333333,\"#9c179e\"],[0.4444444444444444,\"#bd3786\"],[0.5555555555555556,\"#d8576b\"],[0.6666666666666666,\"#ed7953\"],[0.7777777777777778,\"#fb9f3a\"],[0.8888888888888888,\"#fdca26\"],[1.0,\"#f0f921\"]]}],\"surface\":[{\"type\":\"surface\",\"colorbar\":{\"outlinewidth\":0,\"ticks\":\"\"},\"colorscale\":[[0.0,\"#0d0887\"],[0.1111111111111111,\"#46039f\"],[0.2222222222222222,\"#7201a8\"],[0.3333333333333333,\"#9c179e\"],[0.4444444444444444,\"#bd3786\"],[0.5555555555555556,\"#d8576b\"],[0.6666666666666666,\"#ed7953\"],[0.7777777777777778,\"#fb9f3a\"],[0.8888888888888888,\"#fdca26\"],[1.0,\"#f0f921\"]]}],\"mesh3d\":[{\"type\":\"mesh3d\",\"colorbar\":{\"outlinewidth\":0,\"ticks\":\"\"}}],\"scatter\":[{\"fillpattern\":{\"fillmode\":\"overlay\",\"size\":10,\"solidity\":0.2},\"type\":\"scatter\"}],\"parcoords\":[{\"type\":\"parcoords\",\"line\":{\"colorbar\":{\"outlinewidth\":0,\"ticks\":\"\"}}}],\"scatterpolargl\":[{\"type\":\"scatterpolargl\",\"marker\":{\"colorbar\":{\"outlinewidth\":0,\"ticks\":\"\"}}}],\"bar\":[{\"error_x\":{\"color\":\"#2a3f5f\"},\"error_y\":{\"color\":\"#2a3f5f\"},\"marker\":{\"line\":{\"color\":\"#E5ECF6\",\"width\":0.5},\"pattern\":{\"fillmode\":\"overlay\",\"size\":10,\"solidity\":0.2}},\"type\":\"bar\"}],\"scattergeo\":[{\"type\":\"scattergeo\",\"marker\":{\"colorbar\":{\"outlinewidth\":0,\"ticks\":\"\"}}}],\"scatterpolar\":[{\"type\":\"scatterpolar\",\"marker\":{\"colorbar\":{\"outlinewidth\":0,\"ticks\":\"\"}}}],\"histogram\":[{\"marker\":{\"pattern\":{\"fillmode\":\"overlay\",\"size\":10,\"solidity\":0.2}},\"type\":\"histogram\"}],\"scattergl\":[{\"type\":\"scattergl\",\"marker\":{\"colorbar\":{\"outlinewidth\":0,\"ticks\":\"\"}}}],\"scatter3d\":[{\"type\":\"scatter3d\",\"line\":{\"colorbar\":{\"outlinewidth\":0,\"ticks\":\"\"}},\"marker\":{\"colorbar\":{\"outlinewidth\":0,\"ticks\":\"\"}}}],\"scattermapbox\":[{\"type\":\"scattermapbox\",\"marker\":{\"colorbar\":{\"outlinewidth\":0,\"ticks\":\"\"}}}],\"scatterternary\":[{\"type\":\"scatterternary\",\"marker\":{\"colorbar\":{\"outlinewidth\":0,\"ticks\":\"\"}}}],\"scattercarpet\":[{\"type\":\"scattercarpet\",\"marker\":{\"colorbar\":{\"outlinewidth\":0,\"ticks\":\"\"}}}],\"carpet\":[{\"aaxis\":{\"endlinecolor\":\"#2a3f5f\",\"gridcolor\":\"white\",\"linecolor\":\"white\",\"minorgridcolor\":\"white\",\"startlinecolor\":\"#2a3f5f\"},\"baxis\":{\"endlinecolor\":\"#2a3f5f\",\"gridcolor\":\"white\",\"linecolor\":\"white\",\"minorgridcolor\":\"white\",\"startlinecolor\":\"#2a3f5f\"},\"type\":\"carpet\"}],\"table\":[{\"cells\":{\"fill\":{\"color\":\"#EBF0F8\"},\"line\":{\"color\":\"white\"}},\"header\":{\"fill\":{\"color\":\"#C8D4E3\"},\"line\":{\"color\":\"white\"}},\"type\":\"table\"}],\"barpolar\":[{\"marker\":{\"line\":{\"color\":\"#E5ECF6\",\"width\":0.5},\"pattern\":{\"fillmode\":\"overlay\",\"size\":10,\"solidity\":0.2}},\"type\":\"barpolar\"}],\"pie\":[{\"automargin\":true,\"type\":\"pie\"}]},\"layout\":{\"autotypenumbers\":\"strict\",\"colorway\":[\"#636efa\",\"#EF553B\",\"#00cc96\",\"#ab63fa\",\"#FFA15A\",\"#19d3f3\",\"#FF6692\",\"#B6E880\",\"#FF97FF\",\"#FECB52\"],\"font\":{\"color\":\"#2a3f5f\"},\"hovermode\":\"closest\",\"hoverlabel\":{\"align\":\"left\"},\"paper_bgcolor\":\"white\",\"plot_bgcolor\":\"#E5ECF6\",\"polar\":{\"bgcolor\":\"#E5ECF6\",\"angularaxis\":{\"gridcolor\":\"white\",\"linecolor\":\"white\",\"ticks\":\"\"},\"radialaxis\":{\"gridcolor\":\"white\",\"linecolor\":\"white\",\"ticks\":\"\"}},\"ternary\":{\"bgcolor\":\"#E5ECF6\",\"aaxis\":{\"gridcolor\":\"white\",\"linecolor\":\"white\",\"ticks\":\"\"},\"baxis\":{\"gridcolor\":\"white\",\"linecolor\":\"white\",\"ticks\":\"\"},\"caxis\":{\"gridcolor\":\"white\",\"linecolor\":\"white\",\"ticks\":\"\"}},\"coloraxis\":{\"colorbar\":{\"outlinewidth\":0,\"ticks\":\"\"}},\"colorscale\":{\"sequential\":[[0.0,\"#0d0887\"],[0.1111111111111111,\"#46039f\"],[0.2222222222222222,\"#7201a8\"],[0.3333333333333333,\"#9c179e\"],[0.4444444444444444,\"#bd3786\"],[0.5555555555555556,\"#d8576b\"],[0.6666666666666666,\"#ed7953\"],[0.7777777777777778,\"#fb9f3a\"],[0.8888888888888888,\"#fdca26\"],[1.0,\"#f0f921\"]],\"sequentialminus\":[[0.0,\"#0d0887\"],[0.1111111111111111,\"#46039f\"],[0.2222222222222222,\"#7201a8\"],[0.3333333333333333,\"#9c179e\"],[0.4444444444444444,\"#bd3786\"],[0.5555555555555556,\"#d8576b\"],[0.6666666666666666,\"#ed7953\"],[0.7777777777777778,\"#fb9f3a\"],[0.8888888888888888,\"#fdca26\"],[1.0,\"#f0f921\"]],\"diverging\":[[0,\"#8e0152\"],[0.1,\"#c51b7d\"],[0.2,\"#de77ae\"],[0.3,\"#f1b6da\"],[0.4,\"#fde0ef\"],[0.5,\"#f7f7f7\"],[0.6,\"#e6f5d0\"],[0.7,\"#b8e186\"],[0.8,\"#7fbc41\"],[0.9,\"#4d9221\"],[1,\"#276419\"]]},\"xaxis\":{\"gridcolor\":\"white\",\"linecolor\":\"white\",\"ticks\":\"\",\"title\":{\"standoff\":15},\"zerolinecolor\":\"white\",\"automargin\":true,\"zerolinewidth\":2},\"yaxis\":{\"gridcolor\":\"white\",\"linecolor\":\"white\",\"ticks\":\"\",\"title\":{\"standoff\":15},\"zerolinecolor\":\"white\",\"automargin\":true,\"zerolinewidth\":2},\"scene\":{\"xaxis\":{\"backgroundcolor\":\"#E5ECF6\",\"gridcolor\":\"white\",\"linecolor\":\"white\",\"showbackground\":true,\"ticks\":\"\",\"zerolinecolor\":\"white\",\"gridwidth\":2},\"yaxis\":{\"backgroundcolor\":\"#E5ECF6\",\"gridcolor\":\"white\",\"linecolor\":\"white\",\"showbackground\":true,\"ticks\":\"\",\"zerolinecolor\":\"white\",\"gridwidth\":2},\"zaxis\":{\"backgroundcolor\":\"#E5ECF6\",\"gridcolor\":\"white\",\"linecolor\":\"white\",\"showbackground\":true,\"ticks\":\"\",\"zerolinecolor\":\"white\",\"gridwidth\":2}},\"shapedefaults\":{\"line\":{\"color\":\"#2a3f5f\"}},\"annotationdefaults\":{\"arrowcolor\":\"#2a3f5f\",\"arrowhead\":0,\"arrowwidth\":1},\"geo\":{\"bgcolor\":\"white\",\"landcolor\":\"#E5ECF6\",\"subunitcolor\":\"white\",\"showland\":true,\"showlakes\":true,\"lakecolor\":\"white\"},\"title\":{\"x\":0.05},\"mapbox\":{\"style\":\"light\"}}},\"xaxis\":{\"anchor\":\"y\",\"domain\":[0.0,1.0],\"title\":{\"text\":\"Dataset\"},\"showgrid\":false},\"yaxis\":{\"anchor\":\"x\",\"domain\":[0.0,1.0],\"title\":{\"text\":\"Iteration Duration, seconds\"},\"type\":\"log\",\"showgrid\":true},\"legend\":{\"title\":{\"text\":\"Backend Engine\"},\"tracegroupgap\":0,\"orientation\":\"h\",\"yanchor\":\"bottom\",\"y\":1,\"x\":0.5,\"xanchor\":\"center\"},\"title\":{\"text\":\"Weakly Connected Compenents\",\"x\":0.5},\"barmode\":\"group\",\"bargap\":0.3,\"bargroupgap\":0.1},                        {\"responsive\": true}                    ).then(function(){\n",
       "                            \n",
       "var gd = document.getElementById('661271dc-7e56-4932-b8b1-450456da804c');\n",
       "var x = new MutationObserver(function (mutations, observer) {{\n",
       "        var display = window.getComputedStyle(gd).display;\n",
       "        if (!display || display === 'none') {{\n",
       "            console.log([gd, 'removed!']);\n",
       "            Plotly.purge(gd);\n",
       "            observer.disconnect();\n",
       "        }}\n",
       "}});\n",
       "\n",
       "// Listen for the removal of the full notebook cells\n",
       "var notebookContainer = gd.closest('#notebook-container');\n",
       "if (notebookContainer) {{\n",
       "    x.observe(notebookContainer, {childList: true});\n",
       "}}\n",
       "\n",
       "// Listen for the clearing of the current output cell\n",
       "var outputEl = gd.closest('.output');\n",
       "if (outputEl) {{\n",
       "    x.observe(outputEl, {childList: true});\n",
       "}}\n",
       "\n",
       "                        })                };                });            </script>        </div>"
      ]
     },
     "metadata": {},
     "output_type": "display_data"
    }
   ],
   "source": [
    "for name, group in benches.groupby(['Query']):\n",
    "    if name == 'Close':\n",
    "        continue\n",
    "\n",
    "    # Docs:\n",
    "    # https://plotly.com/python/bar-charts/\n",
    "    fig = px.bar(\n",
    "        group, \n",
    "        title=name,\n",
    "        x='Dataset', \n",
    "        y='Iteration Duration, seconds',\n",
    "        color='Backend Engine',\n",
    "        barmode='group',\n",
    "        text='Iteration Duration',\n",
    "        log_y=True,\n",
    "    )\n",
    "    fig.update_layout(\n",
    "        title_x=0.5,\n",
    "        legend=dict(\n",
    "            orientation='h',\n",
    "            yanchor='bottom',\n",
    "            y=1,\n",
    "            x=0.5,\n",
    "            xanchor='center',\n",
    "        ),\n",
    "        xaxis=dict(showgrid=False),\n",
    "        yaxis=dict(showgrid=True),\n",
    "        bargap=0.30,\n",
    "        bargroupgap=0.10,\n",
    "    )\n",
    "    fig.update_traces(\n",
    "        textfont_size=14,\n",
    "        textangle=-60, \n",
    "        textposition='auto', \n",
    "        cliponaxis=False,\n",
    "    )\n",
    "    fig.show()"
   ]
  },
  {
   "cell_type": "markdown",
   "metadata": {},
   "source": [
    "## Exporting a Table\n",
    "\n",
    "For every combination of backend and engine, we want to show the span of potential relative speedups.\n",
    "Backends will be the columns. Rows will be the operations."
   ]
  },
  {
   "cell_type": "code",
   "execution_count": 107,
   "metadata": {},
   "outputs": [
    {
     "data": {
      "text/plain": [
       "7"
      ]
     },
     "execution_count": 107,
     "metadata": {},
     "output_type": "execute_result"
    }
   ],
   "source": [
    "backends = ['Snap', 'RetworkX', 'IGraph', 'CuGraph'] # list(benches['Backend Engine'].unique())\n",
    "operations = list(benches['Query'].unique())\n",
    "datasets = list(benches['Dataset'].unique())\n",
    "pairwise_speedups: list[list[list[float]]] = []\n",
    "backend_baseline = 'NetworkX'    \n",
    "benches_dict = {(d['Query'], d['Backend Engine'], d['Dataset']) : d for d in benches.to_records() }\n",
    "\n",
    "for row, operation in enumerate(operations):\n",
    "    cols = []\n",
    "    for col, backend in enumerate(backends):\n",
    "        multiples: list[float] = list()\n",
    "        \n",
    "        for dataset in datasets:\n",
    "            baseline_result = benches_dict[(operation, backend_baseline, dataset)]\n",
    "            improved_result = benches_dict[(operation, backend, dataset)]\n",
    "\n",
    "            if baseline_result is None or improved_result is None or len(baseline_result['error']) or len(improved_result['error']):\n",
    "                # print('Skipping', operation, backend, dataset)\n",
    "                continue\n",
    "\n",
    "            speedup: float = baseline_result['Iteration Duration, seconds'] / improved_result['Iteration Duration, seconds']\n",
    "            multiples.append(speedup)\n",
    "\n",
    "        cols.append(multiples)\n",
    "    pairwise_speedups.append(cols)\n",
    "\n",
    "len(pairwise_speedups)"
   ]
  },
  {
   "cell_type": "code",
   "execution_count": 108,
   "metadata": {},
   "outputs": [],
   "source": [
    "def map2d(func, mat):\n",
    "    # return list(map(lambda row: list(map(func, row)), mat))\n",
    "    return [[func(cell) for cell in row] for row in mat]"
   ]
  },
  {
   "cell_type": "code",
   "execution_count": 102,
   "metadata": {},
   "outputs": [],
   "source": [
    "def describe(results: list):\n",
    "    if len(results) == 0:\n",
    "        return ''\n",
    "    mean = np.mean(results)\n",
    "    std = np.std(results)\n",
    "    min = np.min(results)\n",
    "    max = np.max(results)\n",
    "    return f'x̅ = {mean:.2f}, N = {len(results)}\\nσ = {std:.2f}, {min:.4f} ≤ x ≤ {max:.2f}'"
   ]
  },
  {
   "cell_type": "markdown",
   "metadata": {},
   "source": [
    "Don't forget to prepend with an index column, describing the target operations"
   ]
  },
  {
   "cell_type": "code",
   "execution_count": 106,
   "metadata": {},
   "outputs": [
    {
     "name": "stdout",
     "output_type": "stream",
     "text": [
      "                             Snap                                   RetworkX                         IGraph                             CuGraph\n",
      "---------------------------  -------------------------------------  -------------------------------  ---------------------------------  -----------------------------------\n",
      "Parse                        x̅ = 6.82, N = 10                       x̅ = 14.59, N = 10                x̅ = 2.89, N = 10                   x̅ = 162.47, N = 10\n",
      "                             σ = 1.21, 4.3278 ≤ x ≤ 8.80            σ = 5.24, 0.8521 ≤ x ≤ 22.51     σ = 0.54, 2.0694 ≤ x ≤ 3.66        σ = 164.98, 0.3150 ≤ x ≤ 498.48\n",
      "PageRank                     x̅ = 5.46, N = 10                                                        x̅ = 26.94, N = 10                  x̅ = 151.30, N = 10\n",
      "                             σ = 3.39, 1.1757 ≤ x ≤ 11.57                                            σ = 20.20, 2.9756 ≤ x ≤ 80.03      σ = 161.42, 0.3707 ≤ x ≤ 527.15\n",
      "Community Detection                                                                                  x̅ = 0.00, N = 7                    x̅ = 0.00, N = 10\n",
      "                                                                                                     σ = 0.00, 0.0000 ≤ x ≤ 0.00        σ = 0.00, 0.0000 ≤ x ≤ 0.00\n",
      "Weakly Connected Compenents  x̅ = 3.55, N = 10                       x̅ = 9.28, N = 7                  x̅ = 12.59, N = 10                  x̅ = 32.36, N = 10\n",
      "                             σ = 0.86, 2.0256 ≤ x ≤ 4.68            σ = 6.27, 0.0010 ≤ x ≤ 20.50     σ = 3.05, 8.6590 ≤ x ≤ 18.43       σ = 42.00, 0.0787 ≤ x ≤ 128.05\n",
      "Pairwise Distances           x̅ = 7424.18, N = 2                     x̅ = 201.82, N = 2                x̅ = 257.69, N = 2\n",
      "                             σ = 4673.47, 2750.7107 ≤ x ≤ 12097.66  σ = 9.13, 192.6914 ≤ x ≤ 210.95  σ = 144.30, 113.3891 ≤ x ≤ 402.00\n",
      "Force Layout                                                        x̅ = 5.86, N = 5                  x̅ = 132.08, N = 5                  x̅ = 1362.70, N = 5\n",
      "                                                                    σ = 3.50, 1.6717 ≤ x ≤ 12.12     σ = 159.84, 3.3953 ≤ x ≤ 446.87    σ = 2336.55, 22.2306 ≤ x ≤ 6029.48\n",
      "Close                        x̅ = 19.91, N = 10                      x̅ = 114.55, N = 10               x̅ = 220.18, N = 10                 x̅ = 10861.07, N = 10\n",
      "                             σ = 19.41, 3.6225 ≤ x ≤ 62.23          σ = 111.58, 0.1998 ≤ x ≤ 379.31  σ = 206.35, 7.1844 ≤ x ≤ 713.09    σ = 19186.38, 1.7449 ≤ x ≤ 60567.90\n"
     ]
    }
   ],
   "source": [
    "mat = map2d(describe, pairwise_speedups)\n",
    "mat = [[operations[i]] + content for i, content in enumerate(mat)]\n",
    "print(tabulate.tabulate(mat, headers=backends))"
   ]
  }
 ],
 "metadata": {
  "kernelspec": {
   "display_name": "Python 3.9.1 ('base')",
   "language": "python",
   "name": "python3"
  },
  "language_info": {
   "codemirror_mode": {
    "name": "ipython",
    "version": 3
   },
   "file_extension": ".py",
   "mimetype": "text/x-python",
   "name": "python",
   "nbconvert_exporter": "python",
   "pygments_lexer": "ipython3",
   "version": "3.9.12"
  },
  "orig_nbformat": 4,
  "vscode": {
   "interpreter": {
    "hash": "cff5acb6aebe06c16a774d26bef644a734b1253c38a699b67df28acc263eb55c"
   }
  }
 },
 "nbformat": 4,
 "nbformat_minor": 2
}
