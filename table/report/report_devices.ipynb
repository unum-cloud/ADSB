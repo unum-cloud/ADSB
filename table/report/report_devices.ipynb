{
 "cells": [
  {
   "cell_type": "code",
   "execution_count": 16,
   "metadata": {},
   "outputs": [],
   "source": [
    "import sys\n",
    "import os\n",
    "import itertools\n",
    "from typing import List, Optional"
   ]
  },
  {
   "cell_type": "code",
   "execution_count": 22,
   "metadata": {},
   "outputs": [],
   "source": [
    "import plotly.express as px\n",
    "import pandas as pd\n",
    "import numpy as np\n",
    "import humanize\n",
    "import tabulate"
   ]
  },
  {
   "cell_type": "code",
   "execution_count": 18,
   "metadata": {},
   "outputs": [],
   "source": [
    "benches_c10 = pd.read_json('results-comino-batch10.json', orient='records')\n",
    "benches_c0 = pd.read_json('results-comino-full.json', orient='records')\n",
    "benches_n2 = pd.read_json('results-nuc-batch2.json', orient='records')"
   ]
  },
  {
   "cell_type": "code",
   "execution_count": 19,
   "metadata": {},
   "outputs": [],
   "source": [
    "benches_c10 = list(benches_c10.itertuples(index=None))\n",
    "benches_c0 = list(benches_c0.itertuples(index=None))\n",
    "benches_n2 = list(benches_n2.itertuples(index=None))"
   ]
  },
  {
   "cell_type": "code",
   "execution_count": 20,
   "metadata": {},
   "outputs": [
    {
     "data": {
      "text/plain": [
       "{'CuDF', 'Modin', 'Pandas', 'PyArrow', 'PySpark', 'SQLite'}"
      ]
     },
     "execution_count": 20,
     "metadata": {},
     "output_type": "execute_result"
    }
   ],
   "source": [
    "backends = set(d.backend for d in itertools.chain(benches_n2, benches_c10, benches_c0))\n",
    "backends"
   ]
  },
  {
   "cell_type": "code",
   "execution_count": 39,
   "metadata": {},
   "outputs": [],
   "source": [
    "backends_order = ['Pandas', 'Modin', 'CuDF', 'PySpark', 'PyArrow']\n",
    "def find_backend_result(results: list, backend: str, operation: str) -> Optional[float]:\n",
    "    for result in results:\n",
    "        if result.backend == backend and result.operation == operation:\n",
    "            secs_per_file = result.seconds / result.iterations\n",
    "            return f'{secs_per_file:.2f} s/file'\n",
    "    return None\n",
    "def compare_operation(operation: str) -> List[List[str]]:\n",
    "    result = []\n",
    "    for backend in backends_order:\n",
    "        row = []\n",
    "        row.append(backend)\n",
    "        row.append(find_backend_result(benches_n2, backend, operation))\n",
    "        row.append(find_backend_result(benches_c10, backend, operation))\n",
    "        row.append(find_backend_result(benches_c0, backend, operation))\n",
    "        result.append(row)\n",
    "    return result"
   ]
  },
  {
   "cell_type": "code",
   "execution_count": 40,
   "metadata": {},
   "outputs": [
    {
     "name": "stdout",
     "output_type": "stream",
     "text": [
      "-------  -----------  -----------  -----------\n",
      "Pandas   4.87 s/file  1.38 s/file  0.59 s/file\n",
      "Modin    5.94 s/file  1.13 s/file  0.06 s/file\n",
      "CuDF     0.49 s/file  0.13 s/file\n",
      "PySpark               0.55 s/file  1.27 s/file\n",
      "PyArrow  0.63 s/file  0.44 s/file  0.21 s/file\n",
      "-------  -----------  -----------  -----------\n"
     ]
    }
   ],
   "source": [
    "print(tabulate.tabulate(compare_operation('Q1')))"
   ]
  },
  {
   "cell_type": "code",
   "execution_count": 41,
   "metadata": {},
   "outputs": [
    {
     "name": "stdout",
     "output_type": "stream",
     "text": [
      "-------  -----------  -----------  -----------\n",
      "Pandas   4.28 s/file  0.91 s/file  0.16 s/file\n",
      "Modin    5.36 s/file  1.23 s/file  0.21 s/file\n",
      "CuDF     0.23 s/file  0.08 s/file\n",
      "PySpark               0.35 s/file\n",
      "PyArrow  0.50 s/file  0.33 s/file  0.12 s/file\n",
      "-------  -----------  -----------  -----------\n"
     ]
    }
   ],
   "source": [
    "print(tabulate.tabulate(compare_operation('Q2')))"
   ]
  },
  {
   "cell_type": "code",
   "execution_count": 42,
   "metadata": {},
   "outputs": [
    {
     "name": "stdout",
     "output_type": "stream",
     "text": [
      "-------  -----------  -----------  -----------\n",
      "Pandas   6.87 s/file  1.98 s/file  1.23 s/file\n",
      "Modin    5.83 s/file  1.23 s/file  0.13 s/file\n",
      "CuDF     0.20 s/file  0.09 s/file\n",
      "PySpark               0.50 s/file\n",
      "PyArrow  0.66 s/file               0.29 s/file\n",
      "-------  -----------  -----------  -----------\n"
     ]
    }
   ],
   "source": [
    "print(tabulate.tabulate(compare_operation('Q3')))"
   ]
  },
  {
   "cell_type": "code",
   "execution_count": 43,
   "metadata": {},
   "outputs": [
    {
     "name": "stdout",
     "output_type": "stream",
     "text": [
      "-------  -----------  -----------  -----------\n",
      "Pandas   6.87 s/file  3.77 s/file  1.42 s/file\n",
      "Modin    8.19 s/file  1.98 s/file  0.57 s/file\n",
      "CuDF     0.22 s/file  0.10 s/file\n",
      "PySpark               1.09 s/file\n",
      "PyArrow  0.77 s/file               0.34 s/file\n",
      "-------  -----------  -----------  -----------\n"
     ]
    }
   ],
   "source": [
    "print(tabulate.tabulate(compare_operation('Q4')))"
   ]
  }
 ],
 "metadata": {
  "kernelspec": {
   "display_name": "Python 3.7.7 ('base')",
   "language": "python",
   "name": "python3"
  },
  "language_info": {
   "codemirror_mode": {
    "name": "ipython",
    "version": 3
   },
   "file_extension": ".py",
   "mimetype": "text/x-python",
   "name": "python",
   "nbconvert_exporter": "python",
   "pygments_lexer": "ipython3",
   "version": "3.7.7"
  },
  "orig_nbformat": 4,
  "vscode": {
   "interpreter": {
    "hash": "14220765bd8b760bd40be74b85b9aaaa174e6a969b6c333837afb3f4516a6116"
   }
  }
 },
 "nbformat": 4,
 "nbformat_minor": 2
}
