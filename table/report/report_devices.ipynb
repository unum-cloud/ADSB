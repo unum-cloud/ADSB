{
 "cells": [
  {
   "cell_type": "code",
   "execution_count": 2,
   "metadata": {},
   "outputs": [],
   "source": [
    "import sys\n",
    "import os\n",
    "import itertools\n",
    "from typing import List, Optional"
   ]
  },
  {
   "cell_type": "code",
   "execution_count": 3,
   "metadata": {},
   "outputs": [],
   "source": [
    "import plotly.express as px\n",
    "import pandas as pd\n",
    "import numpy as np\n",
    "import humanize\n",
    "import tabulate"
   ]
  },
  {
   "cell_type": "code",
   "execution_count": 4,
   "metadata": {},
   "outputs": [],
   "source": [
    "benches_c10 = pd.read_json('results-comino-batch10.json', orient='records')\n",
    "benches_c0 = pd.read_json('results-comino-full.json', orient='records')\n",
    "benches_n2 = pd.read_json('results-nuc-batch2.json', orient='records')"
   ]
  },
  {
   "cell_type": "code",
   "execution_count": 5,
   "metadata": {},
   "outputs": [],
   "source": [
    "benches_c10 = list(benches_c10.itertuples(index=None))\n",
    "benches_c0 = list(benches_c0.itertuples(index=None))\n",
    "benches_n2 = list(benches_n2.itertuples(index=None))"
   ]
  },
  {
   "cell_type": "code",
   "execution_count": 6,
   "metadata": {},
   "outputs": [
    {
     "data": {
      "text/plain": [
       "{'CuDF', 'Dask+CuDF', 'Modin', 'Pandas', 'PyArrow', 'PySpark', 'SQLite'}"
      ]
     },
     "execution_count": 6,
     "metadata": {},
     "output_type": "execute_result"
    }
   ],
   "source": [
    "backends = set(d.backend for d in itertools.chain(benches_n2, benches_c10, benches_c0))\n",
    "backends"
   ]
  },
  {
   "cell_type": "code",
   "execution_count": 14,
   "metadata": {},
   "outputs": [],
   "source": [
    "backends_order = ['Pandas', 'Modin', 'CuDF', 'PySpark', 'PyArrow', 'Dask+CuDF']\n",
    "total_files = 125\n",
    "def find_backend_result(results: list, backend: str, operation: str) -> Optional[float]:\n",
    "    for result in results:\n",
    "        if result.backend == backend and result.operation == operation:\n",
    "            secs_per_file = result.seconds / result.iterations\n",
    "            secs = total_files * secs_per_file\n",
    "            return f'{secs:.2f} s'\n",
    "    return None\n",
    "def compare_operation(operation: str) -> List[List[str]]:\n",
    "    result = []\n",
    "    for backend in backends_order:\n",
    "        row = []\n",
    "        row.append(backend)\n",
    "        row.append(find_backend_result(benches_n2, backend, operation))\n",
    "        row.append(find_backend_result(benches_c10, backend, operation))\n",
    "        row.append(find_backend_result(benches_c0, backend, operation))\n",
    "        result.append(row)\n",
    "    return tabulate.tabulate(result, headers=['Engine', 'Desktop (b=2)', 'Server (b=10)', 'Server (bulk)'])"
   ]
  },
  {
   "cell_type": "code",
   "execution_count": 15,
   "metadata": {},
   "outputs": [
    {
     "name": "stdout",
     "output_type": "stream",
     "text": [
      "Engine     Desktop (b=2)    Server (b=10)    Server (bulk)\n",
      "---------  ---------------  ---------------  ---------------\n",
      "Pandas     608.56 s         172.09 s         73.76 s\n",
      "Modin      743.05 s         141.85 s         7.60 s\n",
      "CuDF       61.58 s          16.65 s\n",
      "PySpark    159.76 s         68.28 s          158.94 s\n",
      "PyArrow    78.56 s          54.76 s          26.38 s\n",
      "Dask+CuDF                                    309.75 s\n"
     ]
    }
   ],
   "source": [
    "print(compare_operation('Q1'))"
   ]
  },
  {
   "cell_type": "code",
   "execution_count": 16,
   "metadata": {},
   "outputs": [
    {
     "name": "stdout",
     "output_type": "stream",
     "text": [
      "Engine     Desktop (b=2)    Server (b=10)    Server (bulk)\n",
      "---------  ---------------  ---------------  ---------------\n",
      "Pandas     535.10 s         114.07 s         20.14 s\n",
      "Modin      669.69 s         154.06 s         25.79 s\n",
      "CuDF       28.38 s          10.56 s\n",
      "PySpark    73.59 s          43.70 s\n",
      "PyArrow    62.67 s          40.99 s          14.63 s\n",
      "Dask+CuDF                                    166.51 s\n"
     ]
    }
   ],
   "source": [
    "print(compare_operation('Q2'))"
   ]
  },
  {
   "cell_type": "code",
   "execution_count": 17,
   "metadata": {},
   "outputs": [
    {
     "name": "stdout",
     "output_type": "stream",
     "text": [
      "Engine     Desktop (b=2)    Server (b=10)    Server (bulk)\n",
      "---------  ---------------  ---------------  ---------------\n",
      "Pandas     858.55 s         247.78 s         153.90 s\n",
      "Modin      729.07 s         153.71 s         15.91 s\n",
      "CuDF       25.51 s          11.23 s\n",
      "PySpark    125.08 s         63.10 s\n",
      "PyArrow    82.43 s                           36.18 s\n",
      "Dask+CuDF                                    295.24 s\n"
     ]
    }
   ],
   "source": [
    "print(compare_operation('Q3'))"
   ]
  },
  {
   "cell_type": "code",
   "execution_count": 13,
   "metadata": {},
   "outputs": [
    {
     "name": "stdout",
     "output_type": "stream",
     "text": [
      "Engine     Desktop (b=2)    Server (b=10)    Server (bulk)\n",
      "---------  ---------------  ---------------  ---------------\n",
      "Pandas     6.87 s/file      3.77 s/file      1.42 s/file\n",
      "Modin      8.19 s/file      1.98 s/file      0.57 s/file\n",
      "CuDF       0.22 s/file      0.10 s/file\n",
      "PySpark    5.35 s/file      1.09 s/file\n",
      "PyArrow    0.77 s/file                       0.34 s/file\n",
      "Dask+CuDF                                    3.26 s/file\n"
     ]
    }
   ],
   "source": [
    "print(compare_operation('Q4'))"
   ]
  },
  {
   "cell_type": "markdown",
   "metadata": {},
   "source": [
    "To summarize the results, here are the winners across categories:\n",
    "\n",
    "1. Consistent performance: **PyArrow**.\n",
    "2. Peak performance: **CuDF**.\n",
    "3. Energy efficiency: **CuDF**.\n",
    "4. Accessability: **Modin**.\n",
    "\n",
    "As for Spark and Dask, they are much harder to configure, less efficient and are harder to recommend."
   ]
  },
  {
   "cell_type": "markdown",
   "metadata": {},
   "source": [
    "TODO:\n",
    "\n",
    "1. Redo bulk on server for: Pandas, Modin, PyArrow.\n",
    "2. Redo batch-10 on server for PyArrow."
   ]
  }
 ],
 "metadata": {
  "kernelspec": {
   "display_name": "Python 3.7.7 ('base')",
   "language": "python",
   "name": "python3"
  },
  "language_info": {
   "codemirror_mode": {
    "name": "ipython",
    "version": 3
   },
   "file_extension": ".py",
   "mimetype": "text/x-python",
   "name": "python",
   "nbconvert_exporter": "python",
   "pygments_lexer": "ipython3",
   "version": "3.7.7"
  },
  "orig_nbformat": 4,
  "vscode": {
   "interpreter": {
    "hash": "14220765bd8b760bd40be74b85b9aaaa174e6a969b6c333837afb3f4516a6116"
   }
  }
 },
 "nbformat": 4,
 "nbformat_minor": 2
}
