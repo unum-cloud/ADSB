{
 "cells": [
  {
   "cell_type": "code",
   "execution_count": null,
   "metadata": {},
   "outputs": [],
   "source": [
    "import pandas as pd\n",
    "from os import listdir"
   ]
  },
  {
   "cell_type": "code",
   "execution_count": null,
   "metadata": {},
   "outputs": [],
   "source": [
    "cab_types = {\n",
    "    'fhv':0,\n",
    "    'green':1,\n",
    "    'yellow':2,\n",
    "}\n",
    "filenames = [x for x in listdir('data') if not x.startswith('fhv_')]\n",
    "paths = ['data/' + x for x in filenames]\n",
    "cab_types_per_path = [cab_types[x.split('_')[0]] for x in filenames]\n",
    "filenames"
   ]
  },
  {
   "cell_type": "code",
   "execution_count": null,
   "metadata": {},
   "outputs": [],
   "source": [
    "dfs = [pd.read_csv(\n",
    "    f, \n",
    "    nrows=100,\n",
    "    # usecols=[\n",
    "    #     'passenger_count',\n",
    "    #     'pickup_datetime',\n",
    "    #     'trip_distance',\n",
    "    #     'total_amount',\n",
    "    # ],\n",
    "    dtype={\n",
    "        'passenger_count': int,\n",
    "        'pickup_datetime': str,\n",
    "        'trip_distance':float,\n",
    "        'total_amount':float,\n",
    "    }\n",
    ") for f in paths]"
   ]
  },
  {
   "cell_type": "code",
   "execution_count": null,
   "metadata": {},
   "outputs": [],
   "source": [
    "for i in range(len(dfs)):\n",
    "    dfs[i]['cab_type'] = cab_types_per_path[i]"
   ]
  },
  {
   "cell_type": "code",
   "execution_count": null,
   "metadata": {},
   "outputs": [],
   "source": [
    "trips = pd.concat(dfs)"
   ]
  },
  {
   "cell_type": "code",
   "execution_count": null,
   "metadata": {},
   "outputs": [],
   "source": [
    "trips.shape"
   ]
  },
  {
   "cell_type": "code",
   "execution_count": null,
   "metadata": {},
   "outputs": [],
   "source": [
    "pd.set_option('display.max_columns', None)\n",
    "trips.head()"
   ]
  },
  {
   "cell_type": "markdown",
   "metadata": {},
   "source": [
    "### Query 1\n",
    "\n",
    "It's crucial to run `groupby` queries on integers. When working on a strings, processing a small sample took 1m5s, with integers - only 3s."
   ]
  },
  {
   "cell_type": "code",
   "execution_count": null,
   "metadata": {},
   "outputs": [],
   "source": [
    "selected_df = trips[['cab_type']]\n",
    "grouped_df = selected_df.groupby('cab_type')\n",
    "final_df = grouped_df.size().reset_index(name='counts')\n",
    "final_df"
   ]
  },
  {
   "cell_type": "markdown",
   "metadata": {},
   "source": [
    "### Query 2"
   ]
  },
  {
   "cell_type": "code",
   "execution_count": null,
   "metadata": {},
   "outputs": [],
   "source": [
    "selected_df = trips[['passenger_count', 'total_amount']]\n",
    "grouped_df = selected_df.groupby('passenger_count')\n",
    "final_df = grouped_df.mean().reset_index()\n",
    "final_df"
   ]
  },
  {
   "cell_type": "markdown",
   "metadata": {},
   "source": [
    "### Query 3"
   ]
  },
  {
   "cell_type": "code",
   "execution_count": null,
   "metadata": {},
   "outputs": [],
   "source": [
    "# TODO: Debug the rewriting warning.\n",
    "# TODO: understand why 2018 files contain 2019 year.\n",
    "\n",
    "pickup_filed_name = 'lpep_pickup_datetime' # not the 'pickup_datetime', 'lpep_pickup_datetime'\n",
    "selected_df = trips[['passenger_count', pickup_filed_name]]\n",
    "selected_df['year'] = pd.to_datetime(selected_df.pop(pickup_filed_name), format='%Y-%m-%d %H:%M:%S').dt.year\n",
    "grouped_df = selected_df.groupby(['passenger_count', 'year'])\n",
    "final_df = grouped_df.size().reset_index(name='counts')\n",
    "final_df"
   ]
  },
  {
   "cell_type": "markdown",
   "metadata": {},
   "source": [
    "### Query 4"
   ]
  },
  {
   "cell_type": "code",
   "execution_count": null,
   "metadata": {},
   "outputs": [],
   "source": [
    "selected_df = trips[['passenger_count', pickup_filed_name, 'trip_distance']]\n",
    "selected_df['trip_distance'] = selected_df['trip_distance'].round().astype(int)\n",
    "selected_df['year'] = pd.to_datetime(selected_df.pop(pickup_filed_name), format='%Y-%m-%d %H:%M:%S').dt.year\n",
    "grouped_df = selected_df.groupby(['passenger_count', 'year', 'trip_distance'])\n",
    "final_df = grouped_df.size().reset_index(name='counts').copy()\n",
    "final_df = final_df.sort_values(['year', 'counts'], ascending=[True, False]) \n",
    "final_df"
   ]
  },
  {
   "cell_type": "code",
   "execution_count": null,
   "metadata": {},
   "outputs": [],
   "source": []
  }
 ],
 "metadata": {
  "interpreter": {
   "hash": "14220765bd8b760bd40be74b85b9aaaa174e6a969b6c333837afb3f4516a6116"
  },
  "kernelspec": {
   "display_name": "Python 3.7.7 64-bit ('base': conda)",
   "language": "python",
   "name": "python3"
  },
  "language_info": {
   "codemirror_mode": {
    "name": "ipython",
    "version": 3
   },
   "file_extension": ".py",
   "mimetype": "text/x-python",
   "name": "python",
   "nbconvert_exporter": "python",
   "pygments_lexer": "ipython3",
   "version": "3.7.7"
  },
  "orig_nbformat": 4
 },
 "nbformat": 4,
 "nbformat_minor": 2
}
